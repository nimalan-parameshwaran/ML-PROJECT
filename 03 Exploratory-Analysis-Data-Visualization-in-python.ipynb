{
 "cells": [
  {
   "cell_type": "code",
   "execution_count": 1,
   "id": "59acd603",
   "metadata": {
    "execution": {
     "iopub.execute_input": "2022-11-03T18:00:49.244426Z",
     "iopub.status.busy": "2022-11-03T18:00:49.243671Z",
     "iopub.status.idle": "2022-11-03T18:00:50.382078Z",
     "shell.execute_reply": "2022-11-03T18:00:50.380803Z"
    },
    "papermill": {
     "duration": 1.179686,
     "end_time": "2022-11-03T18:00:50.385799",
     "exception": false,
     "start_time": "2022-11-03T18:00:49.206113",
     "status": "completed"
    },
    "tags": []
   },
   "outputs": [],
   "source": [
    "# Importing all the libraries required for data analysis and visualisation\n",
    "\n",
    "import pandas as pd\n",
    "import numpy as np\n",
    "import seaborn as sns\n",
    "import matplotlib.pyplot as plt\n",
    "%matplotlib inline\n",
    "sns.set(color_codes = True)   # adds background to the grapgh\n",
    "sns.set_palette(palette = 'magma', n_colors = 8)   # set the default color palette "
   ]
  },
  {
   "cell_type": "code",
   "execution_count": 2,
   "id": "2e425c0b",
   "metadata": {
    "execution": {
     "iopub.execute_input": "2022-11-03T18:00:50.442640Z",
     "iopub.status.busy": "2022-11-03T18:00:50.441818Z",
     "iopub.status.idle": "2022-11-03T18:00:50.446954Z",
     "shell.execute_reply": "2022-11-03T18:00:50.445834Z"
    },
    "papermill": {
     "duration": 0.036637,
     "end_time": "2022-11-03T18:00:50.449394",
     "exception": false,
     "start_time": "2022-11-03T18:00:50.412757",
     "status": "completed"
    },
    "tags": []
   },
   "outputs": [],
   "source": [
    "# Library required to suppress any warning messages\n",
    "\n",
    "import warnings\n",
    "warnings.filterwarnings('ignore')"
   ]
  },
  {
   "cell_type": "code",
   "execution_count": 3,
   "id": "e33f7ec8",
   "metadata": {
    "execution": {
     "iopub.execute_input": "2022-11-03T18:00:50.503873Z",
     "iopub.status.busy": "2022-11-03T18:00:50.503062Z",
     "iopub.status.idle": "2022-11-03T18:00:50.525101Z",
     "shell.execute_reply": "2022-11-03T18:00:50.524007Z"
    },
    "papermill": {
     "duration": 0.052572,
     "end_time": "2022-11-03T18:00:50.527912",
     "exception": false,
     "start_time": "2022-11-03T18:00:50.475340",
     "status": "completed"
    },
    "tags": []
   },
   "outputs": [],
   "source": [
    "# Loading the dataset from the directory\n",
    "\n",
    "data = pd.read_csv('../input/cardio-good-fitness/CardioGoodFitness.csv')"
   ]
  },
  {
   "cell_type": "markdown",
   "id": "56fd8865",
   "metadata": {
    "_kg_hide-output": true,
    "papermill": {
     "duration": 0.026419,
     "end_time": "2022-11-03T18:00:50.582728",
     "exception": false,
     "start_time": "2022-11-03T18:00:50.556309",
     "status": "completed"
    },
    "tags": []
   },
   "source": [
    "# Data Structure Analysis"
   ]
  },
  {
   "cell_type": "code",
   "execution_count": 4,
   "id": "aeefded5",
   "metadata": {
    "execution": {
     "iopub.execute_input": "2022-11-03T18:00:50.637970Z",
     "iopub.status.busy": "2022-11-03T18:00:50.637487Z",
     "iopub.status.idle": "2022-11-03T18:00:50.663323Z",
     "shell.execute_reply": "2022-11-03T18:00:50.661993Z"
    },
    "papermill": {
     "duration": 0.057143,
     "end_time": "2022-11-03T18:00:50.666495",
     "exception": false,
     "start_time": "2022-11-03T18:00:50.609352",
     "status": "completed"
    },
    "tags": []
   },
   "outputs": [
    {
     "data": {
      "text/html": [
       "<div>\n",
       "<style scoped>\n",
       "    .dataframe tbody tr th:only-of-type {\n",
       "        vertical-align: middle;\n",
       "    }\n",
       "\n",
       "    .dataframe tbody tr th {\n",
       "        vertical-align: top;\n",
       "    }\n",
       "\n",
       "    .dataframe thead th {\n",
       "        text-align: right;\n",
       "    }\n",
       "</style>\n",
       "<table border=\"1\" class=\"dataframe\">\n",
       "  <thead>\n",
       "    <tr style=\"text-align: right;\">\n",
       "      <th></th>\n",
       "      <th>Product</th>\n",
       "      <th>Age</th>\n",
       "      <th>Gender</th>\n",
       "      <th>Education</th>\n",
       "      <th>MaritalStatus</th>\n",
       "      <th>Usage</th>\n",
       "      <th>Fitness</th>\n",
       "      <th>Income</th>\n",
       "      <th>Miles</th>\n",
       "    </tr>\n",
       "  </thead>\n",
       "  <tbody>\n",
       "    <tr>\n",
       "      <th>96</th>\n",
       "      <td>TM498</td>\n",
       "      <td>24</td>\n",
       "      <td>Female</td>\n",
       "      <td>16</td>\n",
       "      <td>Single</td>\n",
       "      <td>3</td>\n",
       "      <td>3</td>\n",
       "      <td>50028</td>\n",
       "      <td>106</td>\n",
       "    </tr>\n",
       "    <tr>\n",
       "      <th>77</th>\n",
       "      <td>TM195</td>\n",
       "      <td>46</td>\n",
       "      <td>Female</td>\n",
       "      <td>16</td>\n",
       "      <td>Partnered</td>\n",
       "      <td>3</td>\n",
       "      <td>2</td>\n",
       "      <td>60261</td>\n",
       "      <td>47</td>\n",
       "    </tr>\n",
       "    <tr>\n",
       "      <th>176</th>\n",
       "      <td>TM798</td>\n",
       "      <td>42</td>\n",
       "      <td>Male</td>\n",
       "      <td>18</td>\n",
       "      <td>Single</td>\n",
       "      <td>5</td>\n",
       "      <td>4</td>\n",
       "      <td>89641</td>\n",
       "      <td>200</td>\n",
       "    </tr>\n",
       "    <tr>\n",
       "      <th>24</th>\n",
       "      <td>TM195</td>\n",
       "      <td>24</td>\n",
       "      <td>Male</td>\n",
       "      <td>14</td>\n",
       "      <td>Single</td>\n",
       "      <td>2</td>\n",
       "      <td>3</td>\n",
       "      <td>45480</td>\n",
       "      <td>113</td>\n",
       "    </tr>\n",
       "    <tr>\n",
       "      <th>117</th>\n",
       "      <td>TM498</td>\n",
       "      <td>31</td>\n",
       "      <td>Female</td>\n",
       "      <td>18</td>\n",
       "      <td>Single</td>\n",
       "      <td>2</td>\n",
       "      <td>1</td>\n",
       "      <td>65220</td>\n",
       "      <td>21</td>\n",
       "    </tr>\n",
       "    <tr>\n",
       "      <th>5</th>\n",
       "      <td>TM195</td>\n",
       "      <td>20</td>\n",
       "      <td>Female</td>\n",
       "      <td>14</td>\n",
       "      <td>Partnered</td>\n",
       "      <td>3</td>\n",
       "      <td>3</td>\n",
       "      <td>32973</td>\n",
       "      <td>66</td>\n",
       "    </tr>\n",
       "    <tr>\n",
       "      <th>171</th>\n",
       "      <td>TM798</td>\n",
       "      <td>33</td>\n",
       "      <td>Female</td>\n",
       "      <td>18</td>\n",
       "      <td>Partnered</td>\n",
       "      <td>4</td>\n",
       "      <td>5</td>\n",
       "      <td>95866</td>\n",
       "      <td>200</td>\n",
       "    </tr>\n",
       "    <tr>\n",
       "      <th>2</th>\n",
       "      <td>TM195</td>\n",
       "      <td>19</td>\n",
       "      <td>Female</td>\n",
       "      <td>14</td>\n",
       "      <td>Partnered</td>\n",
       "      <td>4</td>\n",
       "      <td>3</td>\n",
       "      <td>30699</td>\n",
       "      <td>66</td>\n",
       "    </tr>\n",
       "    <tr>\n",
       "      <th>177</th>\n",
       "      <td>TM798</td>\n",
       "      <td>45</td>\n",
       "      <td>Male</td>\n",
       "      <td>16</td>\n",
       "      <td>Single</td>\n",
       "      <td>5</td>\n",
       "      <td>5</td>\n",
       "      <td>90886</td>\n",
       "      <td>160</td>\n",
       "    </tr>\n",
       "    <tr>\n",
       "      <th>12</th>\n",
       "      <td>TM195</td>\n",
       "      <td>22</td>\n",
       "      <td>Female</td>\n",
       "      <td>16</td>\n",
       "      <td>Single</td>\n",
       "      <td>4</td>\n",
       "      <td>3</td>\n",
       "      <td>36384</td>\n",
       "      <td>75</td>\n",
       "    </tr>\n",
       "  </tbody>\n",
       "</table>\n",
       "</div>"
      ],
      "text/plain": [
       "    Product  Age  Gender  Education MaritalStatus  Usage  Fitness  Income  \\\n",
       "96    TM498   24  Female         16        Single      3        3   50028   \n",
       "77    TM195   46  Female         16     Partnered      3        2   60261   \n",
       "176   TM798   42    Male         18        Single      5        4   89641   \n",
       "24    TM195   24    Male         14        Single      2        3   45480   \n",
       "117   TM498   31  Female         18        Single      2        1   65220   \n",
       "5     TM195   20  Female         14     Partnered      3        3   32973   \n",
       "171   TM798   33  Female         18     Partnered      4        5   95866   \n",
       "2     TM195   19  Female         14     Partnered      4        3   30699   \n",
       "177   TM798   45    Male         16        Single      5        5   90886   \n",
       "12    TM195   22  Female         16        Single      4        3   36384   \n",
       "\n",
       "     Miles  \n",
       "96     106  \n",
       "77      47  \n",
       "176    200  \n",
       "24     113  \n",
       "117     21  \n",
       "5       66  \n",
       "171    200  \n",
       "2       66  \n",
       "177    160  \n",
       "12      75  "
      ]
     },
     "execution_count": 4,
     "metadata": {},
     "output_type": "execute_result"
    }
   ],
   "source": [
    "# Viewing random 10 observations in the dataset\n",
    "\n",
    "data.sample(10) "
   ]
  },
  {
   "cell_type": "markdown",
   "id": "f701b96d",
   "metadata": {
    "papermill": {
     "duration": 0.026545,
     "end_time": "2022-11-03T18:00:50.719553",
     "exception": false,
     "start_time": "2022-11-03T18:00:50.693008",
     "status": "completed"
    },
    "tags": []
   },
   "source": [
    "* The sample data shows different model numbers of the Product\n",
    "* Observations on customer's age, education, income and gender\n",
    "* Observations on the average usage, average miles run/week and also the self fitness rating of the customers"
   ]
  },
  {
   "cell_type": "code",
   "execution_count": 5,
   "id": "48da2e76",
   "metadata": {
    "execution": {
     "iopub.execute_input": "2022-11-03T18:00:50.774325Z",
     "iopub.status.busy": "2022-11-03T18:00:50.773850Z",
     "iopub.status.idle": "2022-11-03T18:00:50.781543Z",
     "shell.execute_reply": "2022-11-03T18:00:50.780233Z"
    },
    "papermill": {
     "duration": 0.038027,
     "end_time": "2022-11-03T18:00:50.783895",
     "exception": false,
     "start_time": "2022-11-03T18:00:50.745868",
     "status": "completed"
    },
    "tags": []
   },
   "outputs": [
    {
     "data": {
      "text/plain": [
       "(180, 9)"
      ]
     },
     "execution_count": 5,
     "metadata": {},
     "output_type": "execute_result"
    }
   ],
   "source": [
    "# Checking the shape of the dataset\n",
    "\n",
    "data.shape"
   ]
  },
  {
   "cell_type": "markdown",
   "id": "366c0bb3",
   "metadata": {
    "papermill": {
     "duration": 0.025851,
     "end_time": "2022-11-03T18:00:50.836367",
     "exception": false,
     "start_time": "2022-11-03T18:00:50.810516",
     "status": "completed"
    },
    "tags": []
   },
   "source": [
    "* There are 180 rows and 9 columns in the dataset"
   ]
  },
  {
   "cell_type": "code",
   "execution_count": 6,
   "id": "df7a95e8",
   "metadata": {
    "execution": {
     "iopub.execute_input": "2022-11-03T18:00:50.891898Z",
     "iopub.status.busy": "2022-11-03T18:00:50.890668Z",
     "iopub.status.idle": "2022-11-03T18:00:50.900143Z",
     "shell.execute_reply": "2022-11-03T18:00:50.898954Z"
    },
    "papermill": {
     "duration": 0.039823,
     "end_time": "2022-11-03T18:00:50.902660",
     "exception": false,
     "start_time": "2022-11-03T18:00:50.862837",
     "status": "completed"
    },
    "tags": []
   },
   "outputs": [
    {
     "data": {
      "text/plain": [
       "Product          object\n",
       "Age               int64\n",
       "Gender           object\n",
       "Education         int64\n",
       "MaritalStatus    object\n",
       "Usage             int64\n",
       "Fitness           int64\n",
       "Income            int64\n",
       "Miles             int64\n",
       "dtype: object"
      ]
     },
     "execution_count": 6,
     "metadata": {},
     "output_type": "execute_result"
    }
   ],
   "source": [
    "# Checking for all the different datatypes in the dataset\n",
    "\n",
    "data.dtypes"
   ]
  },
  {
   "cell_type": "markdown",
   "id": "a1108740",
   "metadata": {
    "papermill": {
     "duration": 0.025864,
     "end_time": "2022-11-03T18:00:50.954728",
     "exception": false,
     "start_time": "2022-11-03T18:00:50.928864",
     "status": "completed"
    },
    "tags": []
   },
   "source": [
    "* Among the 9 columns, Product, Gender and Marital Status are of 'object' datatype\n",
    "* And the rest are all 'integer' datatype"
   ]
  },
  {
   "cell_type": "code",
   "execution_count": 7,
   "id": "83a89a74",
   "metadata": {
    "execution": {
     "iopub.execute_input": "2022-11-03T18:00:51.009315Z",
     "iopub.status.busy": "2022-11-03T18:00:51.008880Z",
     "iopub.status.idle": "2022-11-03T18:00:51.024470Z",
     "shell.execute_reply": "2022-11-03T18:00:51.023250Z"
    },
    "papermill": {
     "duration": 0.04564,
     "end_time": "2022-11-03T18:00:51.026757",
     "exception": false,
     "start_time": "2022-11-03T18:00:50.981117",
     "status": "completed"
    },
    "tags": []
   },
   "outputs": [],
   "source": [
    "# Converting 'object' data types to 'category' for further data analysis\n",
    "\n",
    "data.Product = data.Product.astype('category')\n",
    "data.Gender = data.Gender.astype('category')\n",
    "data.MaritalStatus = data.MaritalStatus.astype('category')"
   ]
  },
  {
   "cell_type": "code",
   "execution_count": 8,
   "id": "9a177e98",
   "metadata": {
    "execution": {
     "iopub.execute_input": "2022-11-03T18:00:51.082344Z",
     "iopub.status.busy": "2022-11-03T18:00:51.081320Z",
     "iopub.status.idle": "2022-11-03T18:00:51.090407Z",
     "shell.execute_reply": "2022-11-03T18:00:51.089077Z"
    },
    "papermill": {
     "duration": 0.039528,
     "end_time": "2022-11-03T18:00:51.092822",
     "exception": false,
     "start_time": "2022-11-03T18:00:51.053294",
     "status": "completed"
    },
    "tags": []
   },
   "outputs": [
    {
     "data": {
      "text/plain": [
       "Product          category\n",
       "Age                 int64\n",
       "Gender           category\n",
       "Education           int64\n",
       "MaritalStatus    category\n",
       "Usage               int64\n",
       "Fitness             int64\n",
       "Income              int64\n",
       "Miles               int64\n",
       "dtype: object"
      ]
     },
     "execution_count": 8,
     "metadata": {},
     "output_type": "execute_result"
    }
   ],
   "source": [
    "# Checking the data types again\n",
    "\n",
    "data.dtypes"
   ]
  },
  {
   "cell_type": "markdown",
   "id": "c84d4e25",
   "metadata": {
    "papermill": {
     "duration": 0.026109,
     "end_time": "2022-11-03T18:00:51.145693",
     "exception": false,
     "start_time": "2022-11-03T18:00:51.119584",
     "status": "completed"
    },
    "tags": []
   },
   "source": [
    "* Now we have 3 'category' and 6 'integer' datatypes columns in the dataset"
   ]
  },
  {
   "cell_type": "code",
   "execution_count": 9,
   "id": "a8b7cf04",
   "metadata": {
    "execution": {
     "iopub.execute_input": "2022-11-03T18:00:51.200637Z",
     "iopub.status.busy": "2022-11-03T18:00:51.200176Z",
     "iopub.status.idle": "2022-11-03T18:00:51.229284Z",
     "shell.execute_reply": "2022-11-03T18:00:51.228432Z"
    },
    "papermill": {
     "duration": 0.060186,
     "end_time": "2022-11-03T18:00:51.232341",
     "exception": false,
     "start_time": "2022-11-03T18:00:51.172155",
     "status": "completed"
    },
    "tags": []
   },
   "outputs": [
    {
     "data": {
      "text/html": [
       "<div>\n",
       "<style scoped>\n",
       "    .dataframe tbody tr th:only-of-type {\n",
       "        vertical-align: middle;\n",
       "    }\n",
       "\n",
       "    .dataframe tbody tr th {\n",
       "        vertical-align: top;\n",
       "    }\n",
       "\n",
       "    .dataframe thead th {\n",
       "        text-align: right;\n",
       "    }\n",
       "</style>\n",
       "<table border=\"1\" class=\"dataframe\">\n",
       "  <thead>\n",
       "    <tr style=\"text-align: right;\">\n",
       "      <th></th>\n",
       "      <th>Product</th>\n",
       "      <th>Age</th>\n",
       "      <th>Gender</th>\n",
       "      <th>Education</th>\n",
       "      <th>MaritalStatus</th>\n",
       "      <th>Usage</th>\n",
       "      <th>Fitness</th>\n",
       "      <th>Income</th>\n",
       "      <th>Miles</th>\n",
       "    </tr>\n",
       "  </thead>\n",
       "  <tbody>\n",
       "    <tr>\n",
       "      <th>0</th>\n",
       "      <td>False</td>\n",
       "      <td>False</td>\n",
       "      <td>False</td>\n",
       "      <td>False</td>\n",
       "      <td>False</td>\n",
       "      <td>False</td>\n",
       "      <td>False</td>\n",
       "      <td>False</td>\n",
       "      <td>False</td>\n",
       "    </tr>\n",
       "    <tr>\n",
       "      <th>1</th>\n",
       "      <td>False</td>\n",
       "      <td>False</td>\n",
       "      <td>False</td>\n",
       "      <td>False</td>\n",
       "      <td>False</td>\n",
       "      <td>False</td>\n",
       "      <td>False</td>\n",
       "      <td>False</td>\n",
       "      <td>False</td>\n",
       "    </tr>\n",
       "    <tr>\n",
       "      <th>2</th>\n",
       "      <td>False</td>\n",
       "      <td>False</td>\n",
       "      <td>False</td>\n",
       "      <td>False</td>\n",
       "      <td>False</td>\n",
       "      <td>False</td>\n",
       "      <td>False</td>\n",
       "      <td>False</td>\n",
       "      <td>False</td>\n",
       "    </tr>\n",
       "    <tr>\n",
       "      <th>3</th>\n",
       "      <td>False</td>\n",
       "      <td>False</td>\n",
       "      <td>False</td>\n",
       "      <td>False</td>\n",
       "      <td>False</td>\n",
       "      <td>False</td>\n",
       "      <td>False</td>\n",
       "      <td>False</td>\n",
       "      <td>False</td>\n",
       "    </tr>\n",
       "    <tr>\n",
       "      <th>4</th>\n",
       "      <td>False</td>\n",
       "      <td>False</td>\n",
       "      <td>False</td>\n",
       "      <td>False</td>\n",
       "      <td>False</td>\n",
       "      <td>False</td>\n",
       "      <td>False</td>\n",
       "      <td>False</td>\n",
       "      <td>False</td>\n",
       "    </tr>\n",
       "    <tr>\n",
       "      <th>...</th>\n",
       "      <td>...</td>\n",
       "      <td>...</td>\n",
       "      <td>...</td>\n",
       "      <td>...</td>\n",
       "      <td>...</td>\n",
       "      <td>...</td>\n",
       "      <td>...</td>\n",
       "      <td>...</td>\n",
       "      <td>...</td>\n",
       "    </tr>\n",
       "    <tr>\n",
       "      <th>175</th>\n",
       "      <td>False</td>\n",
       "      <td>False</td>\n",
       "      <td>False</td>\n",
       "      <td>False</td>\n",
       "      <td>False</td>\n",
       "      <td>False</td>\n",
       "      <td>False</td>\n",
       "      <td>False</td>\n",
       "      <td>False</td>\n",
       "    </tr>\n",
       "    <tr>\n",
       "      <th>176</th>\n",
       "      <td>False</td>\n",
       "      <td>False</td>\n",
       "      <td>False</td>\n",
       "      <td>False</td>\n",
       "      <td>False</td>\n",
       "      <td>False</td>\n",
       "      <td>False</td>\n",
       "      <td>False</td>\n",
       "      <td>False</td>\n",
       "    </tr>\n",
       "    <tr>\n",
       "      <th>177</th>\n",
       "      <td>False</td>\n",
       "      <td>False</td>\n",
       "      <td>False</td>\n",
       "      <td>False</td>\n",
       "      <td>False</td>\n",
       "      <td>False</td>\n",
       "      <td>False</td>\n",
       "      <td>False</td>\n",
       "      <td>False</td>\n",
       "    </tr>\n",
       "    <tr>\n",
       "      <th>178</th>\n",
       "      <td>False</td>\n",
       "      <td>False</td>\n",
       "      <td>False</td>\n",
       "      <td>False</td>\n",
       "      <td>False</td>\n",
       "      <td>False</td>\n",
       "      <td>False</td>\n",
       "      <td>False</td>\n",
       "      <td>False</td>\n",
       "    </tr>\n",
       "    <tr>\n",
       "      <th>179</th>\n",
       "      <td>False</td>\n",
       "      <td>False</td>\n",
       "      <td>False</td>\n",
       "      <td>False</td>\n",
       "      <td>False</td>\n",
       "      <td>False</td>\n",
       "      <td>False</td>\n",
       "      <td>False</td>\n",
       "      <td>False</td>\n",
       "    </tr>\n",
       "  </tbody>\n",
       "</table>\n",
       "<p>180 rows × 9 columns</p>\n",
       "</div>"
      ],
      "text/plain": [
       "     Product    Age  Gender  Education  MaritalStatus  Usage  Fitness  Income  \\\n",
       "0      False  False   False      False          False  False    False   False   \n",
       "1      False  False   False      False          False  False    False   False   \n",
       "2      False  False   False      False          False  False    False   False   \n",
       "3      False  False   False      False          False  False    False   False   \n",
       "4      False  False   False      False          False  False    False   False   \n",
       "..       ...    ...     ...        ...            ...    ...      ...     ...   \n",
       "175    False  False   False      False          False  False    False   False   \n",
       "176    False  False   False      False          False  False    False   False   \n",
       "177    False  False   False      False          False  False    False   False   \n",
       "178    False  False   False      False          False  False    False   False   \n",
       "179    False  False   False      False          False  False    False   False   \n",
       "\n",
       "     Miles  \n",
       "0    False  \n",
       "1    False  \n",
       "2    False  \n",
       "3    False  \n",
       "4    False  \n",
       "..     ...  \n",
       "175  False  \n",
       "176  False  \n",
       "177  False  \n",
       "178  False  \n",
       "179  False  \n",
       "\n",
       "[180 rows x 9 columns]"
      ]
     },
     "execution_count": 9,
     "metadata": {},
     "output_type": "execute_result"
    }
   ],
   "source": [
    "# Checking for any missing values\n",
    "\n",
    "data.isnull()"
   ]
  },
  {
   "cell_type": "markdown",
   "id": "c7be652d",
   "metadata": {
    "papermill": {
     "duration": 0.035043,
     "end_time": "2022-11-03T18:00:51.303474",
     "exception": false,
     "start_time": "2022-11-03T18:00:51.268431",
     "status": "completed"
    },
    "tags": []
   },
   "source": [
    "* There doesn't seem to be any missing values.\n",
    "* Confirming the same with the following step."
   ]
  },
  {
   "cell_type": "code",
   "execution_count": 10,
   "id": "6b0a947a",
   "metadata": {
    "execution": {
     "iopub.execute_input": "2022-11-03T18:00:51.362863Z",
     "iopub.status.busy": "2022-11-03T18:00:51.362043Z",
     "iopub.status.idle": "2022-11-03T18:00:51.382160Z",
     "shell.execute_reply": "2022-11-03T18:00:51.380705Z"
    },
    "papermill": {
     "duration": 0.052673,
     "end_time": "2022-11-03T18:00:51.386343",
     "exception": false,
     "start_time": "2022-11-03T18:00:51.333670",
     "status": "completed"
    },
    "tags": []
   },
   "outputs": [
    {
     "name": "stdout",
     "output_type": "stream",
     "text": [
      "<class 'pandas.core.frame.DataFrame'>\n",
      "RangeIndex: 180 entries, 0 to 179\n",
      "Data columns (total 9 columns):\n",
      " #   Column         Non-Null Count  Dtype   \n",
      "---  ------         --------------  -----   \n",
      " 0   Product        180 non-null    category\n",
      " 1   Age            180 non-null    int64   \n",
      " 2   Gender         180 non-null    category\n",
      " 3   Education      180 non-null    int64   \n",
      " 4   MaritalStatus  180 non-null    category\n",
      " 5   Usage          180 non-null    int64   \n",
      " 6   Fitness        180 non-null    int64   \n",
      " 7   Income         180 non-null    int64   \n",
      " 8   Miles          180 non-null    int64   \n",
      "dtypes: category(3), int64(6)\n",
      "memory usage: 9.5 KB\n"
     ]
    }
   ],
   "source": [
    "# Viewing the overall information about the dataset\n",
    "\n",
    "data.info()"
   ]
  },
  {
   "cell_type": "markdown",
   "id": "0799937f",
   "metadata": {
    "papermill": {
     "duration": 0.027353,
     "end_time": "2022-11-03T18:00:51.441320",
     "exception": false,
     "start_time": "2022-11-03T18:00:51.413967",
     "status": "completed"
    },
    "tags": []
   },
   "source": [
    "* There are no missing values in the dataset\n",
    "* There are 3 'category' and 6 'integer' columns\n",
    "* Memory space utilisied by the data file is 12.8+ KB"
   ]
  },
  {
   "cell_type": "code",
   "execution_count": 11,
   "id": "d57d8a6a",
   "metadata": {
    "execution": {
     "iopub.execute_input": "2022-11-03T18:00:51.499387Z",
     "iopub.status.busy": "2022-11-03T18:00:51.498629Z",
     "iopub.status.idle": "2022-11-03T18:00:51.532482Z",
     "shell.execute_reply": "2022-11-03T18:00:51.531292Z"
    },
    "papermill": {
     "duration": 0.065289,
     "end_time": "2022-11-03T18:00:51.535052",
     "exception": false,
     "start_time": "2022-11-03T18:00:51.469763",
     "status": "completed"
    },
    "tags": []
   },
   "outputs": [
    {
     "data": {
      "text/html": [
       "<div>\n",
       "<style scoped>\n",
       "    .dataframe tbody tr th:only-of-type {\n",
       "        vertical-align: middle;\n",
       "    }\n",
       "\n",
       "    .dataframe tbody tr th {\n",
       "        vertical-align: top;\n",
       "    }\n",
       "\n",
       "    .dataframe thead th {\n",
       "        text-align: right;\n",
       "    }\n",
       "</style>\n",
       "<table border=\"1\" class=\"dataframe\">\n",
       "  <thead>\n",
       "    <tr style=\"text-align: right;\">\n",
       "      <th></th>\n",
       "      <th>count</th>\n",
       "      <th>mean</th>\n",
       "      <th>std</th>\n",
       "      <th>min</th>\n",
       "      <th>25%</th>\n",
       "      <th>50%</th>\n",
       "      <th>75%</th>\n",
       "      <th>max</th>\n",
       "    </tr>\n",
       "  </thead>\n",
       "  <tbody>\n",
       "    <tr>\n",
       "      <th>Age</th>\n",
       "      <td>180.0</td>\n",
       "      <td>28.788889</td>\n",
       "      <td>6.943498</td>\n",
       "      <td>18.0</td>\n",
       "      <td>24.00</td>\n",
       "      <td>26.0</td>\n",
       "      <td>33.00</td>\n",
       "      <td>50.0</td>\n",
       "    </tr>\n",
       "    <tr>\n",
       "      <th>Education</th>\n",
       "      <td>180.0</td>\n",
       "      <td>15.572222</td>\n",
       "      <td>1.617055</td>\n",
       "      <td>12.0</td>\n",
       "      <td>14.00</td>\n",
       "      <td>16.0</td>\n",
       "      <td>16.00</td>\n",
       "      <td>21.0</td>\n",
       "    </tr>\n",
       "    <tr>\n",
       "      <th>Usage</th>\n",
       "      <td>180.0</td>\n",
       "      <td>3.455556</td>\n",
       "      <td>1.084797</td>\n",
       "      <td>2.0</td>\n",
       "      <td>3.00</td>\n",
       "      <td>3.0</td>\n",
       "      <td>4.00</td>\n",
       "      <td>7.0</td>\n",
       "    </tr>\n",
       "    <tr>\n",
       "      <th>Fitness</th>\n",
       "      <td>180.0</td>\n",
       "      <td>3.311111</td>\n",
       "      <td>0.958869</td>\n",
       "      <td>1.0</td>\n",
       "      <td>3.00</td>\n",
       "      <td>3.0</td>\n",
       "      <td>4.00</td>\n",
       "      <td>5.0</td>\n",
       "    </tr>\n",
       "    <tr>\n",
       "      <th>Income</th>\n",
       "      <td>180.0</td>\n",
       "      <td>53719.577778</td>\n",
       "      <td>16506.684226</td>\n",
       "      <td>29562.0</td>\n",
       "      <td>44058.75</td>\n",
       "      <td>50596.5</td>\n",
       "      <td>58668.00</td>\n",
       "      <td>104581.0</td>\n",
       "    </tr>\n",
       "    <tr>\n",
       "      <th>Miles</th>\n",
       "      <td>180.0</td>\n",
       "      <td>103.194444</td>\n",
       "      <td>51.863605</td>\n",
       "      <td>21.0</td>\n",
       "      <td>66.00</td>\n",
       "      <td>94.0</td>\n",
       "      <td>114.75</td>\n",
       "      <td>360.0</td>\n",
       "    </tr>\n",
       "  </tbody>\n",
       "</table>\n",
       "</div>"
      ],
      "text/plain": [
       "           count          mean           std      min       25%      50%  \\\n",
       "Age        180.0     28.788889      6.943498     18.0     24.00     26.0   \n",
       "Education  180.0     15.572222      1.617055     12.0     14.00     16.0   \n",
       "Usage      180.0      3.455556      1.084797      2.0      3.00      3.0   \n",
       "Fitness    180.0      3.311111      0.958869      1.0      3.00      3.0   \n",
       "Income     180.0  53719.577778  16506.684226  29562.0  44058.75  50596.5   \n",
       "Miles      180.0    103.194444     51.863605     21.0     66.00     94.0   \n",
       "\n",
       "                75%       max  \n",
       "Age           33.00      50.0  \n",
       "Education     16.00      21.0  \n",
       "Usage          4.00       7.0  \n",
       "Fitness        4.00       5.0  \n",
       "Income     58668.00  104581.0  \n",
       "Miles        114.75     360.0  "
      ]
     },
     "execution_count": 11,
     "metadata": {},
     "output_type": "execute_result"
    }
   ],
   "source": [
    "# Checking the statistical summary of the numerical variables in the dataset \n",
    "# 'T' is to transpose the output\n",
    "\n",
    "data.describe().T"
   ]
  },
  {
   "cell_type": "markdown",
   "id": "e80bf550",
   "metadata": {
    "papermill": {
     "duration": 0.026657,
     "end_time": "2022-11-03T18:00:51.588908",
     "exception": false,
     "start_time": "2022-11-03T18:00:51.562251",
     "status": "completed"
    },
    "tags": []
   },
   "source": [
    "* Customers range from 18 to 50 years of age.\n",
    "* Customer age and income are both right skewed as the mean is greater than the median.\n",
    "* The average education of the customers is 15.6 years.\n",
    "* Maximum usage of the treadmill/week is 7 days whereas the minimum is only 2 days.\n",
    "* The 1st, 2nd and the 3rd quartile values are same for both Usage and Fitness.\n",
    "* The differnce between the 3rd quartlie and the maximum values of the Miles run indicates a significant number of outliers"
   ]
  },
  {
   "cell_type": "code",
   "execution_count": 12,
   "id": "e6105b70",
   "metadata": {
    "execution": {
     "iopub.execute_input": "2022-11-03T18:00:51.645360Z",
     "iopub.status.busy": "2022-11-03T18:00:51.644548Z",
     "iopub.status.idle": "2022-11-03T18:00:51.663994Z",
     "shell.execute_reply": "2022-11-03T18:00:51.662788Z"
    },
    "papermill": {
     "duration": 0.050562,
     "end_time": "2022-11-03T18:00:51.666539",
     "exception": false,
     "start_time": "2022-11-03T18:00:51.615977",
     "status": "completed"
    },
    "tags": []
   },
   "outputs": [
    {
     "data": {
      "text/html": [
       "<div>\n",
       "<style scoped>\n",
       "    .dataframe tbody tr th:only-of-type {\n",
       "        vertical-align: middle;\n",
       "    }\n",
       "\n",
       "    .dataframe tbody tr th {\n",
       "        vertical-align: top;\n",
       "    }\n",
       "\n",
       "    .dataframe thead th {\n",
       "        text-align: right;\n",
       "    }\n",
       "</style>\n",
       "<table border=\"1\" class=\"dataframe\">\n",
       "  <thead>\n",
       "    <tr style=\"text-align: right;\">\n",
       "      <th></th>\n",
       "      <th>count</th>\n",
       "      <th>unique</th>\n",
       "      <th>top</th>\n",
       "      <th>freq</th>\n",
       "    </tr>\n",
       "  </thead>\n",
       "  <tbody>\n",
       "    <tr>\n",
       "      <th>Product</th>\n",
       "      <td>180</td>\n",
       "      <td>3</td>\n",
       "      <td>TM195</td>\n",
       "      <td>80</td>\n",
       "    </tr>\n",
       "    <tr>\n",
       "      <th>Gender</th>\n",
       "      <td>180</td>\n",
       "      <td>2</td>\n",
       "      <td>Male</td>\n",
       "      <td>104</td>\n",
       "    </tr>\n",
       "    <tr>\n",
       "      <th>MaritalStatus</th>\n",
       "      <td>180</td>\n",
       "      <td>2</td>\n",
       "      <td>Partnered</td>\n",
       "      <td>107</td>\n",
       "    </tr>\n",
       "  </tbody>\n",
       "</table>\n",
       "</div>"
      ],
      "text/plain": [
       "              count unique        top freq\n",
       "Product         180      3      TM195   80\n",
       "Gender          180      2       Male  104\n",
       "MaritalStatus   180      2  Partnered  107"
      ]
     },
     "execution_count": 12,
     "metadata": {},
     "output_type": "execute_result"
    }
   ],
   "source": [
    "# Checking the summary of non-numerical values in the dataset\n",
    "\n",
    "data.describe(exclude = 'number').T"
   ]
  },
  {
   "cell_type": "markdown",
   "id": "5a56edd8",
   "metadata": {
    "papermill": {
     "duration": 0.026936,
     "end_time": "2022-11-03T18:00:51.720670",
     "exception": false,
     "start_time": "2022-11-03T18:00:51.693734",
     "status": "completed"
    },
    "tags": []
   },
   "source": [
    "* There are 3 different Treadmill Models in the observations.\n",
    "* Model number TM195 has the highest number of observations (80).\n",
    "* Out of 180 observations, 104 are Male and the remaining 76 are Female.\n",
    "* 107 observations were made on married customers."
   ]
  },
  {
   "cell_type": "code",
   "execution_count": 13,
   "id": "cd27151a",
   "metadata": {
    "execution": {
     "iopub.execute_input": "2022-11-03T18:00:51.777019Z",
     "iopub.status.busy": "2022-11-03T18:00:51.776580Z",
     "iopub.status.idle": "2022-11-03T18:00:51.786903Z",
     "shell.execute_reply": "2022-11-03T18:00:51.786089Z"
    },
    "papermill": {
     "duration": 0.041437,
     "end_time": "2022-11-03T18:00:51.789188",
     "exception": false,
     "start_time": "2022-11-03T18:00:51.747751",
     "status": "completed"
    },
    "tags": []
   },
   "outputs": [
    {
     "data": {
      "text/plain": [
       "['TM195', 'TM498', 'TM798']\n",
       "Categories (3, object): ['TM195', 'TM498', 'TM798']"
      ]
     },
     "execution_count": 13,
     "metadata": {},
     "output_type": "execute_result"
    }
   ],
   "source": [
    "# Checking the different Model numbers of the treadmill as the data analysis is based on that.\n",
    "\n",
    "data.Product.unique()"
   ]
  },
  {
   "cell_type": "markdown",
   "id": "c8381a67",
   "metadata": {
    "papermill": {
     "duration": 0.027765,
     "end_time": "2022-11-03T18:00:51.844743",
     "exception": false,
     "start_time": "2022-11-03T18:00:51.816978",
     "status": "completed"
    },
    "tags": []
   },
   "source": [
    "* There are a total of 3 unique treadmill models in the dataset"
   ]
  },
  {
   "cell_type": "code",
   "execution_count": 14,
   "id": "33f566dd",
   "metadata": {
    "execution": {
     "iopub.execute_input": "2022-11-03T18:00:51.902200Z",
     "iopub.status.busy": "2022-11-03T18:00:51.901479Z",
     "iopub.status.idle": "2022-11-03T18:00:51.906951Z",
     "shell.execute_reply": "2022-11-03T18:00:51.905995Z"
    },
    "papermill": {
     "duration": 0.036626,
     "end_time": "2022-11-03T18:00:51.909309",
     "exception": false,
     "start_time": "2022-11-03T18:00:51.872683",
     "status": "completed"
    },
    "tags": []
   },
   "outputs": [],
   "source": [
    "# Grouping the data based on the model number\n",
    "\n",
    "model_no_grp = data.groupby([data.Product])"
   ]
  },
  {
   "cell_type": "code",
   "execution_count": 15,
   "id": "c2115057",
   "metadata": {
    "execution": {
     "iopub.execute_input": "2022-11-03T18:00:51.967111Z",
     "iopub.status.busy": "2022-11-03T18:00:51.966359Z",
     "iopub.status.idle": "2022-11-03T18:00:51.975252Z",
     "shell.execute_reply": "2022-11-03T18:00:51.974216Z"
    },
    "papermill": {
     "duration": 0.040924,
     "end_time": "2022-11-03T18:00:51.977626",
     "exception": false,
     "start_time": "2022-11-03T18:00:51.936702",
     "status": "completed"
    },
    "tags": []
   },
   "outputs": [
    {
     "data": {
      "text/plain": [
       "Product\n",
       "TM195    80\n",
       "TM498    60\n",
       "TM798    40\n",
       "dtype: int64"
      ]
     },
     "execution_count": 15,
     "metadata": {},
     "output_type": "execute_result"
    }
   ],
   "source": [
    "# Checking the number of observations available for each model number\n",
    "\n",
    "model_no_grp.size()"
   ]
  },
  {
   "cell_type": "markdown",
   "id": "8c99d9db",
   "metadata": {
    "papermill": {
     "duration": 0.027122,
     "end_time": "2022-11-03T18:00:52.032802",
     "exception": false,
     "start_time": "2022-11-03T18:00:52.005680",
     "status": "completed"
    },
    "tags": []
   },
   "source": [
    "* There are three unique models of treadmills under observation.\n",
    "* Model number 'TM195' has the maximum of 80 observations.\n",
    "* Model number 'TM498' has 60 observations in all.\n",
    "* Model number 'TM798' has only 40 observations, which is only the half of 'TM195'.\n",
    "* This could create a significant impact in the comparative analysis of the products."
   ]
  },
  {
   "cell_type": "code",
   "execution_count": 16,
   "id": "a8364fab",
   "metadata": {
    "execution": {
     "iopub.execute_input": "2022-11-03T18:00:52.090385Z",
     "iopub.status.busy": "2022-11-03T18:00:52.089699Z",
     "iopub.status.idle": "2022-11-03T18:00:52.106917Z",
     "shell.execute_reply": "2022-11-03T18:00:52.105784Z"
    },
    "papermill": {
     "duration": 0.048866,
     "end_time": "2022-11-03T18:00:52.109333",
     "exception": false,
     "start_time": "2022-11-03T18:00:52.060467",
     "status": "completed"
    },
    "tags": []
   },
   "outputs": [
    {
     "data": {
      "text/html": [
       "<div>\n",
       "<style scoped>\n",
       "    .dataframe tbody tr th:only-of-type {\n",
       "        vertical-align: middle;\n",
       "    }\n",
       "\n",
       "    .dataframe tbody tr th {\n",
       "        vertical-align: top;\n",
       "    }\n",
       "\n",
       "    .dataframe thead th {\n",
       "        text-align: right;\n",
       "    }\n",
       "</style>\n",
       "<table border=\"1\" class=\"dataframe\">\n",
       "  <thead>\n",
       "    <tr style=\"text-align: right;\">\n",
       "      <th></th>\n",
       "      <th>Age</th>\n",
       "      <th>Education</th>\n",
       "      <th>Usage</th>\n",
       "      <th>Fitness</th>\n",
       "      <th>Income</th>\n",
       "      <th>Miles</th>\n",
       "    </tr>\n",
       "    <tr>\n",
       "      <th>Product</th>\n",
       "      <th></th>\n",
       "      <th></th>\n",
       "      <th></th>\n",
       "      <th></th>\n",
       "      <th></th>\n",
       "      <th></th>\n",
       "    </tr>\n",
       "  </thead>\n",
       "  <tbody>\n",
       "    <tr>\n",
       "      <th>TM195</th>\n",
       "      <td>18</td>\n",
       "      <td>12</td>\n",
       "      <td>2</td>\n",
       "      <td>1</td>\n",
       "      <td>29562</td>\n",
       "      <td>38</td>\n",
       "    </tr>\n",
       "    <tr>\n",
       "      <th>TM498</th>\n",
       "      <td>19</td>\n",
       "      <td>12</td>\n",
       "      <td>2</td>\n",
       "      <td>1</td>\n",
       "      <td>31836</td>\n",
       "      <td>21</td>\n",
       "    </tr>\n",
       "    <tr>\n",
       "      <th>TM798</th>\n",
       "      <td>22</td>\n",
       "      <td>14</td>\n",
       "      <td>3</td>\n",
       "      <td>3</td>\n",
       "      <td>48556</td>\n",
       "      <td>80</td>\n",
       "    </tr>\n",
       "  </tbody>\n",
       "</table>\n",
       "</div>"
      ],
      "text/plain": [
       "         Age  Education  Usage  Fitness  Income  Miles\n",
       "Product                                               \n",
       "TM195     18         12      2        1   29562     38\n",
       "TM498     19         12      2        1   31836     21\n",
       "TM798     22         14      3        3   48556     80"
      ]
     },
     "execution_count": 16,
     "metadata": {},
     "output_type": "execute_result"
    }
   ],
   "source": [
    "# Individually analysing the numerical values based on the Model No.\n",
    "\n",
    "# Looking for the minimum value\n",
    "\n",
    "model_no_grp.min()    "
   ]
  },
  {
   "cell_type": "markdown",
   "id": "cfd582d4",
   "metadata": {
    "papermill": {
     "duration": 0.027751,
     "end_time": "2022-11-03T18:00:52.164725",
     "exception": false,
     "start_time": "2022-11-03T18:00:52.136974",
     "status": "completed"
    },
    "tags": []
   },
   "source": [
    "* Among all the minimum values, model number 'TM798' has larger values in all the columns compared to the other two models."
   ]
  },
  {
   "cell_type": "code",
   "execution_count": 17,
   "id": "549aeadf",
   "metadata": {
    "execution": {
     "iopub.execute_input": "2022-11-03T18:00:52.223785Z",
     "iopub.status.busy": "2022-11-03T18:00:52.223054Z",
     "iopub.status.idle": "2022-11-03T18:00:52.236399Z",
     "shell.execute_reply": "2022-11-03T18:00:52.235166Z"
    },
    "papermill": {
     "duration": 0.046727,
     "end_time": "2022-11-03T18:00:52.238845",
     "exception": false,
     "start_time": "2022-11-03T18:00:52.192118",
     "status": "completed"
    },
    "tags": []
   },
   "outputs": [
    {
     "data": {
      "text/html": [
       "<div>\n",
       "<style scoped>\n",
       "    .dataframe tbody tr th:only-of-type {\n",
       "        vertical-align: middle;\n",
       "    }\n",
       "\n",
       "    .dataframe tbody tr th {\n",
       "        vertical-align: top;\n",
       "    }\n",
       "\n",
       "    .dataframe thead th {\n",
       "        text-align: right;\n",
       "    }\n",
       "</style>\n",
       "<table border=\"1\" class=\"dataframe\">\n",
       "  <thead>\n",
       "    <tr style=\"text-align: right;\">\n",
       "      <th></th>\n",
       "      <th>Age</th>\n",
       "      <th>Education</th>\n",
       "      <th>Usage</th>\n",
       "      <th>Fitness</th>\n",
       "      <th>Income</th>\n",
       "      <th>Miles</th>\n",
       "    </tr>\n",
       "    <tr>\n",
       "      <th>Product</th>\n",
       "      <th></th>\n",
       "      <th></th>\n",
       "      <th></th>\n",
       "      <th></th>\n",
       "      <th></th>\n",
       "      <th></th>\n",
       "    </tr>\n",
       "  </thead>\n",
       "  <tbody>\n",
       "    <tr>\n",
       "      <th>TM195</th>\n",
       "      <td>50</td>\n",
       "      <td>18</td>\n",
       "      <td>5</td>\n",
       "      <td>5</td>\n",
       "      <td>68220</td>\n",
       "      <td>188</td>\n",
       "    </tr>\n",
       "    <tr>\n",
       "      <th>TM498</th>\n",
       "      <td>48</td>\n",
       "      <td>18</td>\n",
       "      <td>5</td>\n",
       "      <td>4</td>\n",
       "      <td>67083</td>\n",
       "      <td>212</td>\n",
       "    </tr>\n",
       "    <tr>\n",
       "      <th>TM798</th>\n",
       "      <td>48</td>\n",
       "      <td>21</td>\n",
       "      <td>7</td>\n",
       "      <td>5</td>\n",
       "      <td>104581</td>\n",
       "      <td>360</td>\n",
       "    </tr>\n",
       "  </tbody>\n",
       "</table>\n",
       "</div>"
      ],
      "text/plain": [
       "         Age  Education  Usage  Fitness  Income  Miles\n",
       "Product                                               \n",
       "TM195     50         18      5        5   68220    188\n",
       "TM498     48         18      5        4   67083    212\n",
       "TM798     48         21      7        5  104581    360"
      ]
     },
     "execution_count": 17,
     "metadata": {},
     "output_type": "execute_result"
    }
   ],
   "source": [
    "# Looking for the maximum value \n",
    "\n",
    "model_no_grp.max()"
   ]
  },
  {
   "cell_type": "markdown",
   "id": "39073a98",
   "metadata": {
    "papermill": {
     "duration": 0.027641,
     "end_time": "2022-11-03T18:00:52.294887",
     "exception": false,
     "start_time": "2022-11-03T18:00:52.267246",
     "status": "completed"
    },
    "tags": []
   },
   "source": [
    "* Model 'TM195' has the maximum customer age of 50 ; also the lowest among the maximum miles run.\n",
    "* Model 'TM798'has the highest values of observations in Education and Income of the customers ; also highest usage/week along with the miles run and fitness score"
   ]
  },
  {
   "cell_type": "code",
   "execution_count": 18,
   "id": "cf932435",
   "metadata": {
    "execution": {
     "iopub.execute_input": "2022-11-03T18:00:52.352664Z",
     "iopub.status.busy": "2022-11-03T18:00:52.351929Z",
     "iopub.status.idle": "2022-11-03T18:00:52.368189Z",
     "shell.execute_reply": "2022-11-03T18:00:52.367292Z"
    },
    "papermill": {
     "duration": 0.047686,
     "end_time": "2022-11-03T18:00:52.370423",
     "exception": false,
     "start_time": "2022-11-03T18:00:52.322737",
     "status": "completed"
    },
    "tags": []
   },
   "outputs": [
    {
     "data": {
      "text/html": [
       "<div>\n",
       "<style scoped>\n",
       "    .dataframe tbody tr th:only-of-type {\n",
       "        vertical-align: middle;\n",
       "    }\n",
       "\n",
       "    .dataframe tbody tr th {\n",
       "        vertical-align: top;\n",
       "    }\n",
       "\n",
       "    .dataframe thead th {\n",
       "        text-align: right;\n",
       "    }\n",
       "</style>\n",
       "<table border=\"1\" class=\"dataframe\">\n",
       "  <thead>\n",
       "    <tr style=\"text-align: right;\">\n",
       "      <th></th>\n",
       "      <th>Age</th>\n",
       "      <th>Education</th>\n",
       "      <th>Usage</th>\n",
       "      <th>Fitness</th>\n",
       "      <th>Income</th>\n",
       "      <th>Miles</th>\n",
       "    </tr>\n",
       "    <tr>\n",
       "      <th>Product</th>\n",
       "      <th></th>\n",
       "      <th></th>\n",
       "      <th></th>\n",
       "      <th></th>\n",
       "      <th></th>\n",
       "      <th></th>\n",
       "    </tr>\n",
       "  </thead>\n",
       "  <tbody>\n",
       "    <tr>\n",
       "      <th>TM195</th>\n",
       "      <td>28.55</td>\n",
       "      <td>15.037500</td>\n",
       "      <td>3.087500</td>\n",
       "      <td>2.9625</td>\n",
       "      <td>46418.025</td>\n",
       "      <td>82.787500</td>\n",
       "    </tr>\n",
       "    <tr>\n",
       "      <th>TM498</th>\n",
       "      <td>28.90</td>\n",
       "      <td>15.116667</td>\n",
       "      <td>3.066667</td>\n",
       "      <td>2.9000</td>\n",
       "      <td>48973.650</td>\n",
       "      <td>87.933333</td>\n",
       "    </tr>\n",
       "    <tr>\n",
       "      <th>TM798</th>\n",
       "      <td>29.10</td>\n",
       "      <td>17.325000</td>\n",
       "      <td>4.775000</td>\n",
       "      <td>4.6250</td>\n",
       "      <td>75441.575</td>\n",
       "      <td>166.900000</td>\n",
       "    </tr>\n",
       "  </tbody>\n",
       "</table>\n",
       "</div>"
      ],
      "text/plain": [
       "           Age  Education     Usage  Fitness     Income       Miles\n",
       "Product                                                            \n",
       "TM195    28.55  15.037500  3.087500   2.9625  46418.025   82.787500\n",
       "TM498    28.90  15.116667  3.066667   2.9000  48973.650   87.933333\n",
       "TM798    29.10  17.325000  4.775000   4.6250  75441.575  166.900000"
      ]
     },
     "execution_count": 18,
     "metadata": {},
     "output_type": "execute_result"
    }
   ],
   "source": [
    "# Looking for the mean of the values \n",
    "\n",
    "model_no_grp.mean()"
   ]
  },
  {
   "cell_type": "markdown",
   "id": "0f65524d",
   "metadata": {
    "papermill": {
     "duration": 0.02793,
     "end_time": "2022-11-03T18:00:52.426909",
     "exception": false,
     "start_time": "2022-11-03T18:00:52.398979",
     "status": "completed"
    },
    "tags": []
   },
   "source": [
    "* Model number 'TM798' has the highest average values in all aspects comparatively."
   ]
  },
  {
   "cell_type": "code",
   "execution_count": 19,
   "id": "e4d269ff",
   "metadata": {
    "execution": {
     "iopub.execute_input": "2022-11-03T18:00:52.484721Z",
     "iopub.status.busy": "2022-11-03T18:00:52.484224Z",
     "iopub.status.idle": "2022-11-03T18:00:52.499774Z",
     "shell.execute_reply": "2022-11-03T18:00:52.498490Z"
    },
    "papermill": {
     "duration": 0.047201,
     "end_time": "2022-11-03T18:00:52.502119",
     "exception": false,
     "start_time": "2022-11-03T18:00:52.454918",
     "status": "completed"
    },
    "tags": []
   },
   "outputs": [
    {
     "data": {
      "text/html": [
       "<div>\n",
       "<style scoped>\n",
       "    .dataframe tbody tr th:only-of-type {\n",
       "        vertical-align: middle;\n",
       "    }\n",
       "\n",
       "    .dataframe tbody tr th {\n",
       "        vertical-align: top;\n",
       "    }\n",
       "\n",
       "    .dataframe thead th {\n",
       "        text-align: right;\n",
       "    }\n",
       "</style>\n",
       "<table border=\"1\" class=\"dataframe\">\n",
       "  <thead>\n",
       "    <tr style=\"text-align: right;\">\n",
       "      <th></th>\n",
       "      <th>Age</th>\n",
       "      <th>Education</th>\n",
       "      <th>Usage</th>\n",
       "      <th>Fitness</th>\n",
       "      <th>Income</th>\n",
       "      <th>Miles</th>\n",
       "    </tr>\n",
       "    <tr>\n",
       "      <th>Product</th>\n",
       "      <th></th>\n",
       "      <th></th>\n",
       "      <th></th>\n",
       "      <th></th>\n",
       "      <th></th>\n",
       "      <th></th>\n",
       "    </tr>\n",
       "  </thead>\n",
       "  <tbody>\n",
       "    <tr>\n",
       "      <th>TM195</th>\n",
       "      <td>7.221452</td>\n",
       "      <td>1.216383</td>\n",
       "      <td>0.782624</td>\n",
       "      <td>0.664540</td>\n",
       "      <td>9075.783190</td>\n",
       "      <td>28.874102</td>\n",
       "    </tr>\n",
       "    <tr>\n",
       "      <th>TM498</th>\n",
       "      <td>6.645248</td>\n",
       "      <td>1.222552</td>\n",
       "      <td>0.799717</td>\n",
       "      <td>0.629770</td>\n",
       "      <td>8653.989388</td>\n",
       "      <td>33.263135</td>\n",
       "    </tr>\n",
       "    <tr>\n",
       "      <th>TM798</th>\n",
       "      <td>6.971738</td>\n",
       "      <td>1.639066</td>\n",
       "      <td>0.946993</td>\n",
       "      <td>0.667467</td>\n",
       "      <td>18505.836720</td>\n",
       "      <td>60.066544</td>\n",
       "    </tr>\n",
       "  </tbody>\n",
       "</table>\n",
       "</div>"
      ],
      "text/plain": [
       "              Age  Education     Usage   Fitness        Income      Miles\n",
       "Product                                                                  \n",
       "TM195    7.221452   1.216383  0.782624  0.664540   9075.783190  28.874102\n",
       "TM498    6.645248   1.222552  0.799717  0.629770   8653.989388  33.263135\n",
       "TM798    6.971738   1.639066  0.946993  0.667467  18505.836720  60.066544"
      ]
     },
     "execution_count": 19,
     "metadata": {},
     "output_type": "execute_result"
    }
   ],
   "source": [
    "# Looking for the standard deviations for each category\n",
    "\n",
    "model_no_grp.std()"
   ]
  },
  {
   "cell_type": "markdown",
   "id": "7adeeb94",
   "metadata": {
    "papermill": {
     "duration": 0.028647,
     "end_time": "2022-11-03T18:00:52.560736",
     "exception": false,
     "start_time": "2022-11-03T18:00:52.532089",
     "status": "completed"
    },
    "tags": []
   },
   "source": [
    "* Income and Miles have highest deviation from the Mean\n",
    "* Usage and Fitness have the lowest deviation from the Mean"
   ]
  },
  {
   "cell_type": "markdown",
   "id": "c6fb183c",
   "metadata": {
    "papermill": {
     "duration": 0.027868,
     "end_time": "2022-11-03T18:00:52.617496",
     "exception": false,
     "start_time": "2022-11-03T18:00:52.589628",
     "status": "completed"
    },
    "tags": []
   },
   "source": [
    "# Analysing the relationships between numerical variables"
   ]
  },
  {
   "cell_type": "code",
   "execution_count": 20,
   "id": "f2fbe774",
   "metadata": {
    "execution": {
     "iopub.execute_input": "2022-11-03T18:00:52.675668Z",
     "iopub.status.busy": "2022-11-03T18:00:52.675218Z",
     "iopub.status.idle": "2022-11-03T18:00:52.689288Z",
     "shell.execute_reply": "2022-11-03T18:00:52.688499Z"
    },
    "papermill": {
     "duration": 0.045952,
     "end_time": "2022-11-03T18:00:52.691543",
     "exception": false,
     "start_time": "2022-11-03T18:00:52.645591",
     "status": "completed"
    },
    "tags": []
   },
   "outputs": [
    {
     "data": {
      "text/html": [
       "<div>\n",
       "<style scoped>\n",
       "    .dataframe tbody tr th:only-of-type {\n",
       "        vertical-align: middle;\n",
       "    }\n",
       "\n",
       "    .dataframe tbody tr th {\n",
       "        vertical-align: top;\n",
       "    }\n",
       "\n",
       "    .dataframe thead th {\n",
       "        text-align: right;\n",
       "    }\n",
       "</style>\n",
       "<table border=\"1\" class=\"dataframe\">\n",
       "  <thead>\n",
       "    <tr style=\"text-align: right;\">\n",
       "      <th></th>\n",
       "      <th>Age</th>\n",
       "      <th>Education</th>\n",
       "      <th>Usage</th>\n",
       "      <th>Fitness</th>\n",
       "      <th>Income</th>\n",
       "      <th>Miles</th>\n",
       "    </tr>\n",
       "  </thead>\n",
       "  <tbody>\n",
       "    <tr>\n",
       "      <th>Age</th>\n",
       "      <td>1.000000</td>\n",
       "      <td>0.280496</td>\n",
       "      <td>0.015064</td>\n",
       "      <td>0.061105</td>\n",
       "      <td>0.513414</td>\n",
       "      <td>0.036618</td>\n",
       "    </tr>\n",
       "    <tr>\n",
       "      <th>Education</th>\n",
       "      <td>0.280496</td>\n",
       "      <td>1.000000</td>\n",
       "      <td>0.395155</td>\n",
       "      <td>0.410581</td>\n",
       "      <td>0.625827</td>\n",
       "      <td>0.307284</td>\n",
       "    </tr>\n",
       "    <tr>\n",
       "      <th>Usage</th>\n",
       "      <td>0.015064</td>\n",
       "      <td>0.395155</td>\n",
       "      <td>1.000000</td>\n",
       "      <td>0.668606</td>\n",
       "      <td>0.519537</td>\n",
       "      <td>0.759130</td>\n",
       "    </tr>\n",
       "    <tr>\n",
       "      <th>Fitness</th>\n",
       "      <td>0.061105</td>\n",
       "      <td>0.410581</td>\n",
       "      <td>0.668606</td>\n",
       "      <td>1.000000</td>\n",
       "      <td>0.535005</td>\n",
       "      <td>0.785702</td>\n",
       "    </tr>\n",
       "    <tr>\n",
       "      <th>Income</th>\n",
       "      <td>0.513414</td>\n",
       "      <td>0.625827</td>\n",
       "      <td>0.519537</td>\n",
       "      <td>0.535005</td>\n",
       "      <td>1.000000</td>\n",
       "      <td>0.543473</td>\n",
       "    </tr>\n",
       "    <tr>\n",
       "      <th>Miles</th>\n",
       "      <td>0.036618</td>\n",
       "      <td>0.307284</td>\n",
       "      <td>0.759130</td>\n",
       "      <td>0.785702</td>\n",
       "      <td>0.543473</td>\n",
       "      <td>1.000000</td>\n",
       "    </tr>\n",
       "  </tbody>\n",
       "</table>\n",
       "</div>"
      ],
      "text/plain": [
       "                Age  Education     Usage   Fitness    Income     Miles\n",
       "Age        1.000000   0.280496  0.015064  0.061105  0.513414  0.036618\n",
       "Education  0.280496   1.000000  0.395155  0.410581  0.625827  0.307284\n",
       "Usage      0.015064   0.395155  1.000000  0.668606  0.519537  0.759130\n",
       "Fitness    0.061105   0.410581  0.668606  1.000000  0.535005  0.785702\n",
       "Income     0.513414   0.625827  0.519537  0.535005  1.000000  0.543473\n",
       "Miles      0.036618   0.307284  0.759130  0.785702  0.543473  1.000000"
      ]
     },
     "execution_count": 20,
     "metadata": {},
     "output_type": "execute_result"
    }
   ],
   "source": [
    "data_correlation = data.corr()   # finding the correlation between values and assigning the same to the variable data_correlation\n",
    "data_correlation"
   ]
  },
  {
   "cell_type": "markdown",
   "id": "f6442926",
   "metadata": {
    "papermill": {
     "duration": 0.028055,
     "end_time": "2022-11-03T18:00:52.748219",
     "exception": false,
     "start_time": "2022-11-03T18:00:52.720164",
     "status": "completed"
    },
    "tags": []
   },
   "source": [
    "### Heatmap"
   ]
  },
  {
   "cell_type": "code",
   "execution_count": 21,
   "id": "c0850bcb",
   "metadata": {
    "execution": {
     "iopub.execute_input": "2022-11-03T18:00:52.807610Z",
     "iopub.status.busy": "2022-11-03T18:00:52.806796Z",
     "iopub.status.idle": "2022-11-03T18:00:53.242848Z",
     "shell.execute_reply": "2022-11-03T18:00:53.241670Z"
    },
    "papermill": {
     "duration": 0.469467,
     "end_time": "2022-11-03T18:00:53.246282",
     "exception": false,
     "start_time": "2022-11-03T18:00:52.776815",
     "status": "completed"
    },
    "tags": []
   },
   "outputs": [
    {
     "data": {
      "text/plain": [
       "<AxesSubplot:>"
      ]
     },
     "execution_count": 21,
     "metadata": {},
     "output_type": "execute_result"
    },
    {
     "data": {
      "image/png": "[encoded data removed]",
      "text/plain": [
       "<Figure size 720x432 with 2 Axes>"
      ]
     },
     "metadata": {},
     "output_type": "display_data"
    }
   ],
   "source": [
    "plt.figure(figsize=(10,6))\n",
    "sns.heatmap(data_correlation, annot=True, linewidths = 0.2, linecolor = 'white')"
   ]
  },
  {
   "cell_type": "markdown",
   "id": "459035ec",
   "metadata": {
    "papermill": {
     "duration": 0.029563,
     "end_time": "2022-11-03T18:00:53.305345",
     "exception": false,
     "start_time": "2022-11-03T18:00:53.275782",
     "status": "completed"
    },
    "tags": []
   },
   "source": [
    "Positive correlations spotted between the following:\n",
    "\n",
    "* Usage and Miles (very strong)\n",
    "* Miles and Fitness (very strong)\n",
    "* Usage anf Fitness (strong)\n",
    "* Education and income (strong)\n",
    "* Miles and income\n",
    "* Fitness and income\n",
    "* Usage and income\n",
    "* Age and income"
   ]
  },
  {
   "cell_type": "markdown",
   "id": "7bd5a8e8",
   "metadata": {
    "papermill": {
     "duration": 0.029445,
     "end_time": "2022-11-03T18:00:53.364233",
     "exception": false,
     "start_time": "2022-11-03T18:00:53.334788",
     "status": "completed"
    },
    "tags": []
   },
   "source": [
    "### Pairplot"
   ]
  },
  {
   "cell_type": "code",
   "execution_count": 22,
   "id": "45b3e89c",
   "metadata": {
    "execution": {
     "iopub.execute_input": "2022-11-03T18:00:53.425365Z",
     "iopub.status.busy": "2022-11-03T18:00:53.424919Z",
     "iopub.status.idle": "2022-11-03T18:00:58.057494Z",
     "shell.execute_reply": "2022-11-03T18:00:58.056218Z"
    },
    "papermill": {
     "duration": 4.666977,
     "end_time": "2022-11-03T18:00:58.060733",
     "exception": false,
     "start_time": "2022-11-03T18:00:53.393756",
     "status": "completed"
    },
    "tags": []
   },
   "outputs": [
    {
     "data": {
      "text/plain": [
       "<seaborn.axisgrid.PairGrid at 0x7f169cb0e510>"
      ]
     },
     "execution_count": 22,
     "metadata": {},
     "output_type": "execute_result"
    },
    {
     "data": {
      "image/png": "[encoded data removed]",
      "text/plain": [
       "<Figure size 1080x1080 with 27 Axes>"
      ]
     },
     "metadata": {},
     "output_type": "display_data"
    }
   ],
   "source": [
    "sns.pairplot(data, corner = True, kind = 'hist')"
   ]
  },
  {
   "cell_type": "markdown",
   "id": "611fc8c2",
   "metadata": {
    "papermill": {
     "duration": 0.029552,
     "end_time": "2022-11-03T18:00:58.120274",
     "exception": false,
     "start_time": "2022-11-03T18:00:58.090722",
     "status": "completed"
    },
    "tags": []
   },
   "source": [
    "We get the same insights as from the above heatmap. Need to confirm the same with further analysis."
   ]
  },
  {
   "cell_type": "markdown",
   "id": "92a7a396",
   "metadata": {
    "papermill": {
     "duration": 0.029675,
     "end_time": "2022-11-03T18:00:58.180492",
     "exception": false,
     "start_time": "2022-11-03T18:00:58.150817",
     "status": "completed"
    },
    "tags": []
   },
   "source": [
    "# Univariate Analysis of Categorical Data"
   ]
  },
  {
   "cell_type": "code",
   "execution_count": 23,
   "id": "85ea95c2",
   "metadata": {
    "execution": {
     "iopub.execute_input": "2022-11-03T18:00:58.243694Z",
     "iopub.status.busy": "2022-11-03T18:00:58.243199Z",
     "iopub.status.idle": "2022-11-03T18:00:58.249783Z",
     "shell.execute_reply": "2022-11-03T18:00:58.248864Z"
    },
    "papermill": {
     "duration": 0.040952,
     "end_time": "2022-11-03T18:00:58.252153",
     "exception": false,
     "start_time": "2022-11-03T18:00:58.211201",
     "status": "completed"
    },
    "tags": []
   },
   "outputs": [],
   "source": [
    "# Defining a method to print the percentage of data values in the plots\n",
    "\n",
    "def bar_perc(plot, feature):\n",
    "    total = len(feature)      # length of the column\n",
    "    for p in ax.patches:\n",
    "        percentage = '{:.1f}%'.format(100 * p.get_height()/total)      # percentage of each class of the category\n",
    "        x = p.get_x() + p.get_width() / 2 - 0.05        # width of the plot\n",
    "        y = p.get_y() + p.get_height()                  # height of the plot\n",
    "        ax.annotate(percentage, (x, y), size = 12)      # annotate the percentage"
   ]
  },
  {
   "cell_type": "markdown",
   "id": "22587862",
   "metadata": {
    "papermill": {
     "duration": 0.029713,
     "end_time": "2022-11-03T18:00:58.311991",
     "exception": false,
     "start_time": "2022-11-03T18:00:58.282278",
     "status": "completed"
    },
    "tags": []
   },
   "source": [
    "**1. Product**"
   ]
  },
  {
   "cell_type": "code",
   "execution_count": 24,
   "id": "b00e7899",
   "metadata": {
    "execution": {
     "iopub.execute_input": "2022-11-03T18:00:58.375018Z",
     "iopub.status.busy": "2022-11-03T18:00:58.374582Z",
     "iopub.status.idle": "2022-11-03T18:00:58.613771Z",
     "shell.execute_reply": "2022-11-03T18:00:58.612524Z"
    },
    "papermill": {
     "duration": 0.274166,
     "end_time": "2022-11-03T18:00:58.616339",
     "exception": false,
     "start_time": "2022-11-03T18:00:58.342173",
     "status": "completed"
    },
    "tags": []
   },
   "outputs": [
    {
     "data": {
      "image/png": "[encoded data removed]",
      "text/plain": [
       "<Figure size 432x288 with 1 Axes>"
      ]
     },
     "metadata": {},
     "output_type": "display_data"
    }
   ],
   "source": [
    "ax = sns.countplot(data['Product'])     # creating a countplot and assigning that to a variable ax\n",
    "bar_perc(ax, data['Product'])           # calling the method bar_perc and passing ax as the argument to get the percentages \n",
    "                                        # labelled on the graph"
   ]
  },
  {
   "cell_type": "markdown",
   "id": "8108b0e5",
   "metadata": {
    "papermill": {
     "duration": 0.029942,
     "end_time": "2022-11-03T18:00:58.677093",
     "exception": false,
     "start_time": "2022-11-03T18:00:58.647151",
     "status": "completed"
    },
    "tags": []
   },
   "source": [
    "* Model 'TM195' has a maximum of 44.4% of the total observations\n",
    "* Model 'TM498' has 33.3% of the total observations and\n",
    "* Model 'TM798' has the minium of 22.2% of the total observations made."
   ]
  },
  {
   "cell_type": "markdown",
   "id": "45f4e4a7",
   "metadata": {
    "papermill": {
     "duration": 0.029831,
     "end_time": "2022-11-03T18:00:58.737011",
     "exception": false,
     "start_time": "2022-11-03T18:00:58.707180",
     "status": "completed"
    },
    "tags": []
   },
   "source": [
    "**2. Gender**"
   ]
  },
  {
   "cell_type": "code",
   "execution_count": 25,
   "id": "99ffd914",
   "metadata": {
    "execution": {
     "iopub.execute_input": "2022-11-03T18:00:58.799820Z",
     "iopub.status.busy": "2022-11-03T18:00:58.799346Z",
     "iopub.status.idle": "2022-11-03T18:00:59.005733Z",
     "shell.execute_reply": "2022-11-03T18:00:59.004843Z"
    },
    "papermill": {
     "duration": 0.24062,
     "end_time": "2022-11-03T18:00:59.007882",
     "exception": false,
     "start_time": "2022-11-03T18:00:58.767262",
     "status": "completed"
    },
    "tags": []
   },
   "outputs": [
    {
     "data": {
      "image/png": "[encoded data removed]",
      "text/plain": [
       "<Figure size 432x288 with 1 Axes>"
      ]
     },
     "metadata": {},
     "output_type": "display_data"
    }
   ],
   "source": [
    "ax = sns.countplot(data['Gender'])\n",
    "bar_perc(ax, data['Gender'])"
   ]
  },
  {
   "cell_type": "markdown",
   "id": "fc93b0c4",
   "metadata": {
    "papermill": {
     "duration": 0.030246,
     "end_time": "2022-11-03T18:00:59.069135",
     "exception": false,
     "start_time": "2022-11-03T18:00:59.038889",
     "status": "completed"
    },
    "tags": []
   },
   "source": [
    "* The observations consist of 57.8% of Male and 42.2% of Female customers."
   ]
  },
  {
   "cell_type": "markdown",
   "id": "66d801cf",
   "metadata": {
    "papermill": {
     "duration": 0.029868,
     "end_time": "2022-11-03T18:00:59.129722",
     "exception": false,
     "start_time": "2022-11-03T18:00:59.099854",
     "status": "completed"
    },
    "tags": []
   },
   "source": [
    "**3. Marital Status**"
   ]
  },
  {
   "cell_type": "code",
   "execution_count": 26,
   "id": "142f09c6",
   "metadata": {
    "execution": {
     "iopub.execute_input": "2022-11-03T18:00:59.192279Z",
     "iopub.status.busy": "2022-11-03T18:00:59.191832Z",
     "iopub.status.idle": "2022-11-03T18:00:59.403746Z",
     "shell.execute_reply": "2022-11-03T18:00:59.402522Z"
    },
    "papermill": {
     "duration": 0.246324,
     "end_time": "2022-11-03T18:00:59.406415",
     "exception": false,
     "start_time": "2022-11-03T18:00:59.160091",
     "status": "completed"
    },
    "tags": []
   },
   "outputs": [
    {
     "data": {
      "image/png": "[encoded data removed]",
      "text/plain": [
       "<Figure size 432x288 with 1 Axes>"
      ]
     },
     "metadata": {},
     "output_type": "display_data"
    }
   ],
   "source": [
    "ax = sns.countplot(data['MaritalStatus'])\n",
    "bar_perc(ax, data['MaritalStatus'])"
   ]
  },
  {
   "cell_type": "markdown",
   "id": "4d494f30",
   "metadata": {
    "papermill": {
     "duration": 0.03056,
     "end_time": "2022-11-03T18:00:59.469143",
     "exception": false,
     "start_time": "2022-11-03T18:00:59.438583",
     "status": "completed"
    },
    "tags": []
   },
   "source": [
    "* About 59.4% of cutomers are married and 40.6% of customers are unmarried."
   ]
  },
  {
   "cell_type": "markdown",
   "id": "a99e855f",
   "metadata": {
    "papermill": {
     "duration": 0.031436,
     "end_time": "2022-11-03T18:00:59.531496",
     "exception": false,
     "start_time": "2022-11-03T18:00:59.500060",
     "status": "completed"
    },
    "tags": []
   },
   "source": [
    "# Univariate Analysis of Numerical Data"
   ]
  },
  {
   "cell_type": "markdown",
   "id": "68b5946b",
   "metadata": {
    "papermill": {
     "duration": 0.030234,
     "end_time": "2022-11-03T18:00:59.592411",
     "exception": false,
     "start_time": "2022-11-03T18:00:59.562177",
     "status": "completed"
    },
    "tags": []
   },
   "source": [
    "**1. Age**"
   ]
  },
  {
   "cell_type": "code",
   "execution_count": 27,
   "id": "1b273ca6",
   "metadata": {
    "execution": {
     "iopub.execute_input": "2022-11-03T18:00:59.656837Z",
     "iopub.status.busy": "2022-11-03T18:00:59.655993Z",
     "iopub.status.idle": "2022-11-03T18:01:00.025192Z",
     "shell.execute_reply": "2022-11-03T18:01:00.023653Z"
    },
    "papermill": {
     "duration": 0.404491,
     "end_time": "2022-11-03T18:01:00.028146",
     "exception": false,
     "start_time": "2022-11-03T18:00:59.623655",
     "status": "completed"
    },
    "tags": []
   },
   "outputs": [
    {
     "data": {
      "image/png": "[encoded data removed]",
      "text/plain": [
       "<Figure size 864x360 with 2 Axes>"
      ]
     },
     "metadata": {},
     "output_type": "display_data"
    }
   ],
   "source": [
    "plt.figure(figsize = (12,5))    # defining the image size\n",
    "plt.subplot(1,2,1)              # specifying the placement of the 1st subplot\n",
    "sns.histplot(data.Age)          # creating a histplot as the 1st subplot\n",
    "plt.subplot(1,2,2)              # specifying the placement of the 2nd subplot\n",
    "sns.boxplot(y = data.Age)       # creating a boxplot as the 2nd subplot\n",
    "plt.show()                      # displaying both subplots"
   ]
  },
  {
   "cell_type": "markdown",
   "id": "1445a5db",
   "metadata": {
    "papermill": {
     "duration": 0.031085,
     "end_time": "2022-11-03T18:01:00.090975",
     "exception": false,
     "start_time": "2022-11-03T18:01:00.059890",
     "status": "completed"
    },
    "tags": []
   },
   "source": [
    "* The minimum age of the customers is 18 and the maximum is 46 with outliers ranging until 50.\n",
    "* The interquartile range (IQR) is inbetween 24 and 33 years.\n",
    "* Age is a right skewed distribution."
   ]
  },
  {
   "cell_type": "markdown",
   "id": "e913b98c",
   "metadata": {
    "papermill": {
     "duration": 0.031369,
     "end_time": "2022-11-03T18:01:00.153978",
     "exception": false,
     "start_time": "2022-11-03T18:01:00.122609",
     "status": "completed"
    },
    "tags": []
   },
   "source": [
    "**2. Education**"
   ]
  },
  {
   "cell_type": "code",
   "execution_count": 28,
   "id": "64f9b355",
   "metadata": {
    "execution": {
     "iopub.execute_input": "2022-11-03T18:01:00.219690Z",
     "iopub.status.busy": "2022-11-03T18:01:00.218218Z",
     "iopub.status.idle": "2022-11-03T18:01:00.549731Z",
     "shell.execute_reply": "2022-11-03T18:01:00.548487Z"
    },
    "papermill": {
     "duration": 0.366708,
     "end_time": "2022-11-03T18:01:00.552261",
     "exception": false,
     "start_time": "2022-11-03T18:01:00.185553",
     "status": "completed"
    },
    "tags": []
   },
   "outputs": [
    {
     "data": {
      "image/png": "[encoded data removed]",
      "text/plain": [
       "<Figure size 864x360 with 2 Axes>"
      ]
     },
     "metadata": {},
     "output_type": "display_data"
    }
   ],
   "source": [
    "plt.figure(figsize = (12,5))\n",
    "plt.subplot(1,2,1)   \n",
    "sns.countplot(data.Education)     # creating a countplot as the 1st subplot\n",
    "plt.subplot(1,2,2)\n",
    "sns.boxplot(y = data.Education)   # creating a boxplot as the 2nd subplot\n",
    "plt.show()"
   ]
  },
  {
   "cell_type": "markdown",
   "id": "79b3f5ca",
   "metadata": {
    "papermill": {
     "duration": 0.032092,
     "end_time": "2022-11-03T18:01:00.617198",
     "exception": false,
     "start_time": "2022-11-03T18:01:00.585106",
     "status": "completed"
    },
    "tags": []
   },
   "source": [
    "* On an average, the customers have a minimum 12 year and a maximum 18 years of education with outliers ranging until 21 years.\n",
    "* The IQR is between 14 to 16 years; 16 years being the highest qualification.\n",
    "* There are no customers with 13,17 years of education.\n",
    "* Education is right skewed."
   ]
  },
  {
   "cell_type": "markdown",
   "id": "ffc2b291",
   "metadata": {
    "papermill": {
     "duration": 0.031028,
     "end_time": "2022-11-03T18:01:00.679292",
     "exception": false,
     "start_time": "2022-11-03T18:01:00.648264",
     "status": "completed"
    },
    "tags": []
   },
   "source": [
    "**3. Usage**"
   ]
  },
  {
   "cell_type": "code",
   "execution_count": 29,
   "id": "6578586c",
   "metadata": {
    "execution": {
     "iopub.execute_input": "2022-11-03T18:01:00.744180Z",
     "iopub.status.busy": "2022-11-03T18:01:00.743758Z",
     "iopub.status.idle": "2022-11-03T18:01:01.056970Z",
     "shell.execute_reply": "2022-11-03T18:01:01.055698Z"
    },
    "papermill": {
     "duration": 0.348833,
     "end_time": "2022-11-03T18:01:01.059422",
     "exception": false,
     "start_time": "2022-11-03T18:01:00.710589",
     "status": "completed"
    },
    "tags": []
   },
   "outputs": [
    {
     "data": {
      "image/png": "[encoded data removed]",
      "text/plain": [
       "<Figure size 864x360 with 2 Axes>"
      ]
     },
     "metadata": {},
     "output_type": "display_data"
    }
   ],
   "source": [
    "plt.figure(figsize = (12,5))\n",
    "plt.subplot(1,2,1)   \n",
    "sns.countplot(data.Usage)\n",
    "plt.subplot(1,2,2)\n",
    "sns.boxplot(y = data.Usage)\n",
    "plt.show()"
   ]
  },
  {
   "cell_type": "markdown",
   "id": "67a954fc",
   "metadata": {
    "papermill": {
     "duration": 0.031524,
     "end_time": "2022-11-03T18:01:01.122791",
     "exception": false,
     "start_time": "2022-11-03T18:01:01.091267",
     "status": "completed"
    },
    "tags": []
   },
   "source": [
    "* On an average the minimum number of days the treadmill is used 2 days/week\n",
    "* A large number of customers use the treadmill for 3 days/week\n",
    "* A significant number of them used the product for 4 days/week\n",
    "* The outliers indicate that there are considerably a very few customers who use the treadmill for more than 6 days/week.\n",
    "* Usage is right skewed."
   ]
  },
  {
   "cell_type": "markdown",
   "id": "971b8ae6",
   "metadata": {
    "papermill": {
     "duration": 0.032271,
     "end_time": "2022-11-03T18:01:01.186901",
     "exception": false,
     "start_time": "2022-11-03T18:01:01.154630",
     "status": "completed"
    },
    "tags": []
   },
   "source": [
    "**4. Fitness**"
   ]
  },
  {
   "cell_type": "code",
   "execution_count": 30,
   "id": "5822fbca",
   "metadata": {
    "execution": {
     "iopub.execute_input": "2022-11-03T18:01:01.255751Z",
     "iopub.status.busy": "2022-11-03T18:01:01.254944Z",
     "iopub.status.idle": "2022-11-03T18:01:01.566922Z",
     "shell.execute_reply": "2022-11-03T18:01:01.566052Z"
    },
    "papermill": {
     "duration": 0.349235,
     "end_time": "2022-11-03T18:01:01.569410",
     "exception": false,
     "start_time": "2022-11-03T18:01:01.220175",
     "status": "completed"
    },
    "tags": []
   },
   "outputs": [
    {
     "data": {
      "image/png": "[encoded data removed]",
      "text/plain": [
       "<Figure size 864x360 with 2 Axes>"
      ]
     },
     "metadata": {},
     "output_type": "display_data"
    }
   ],
   "source": [
    "plt.figure(figsize = (12,5))\n",
    "plt.subplot(1,2,1)   \n",
    "sns.countplot(data.Fitness)\n",
    "plt.subplot(1,2,2)\n",
    "sns.boxplot(y = data.Fitness)\n",
    "plt.show()"
   ]
  },
  {
   "cell_type": "markdown",
   "id": "52c5d4e0",
   "metadata": {
    "papermill": {
     "duration": 0.03197,
     "end_time": "2022-11-03T18:01:01.634098",
     "exception": false,
     "start_time": "2022-11-03T18:01:01.602128",
     "status": "completed"
    },
    "tags": []
   },
   "source": [
    "* The self rated fitness score of the customers range from 'unfit' (rating 2) to 'very fit' (rating 5)\n",
    "* There are outliers for 'very unfit' (rating 1)\n",
    "* Maximum number of customers have rated their fitness level as 3\n",
    "* Quite a handful of them have given the maximum of 5\n",
    "* Fitness is right skewed (Mean = 3.31, Median = 3)"
   ]
  },
  {
   "cell_type": "markdown",
   "id": "03d0faf2",
   "metadata": {
    "papermill": {
     "duration": 0.032009,
     "end_time": "2022-11-03T18:01:01.698678",
     "exception": false,
     "start_time": "2022-11-03T18:01:01.666669",
     "status": "completed"
    },
    "tags": []
   },
   "source": [
    "**5. Income**"
   ]
  },
  {
   "cell_type": "code",
   "execution_count": 31,
   "id": "6bafecd8",
   "metadata": {
    "execution": {
     "iopub.execute_input": "2022-11-03T18:01:01.765649Z",
     "iopub.status.busy": "2022-11-03T18:01:01.764959Z",
     "iopub.status.idle": "2022-11-03T18:01:02.437756Z",
     "shell.execute_reply": "2022-11-03T18:01:02.436741Z"
    },
    "papermill": {
     "duration": 0.709525,
     "end_time": "2022-11-03T18:01:02.440635",
     "exception": false,
     "start_time": "2022-11-03T18:01:01.731110",
     "status": "completed"
    },
    "tags": []
   },
   "outputs": [
    {
     "data": {
      "image/png": "[encoded data removed]",
      "text/plain": [
       "<Figure size 1440x360 with 2 Axes>"
      ]
     },
     "metadata": {},
     "output_type": "display_data"
    }
   ],
   "source": [
    "plt.figure(figsize = (20,5))\n",
    "plt.subplot(1,2,1)  \n",
    "sns.histplot(data.Income)  \n",
    "plt.xticks(rotation = 90)     # rotating the x-labels for a better visibility\n",
    "plt.subplot(1,2,2)\n",
    "sns.boxplot(data.Income)\n",
    "plt.show()"
   ]
  },
  {
   "cell_type": "markdown",
   "id": "48ba513e",
   "metadata": {
    "papermill": {
     "duration": 0.032363,
     "end_time": "2022-11-03T18:01:02.506826",
     "exception": false,
     "start_time": "2022-11-03T18:01:02.474463",
     "status": "completed"
    },
    "tags": []
   },
   "source": [
    "* The minimum value of the average annual income of the customer is about 30k whereas the maximum is around 77k with outliers ranging upto 104k+.\n",
    "* The IQR ranges between 43k to 58k.\n",
    "* Income is right skewed."
   ]
  },
  {
   "cell_type": "markdown",
   "id": "fcc2e4c6",
   "metadata": {
    "papermill": {
     "duration": 0.032234,
     "end_time": "2022-11-03T18:01:02.572203",
     "exception": false,
     "start_time": "2022-11-03T18:01:02.539969",
     "status": "completed"
    },
    "tags": []
   },
   "source": [
    "**6. Miles expected to run per week**"
   ]
  },
  {
   "cell_type": "code",
   "execution_count": 32,
   "id": "fce455d8",
   "metadata": {
    "execution": {
     "iopub.execute_input": "2022-11-03T18:01:02.639437Z",
     "iopub.status.busy": "2022-11-03T18:01:02.638939Z",
     "iopub.status.idle": "2022-11-03T18:01:03.094695Z",
     "shell.execute_reply": "2022-11-03T18:01:03.093469Z"
    },
    "papermill": {
     "duration": 0.492725,
     "end_time": "2022-11-03T18:01:03.097533",
     "exception": false,
     "start_time": "2022-11-03T18:01:02.604808",
     "status": "completed"
    },
    "tags": []
   },
   "outputs": [
    {
     "data": {
      "image/png": "[encoded data removed]",
      "text/plain": [
       "<Figure size 1440x360 with 2 Axes>"
      ]
     },
     "metadata": {},
     "output_type": "display_data"
    }
   ],
   "source": [
    "plt.figure(figsize = (20,5))\n",
    "plt.subplot(1,2,1)   \n",
    "sns.histplot(data.Miles)\n",
    "plt.subplot(1,2,2)\n",
    "sns.boxplot(data.Miles)\n",
    "plt.show()"
   ]
  },
  {
   "cell_type": "markdown",
   "id": "324a8777",
   "metadata": {
    "papermill": {
     "duration": 0.035129,
     "end_time": "2022-11-03T18:01:03.165597",
     "exception": false,
     "start_time": "2022-11-03T18:01:03.130468",
     "status": "completed"
    },
    "tags": []
   },
   "source": [
    "* The minimum number of miles expected to run is around 21 miles/week and the maximum is around 180 miles/week.\n",
    "* The outliers are ranging until around 360 miles/week.\n",
    "* On an average the highest number of miles run/week aboout 43 miles.\n",
    "* Miles/week is right skewed."
   ]
  },
  {
   "cell_type": "markdown",
   "id": "d356aa5a",
   "metadata": {
    "papermill": {
     "duration": 0.032644,
     "end_time": "2022-11-03T18:01:03.231897",
     "exception": false,
     "start_time": "2022-11-03T18:01:03.199253",
     "status": "completed"
    },
    "tags": []
   },
   "source": [
    "# Bivariate Analysis of Numerical Data"
   ]
  },
  {
   "cell_type": "markdown",
   "id": "a46dd333",
   "metadata": {
    "papermill": {
     "duration": 0.033037,
     "end_time": "2022-11-03T18:01:03.297756",
     "exception": false,
     "start_time": "2022-11-03T18:01:03.264719",
     "status": "completed"
    },
    "tags": []
   },
   "source": [
    "** 1. Age vs Usage**"
   ]
  },
  {
   "cell_type": "code",
   "execution_count": 33,
   "id": "0d29c2bf",
   "metadata": {
    "execution": {
     "iopub.execute_input": "2022-11-03T18:01:03.366255Z",
     "iopub.status.busy": "2022-11-03T18:01:03.365827Z",
     "iopub.status.idle": "2022-11-03T18:01:03.618934Z",
     "shell.execute_reply": "2022-11-03T18:01:03.617576Z"
    },
    "papermill": {
     "duration": 0.290661,
     "end_time": "2022-11-03T18:01:03.621960",
     "exception": false,
     "start_time": "2022-11-03T18:01:03.331299",
     "status": "completed"
    },
    "tags": []
   },
   "outputs": [
    {
     "data": {
      "text/plain": [
       "<AxesSubplot:xlabel='Age', ylabel='Usage'>"
      ]
     },
     "execution_count": 33,
     "metadata": {},
     "output_type": "execute_result"
    },
    {
     "data": {
      "image/png": "[encoded data removed]",
      "text/plain": [
       "<Figure size 432x288 with 1 Axes>"
      ]
     },
     "metadata": {},
     "output_type": "display_data"
    }
   ],
   "source": [
    "sns.lineplot(x = 'Age', y = 'Usage', data = data, ci = None)   # creating lineplot with confidence interval (ci) set to None"
   ]
  },
  {
   "cell_type": "markdown",
   "id": "c26afa06",
   "metadata": {
    "papermill": {
     "duration": 0.033444,
     "end_time": "2022-11-03T18:01:03.689794",
     "exception": false,
     "start_time": "2022-11-03T18:01:03.656350",
     "status": "completed"
    },
    "tags": []
   },
   "source": [
    "* Customers of age 40 to 43 years, have the maximum usage per week\n",
    "* There is a steep drop in the usage by customers in their late 30s, after which the average usage per week gradually increases.\n",
    "* Customers in their mid 40's use the treadmill for 3 to 4 days per week\n",
    "* Whereas customers in their late 40's to 50's use the treadmill consistently for 3 days/week only.\n",
    "* Overall age does not seem to drastically affect the use of the treadmill."
   ]
  },
  {
   "cell_type": "markdown",
   "id": "0614c49f",
   "metadata": {
    "papermill": {
     "duration": 0.034692,
     "end_time": "2022-11-03T18:01:03.758737",
     "exception": false,
     "start_time": "2022-11-03T18:01:03.724045",
     "status": "completed"
    },
    "tags": []
   },
   "source": [
    "**2. Age vs Miles**"
   ]
  },
  {
   "cell_type": "code",
   "execution_count": 34,
   "id": "8e5ba8bb",
   "metadata": {
    "execution": {
     "iopub.execute_input": "2022-11-03T18:01:03.830133Z",
     "iopub.status.busy": "2022-11-03T18:01:03.829688Z",
     "iopub.status.idle": "2022-11-03T18:01:04.094153Z",
     "shell.execute_reply": "2022-11-03T18:01:04.092675Z"
    },
    "papermill": {
     "duration": 0.30314,
     "end_time": "2022-11-03T18:01:04.097293",
     "exception": false,
     "start_time": "2022-11-03T18:01:03.794153",
     "status": "completed"
    },
    "tags": []
   },
   "outputs": [
    {
     "data": {
      "text/plain": [
       "<AxesSubplot:xlabel='Age', ylabel='Miles'>"
      ]
     },
     "execution_count": 34,
     "metadata": {},
     "output_type": "execute_result"
    },
    {
     "data": {
      "image/png": "[encoded data removed]",
      "text/plain": [
       "<Figure size 432x288 with 1 Axes>"
      ]
     },
     "metadata": {},
     "output_type": "display_data"
    }
   ],
   "source": [
    "sns.lineplot(x = 'Age', y = 'Miles', data = data, ci = None)"
   ]
  },
  {
   "cell_type": "markdown",
   "id": "8ac24e7d",
   "metadata": {
    "papermill": {
     "duration": 0.034355,
     "end_time": "2022-11-03T18:01:04.166832",
     "exception": false,
     "start_time": "2022-11-03T18:01:04.132477",
     "status": "completed"
    },
    "tags": []
   },
   "source": [
    "* Customers of age 40 to 42 years run the maximum number of miles\n",
    "* Customers in their late 20's, late 30's and late 40's seem to show a close pattern\n",
    "* Miles run/week shows a steep drop in customers of age 42-43 and 45-47"
   ]
  },
  {
   "cell_type": "markdown",
   "id": "44fbb12b",
   "metadata": {
    "papermill": {
     "duration": 0.033869,
     "end_time": "2022-11-03T18:01:04.235743",
     "exception": false,
     "start_time": "2022-11-03T18:01:04.201874",
     "status": "completed"
    },
    "tags": []
   },
   "source": [
    "**3. Age vs Fitness**"
   ]
  },
  {
   "cell_type": "code",
   "execution_count": 35,
   "id": "2b363c11",
   "metadata": {
    "execution": {
     "iopub.execute_input": "2022-11-03T18:01:04.308339Z",
     "iopub.status.busy": "2022-11-03T18:01:04.307598Z",
     "iopub.status.idle": "2022-11-03T18:01:04.563344Z",
     "shell.execute_reply": "2022-11-03T18:01:04.561720Z"
    },
    "papermill": {
     "duration": 0.296746,
     "end_time": "2022-11-03T18:01:04.566787",
     "exception": false,
     "start_time": "2022-11-03T18:01:04.270041",
     "status": "completed"
    },
    "tags": []
   },
   "outputs": [
    {
     "data": {
      "text/plain": [
       "<AxesSubplot:xlabel='Age', ylabel='Fitness'>"
      ]
     },
     "execution_count": 35,
     "metadata": {},
     "output_type": "execute_result"
    },
    {
     "data": {
      "image/png": "[encoded data removed]",
      "text/plain": [
       "<Figure size 432x288 with 1 Axes>"
      ]
     },
     "metadata": {},
     "output_type": "display_data"
    }
   ],
   "source": [
    "sns.lineplot(x = 'Age', y = 'Fitness', data = data, ci = None)"
   ]
  },
  {
   "cell_type": "markdown",
   "id": "b736d898",
   "metadata": {
    "papermill": {
     "duration": 0.036961,
     "end_time": "2022-11-03T18:01:04.641996",
     "exception": false,
     "start_time": "2022-11-03T18:01:04.605035",
     "status": "completed"
    },
    "tags": []
   },
   "source": [
    "* Customers about 45-46 years of age have the lowest fitness rating\n",
    "* We can also see a drop in fitness level rating by customers in their early 30's\n",
    "* 4 rating is common among the customers of age 47-48"
   ]
  },
  {
   "cell_type": "markdown",
   "id": "db03cdfd",
   "metadata": {
    "papermill": {
     "duration": 0.036329,
     "end_time": "2022-11-03T18:01:04.715195",
     "exception": false,
     "start_time": "2022-11-03T18:01:04.678866",
     "status": "completed"
    },
    "tags": []
   },
   "source": [
    "**4. Usage vs Miles**"
   ]
  },
  {
   "cell_type": "code",
   "execution_count": 36,
   "id": "792b9935",
   "metadata": {
    "execution": {
     "iopub.execute_input": "2022-11-03T18:01:04.790280Z",
     "iopub.status.busy": "2022-11-03T18:01:04.789758Z",
     "iopub.status.idle": "2022-11-03T18:01:05.039484Z",
     "shell.execute_reply": "2022-11-03T18:01:05.038090Z"
    },
    "papermill": {
     "duration": 0.291239,
     "end_time": "2022-11-03T18:01:05.042430",
     "exception": false,
     "start_time": "2022-11-03T18:01:04.751191",
     "status": "completed"
    },
    "tags": []
   },
   "outputs": [
    {
     "data": {
      "text/plain": [
       "<AxesSubplot:xlabel='Usage', ylabel='Miles'>"
      ]
     },
     "execution_count": 36,
     "metadata": {},
     "output_type": "execute_result"
    },
    {
     "data": {
      "image/png": "[encoded data removed]",
      "text/plain": [
       "<Figure size 432x288 with 1 Axes>"
      ]
     },
     "metadata": {},
     "output_type": "display_data"
    }
   ],
   "source": [
    "sns.lineplot(x = 'Usage', y = 'Miles', data = data, ci = None)"
   ]
  },
  {
   "cell_type": "markdown",
   "id": "c0636c90",
   "metadata": {
    "papermill": {
     "duration": 0.03759,
     "end_time": "2022-11-03T18:01:05.118357",
     "exception": false,
     "start_time": "2022-11-03T18:01:05.080767",
     "status": "completed"
    },
    "tags": []
   },
   "source": [
    "* Miles run/week has a positive correlation with the average usage/week"
   ]
  },
  {
   "cell_type": "markdown",
   "id": "326dd14a",
   "metadata": {
    "papermill": {
     "duration": 0.036324,
     "end_time": "2022-11-03T18:01:05.192303",
     "exception": false,
     "start_time": "2022-11-03T18:01:05.155979",
     "status": "completed"
    },
    "tags": []
   },
   "source": [
    "**5. Usage vs Fitness**"
   ]
  },
  {
   "cell_type": "code",
   "execution_count": 37,
   "id": "af90ae54",
   "metadata": {
    "execution": {
     "iopub.execute_input": "2022-11-03T18:01:05.266613Z",
     "iopub.status.busy": "2022-11-03T18:01:05.266095Z",
     "iopub.status.idle": "2022-11-03T18:01:05.557010Z",
     "shell.execute_reply": "2022-11-03T18:01:05.555698Z"
    },
    "papermill": {
     "duration": 0.331394,
     "end_time": "2022-11-03T18:01:05.559718",
     "exception": false,
     "start_time": "2022-11-03T18:01:05.228324",
     "status": "completed"
    },
    "tags": []
   },
   "outputs": [
    {
     "data": {
      "text/plain": [
       "<AxesSubplot:xlabel='Usage', ylabel='Fitness'>"
      ]
     },
     "execution_count": 37,
     "metadata": {},
     "output_type": "execute_result"
    },
    {
     "data": {
      "image/png": "[encoded data removed]",
      "text/plain": [
       "<Figure size 432x288 with 1 Axes>"
      ]
     },
     "metadata": {},
     "output_type": "display_data"
    }
   ],
   "source": [
    "sns.lineplot(x = 'Usage', y = 'Fitness', data = data, ci = None)"
   ]
  },
  {
   "cell_type": "markdown",
   "id": "7d99b1c4",
   "metadata": {
    "papermill": {
     "duration": 0.036437,
     "end_time": "2022-11-03T18:01:05.633399",
     "exception": false,
     "start_time": "2022-11-03T18:01:05.596962",
     "status": "completed"
    },
    "tags": []
   },
   "source": [
    "* Fitness level rating increases with the increase in average usage/week."
   ]
  },
  {
   "cell_type": "markdown",
   "id": "18eda63f",
   "metadata": {
    "papermill": {
     "duration": 0.037646,
     "end_time": "2022-11-03T18:01:05.708950",
     "exception": false,
     "start_time": "2022-11-03T18:01:05.671304",
     "status": "completed"
    },
    "tags": []
   },
   "source": [
    "**6. Fitness vs Miles**"
   ]
  },
  {
   "cell_type": "code",
   "execution_count": 38,
   "id": "2e5d6986",
   "metadata": {
    "execution": {
     "iopub.execute_input": "2022-11-03T18:01:05.786143Z",
     "iopub.status.busy": "2022-11-03T18:01:05.784993Z",
     "iopub.status.idle": "2022-11-03T18:01:06.113480Z",
     "shell.execute_reply": "2022-11-03T18:01:06.112247Z"
    },
    "papermill": {
     "duration": 0.370077,
     "end_time": "2022-11-03T18:01:06.116189",
     "exception": false,
     "start_time": "2022-11-03T18:01:05.746112",
     "status": "completed"
    },
    "tags": []
   },
   "outputs": [
    {
     "data": {
      "text/plain": [
       "<AxesSubplot:xlabel='Fitness', ylabel='Miles'>"
      ]
     },
     "execution_count": 38,
     "metadata": {},
     "output_type": "execute_result"
    },
    {
     "data": {
      "image/png": "[encoded data removed]",
      "text/plain": [
       "<Figure size 432x288 with 1 Axes>"
      ]
     },
     "metadata": {},
     "output_type": "display_data"
    }
   ],
   "source": [
    "sns.lineplot(x = 'Fitness', y = 'Miles', data = data, ci = None)"
   ]
  },
  {
   "cell_type": "markdown",
   "id": "b0f4ec74",
   "metadata": {
    "papermill": {
     "duration": 0.037844,
     "end_time": "2022-11-03T18:01:06.191691",
     "exception": false,
     "start_time": "2022-11-03T18:01:06.153847",
     "status": "completed"
    },
    "tags": []
   },
   "source": [
    "* Fitness level increases with the increase in miles run/week\n",
    "* Fitness is in positive correlation with miles run/week"
   ]
  },
  {
   "cell_type": "markdown",
   "id": "f36083aa",
   "metadata": {
    "papermill": {
     "duration": 0.036301,
     "end_time": "2022-11-03T18:01:06.264650",
     "exception": false,
     "start_time": "2022-11-03T18:01:06.228349",
     "status": "completed"
    },
    "tags": []
   },
   "source": [
    "**7. Income vs Miles**"
   ]
  },
  {
   "cell_type": "code",
   "execution_count": 39,
   "id": "01b254d9",
   "metadata": {
    "execution": {
     "iopub.execute_input": "2022-11-03T18:01:06.340836Z",
     "iopub.status.busy": "2022-11-03T18:01:06.340299Z",
     "iopub.status.idle": "2022-11-03T18:01:06.658872Z",
     "shell.execute_reply": "2022-11-03T18:01:06.657737Z"
    },
    "papermill": {
     "duration": 0.361378,
     "end_time": "2022-11-03T18:01:06.662072",
     "exception": false,
     "start_time": "2022-11-03T18:01:06.300694",
     "status": "completed"
    },
    "tags": []
   },
   "outputs": [
    {
     "data": {
      "text/plain": [
       "<AxesSubplot:xlabel='Income', ylabel='Miles'>"
      ]
     },
     "execution_count": 39,
     "metadata": {},
     "output_type": "execute_result"
    },
    {
     "data": {
      "image/png": "[encoded data removed]",
      "text/plain": [
       "<Figure size 432x288 with 1 Axes>"
      ]
     },
     "metadata": {},
     "output_type": "display_data"
    }
   ],
   "source": [
    "sns.lineplot(x = 'Income', y = 'Miles', data = data, ci = None)"
   ]
  },
  {
   "cell_type": "markdown",
   "id": "287563cb",
   "metadata": {
    "papermill": {
     "duration": 0.042426,
     "end_time": "2022-11-03T18:01:06.747764",
     "exception": false,
     "start_time": "2022-11-03T18:01:06.705338",
     "status": "completed"
    },
    "tags": []
   },
   "source": [
    "* Customers with an average annual income more the 70k seem to run miles ranging anywhere between 120 and 300 miles\n",
    "* Whereas the average number of miles run/week by customers under 70k income is 150 miles and the highest is 200 miles"
   ]
  },
  {
   "cell_type": "markdown",
   "id": "5c42ac03",
   "metadata": {
    "papermill": {
     "duration": 0.038548,
     "end_time": "2022-11-03T18:01:06.826305",
     "exception": false,
     "start_time": "2022-11-03T18:01:06.787757",
     "status": "completed"
    },
    "tags": []
   },
   "source": [
    "# Bivariate Analysis of Categorical Data"
   ]
  },
  {
   "cell_type": "markdown",
   "id": "b2037661",
   "metadata": {
    "papermill": {
     "duration": 0.036285,
     "end_time": "2022-11-03T18:01:06.901103",
     "exception": false,
     "start_time": "2022-11-03T18:01:06.864818",
     "status": "completed"
    },
    "tags": []
   },
   "source": [
    "**1. Product vs Gender**"
   ]
  },
  {
   "cell_type": "code",
   "execution_count": 40,
   "id": "0c59728b",
   "metadata": {
    "execution": {
     "iopub.execute_input": "2022-11-03T18:01:06.976733Z",
     "iopub.status.busy": "2022-11-03T18:01:06.976106Z",
     "iopub.status.idle": "2022-11-03T18:01:07.239696Z",
     "shell.execute_reply": "2022-11-03T18:01:07.238463Z"
    },
    "papermill": {
     "duration": 0.304547,
     "end_time": "2022-11-03T18:01:07.242394",
     "exception": false,
     "start_time": "2022-11-03T18:01:06.937847",
     "status": "completed"
    },
    "tags": []
   },
   "outputs": [
    {
     "data": {
      "text/plain": [
       "<matplotlib.legend.Legend at 0x7f169ae9e310>"
      ]
     },
     "execution_count": 40,
     "metadata": {},
     "output_type": "execute_result"
    },
    {
     "data": {
      "image/png": "[encoded data removed]",
      "text/plain": [
       "<Figure size 432x288 with 1 Axes>"
      ]
     },
     "metadata": {},
     "output_type": "display_data"
    }
   ],
   "source": [
    "sns.countplot(x = 'Product', data = data, hue = 'Gender')\n",
    "plt.legend(bbox_to_anchor = (1,0.2))                      # specifying the position of the labels mentioned in the key"
   ]
  },
  {
   "cell_type": "markdown",
   "id": "1aa0e907",
   "metadata": {
    "papermill": {
     "duration": 0.036456,
     "end_time": "2022-11-03T18:01:07.316151",
     "exception": false,
     "start_time": "2022-11-03T18:01:07.279695",
     "status": "completed"
    },
    "tags": []
   },
   "source": [
    "* 'TM195' is equally preferred by both genders\n",
    "* There is a very little difference between genders choosing 'TM498'\n",
    "* 'TM798' seems to be highly preferred by Male customers comparatively."
   ]
  },
  {
   "cell_type": "markdown",
   "id": "96e43b00",
   "metadata": {
    "papermill": {
     "duration": 0.037017,
     "end_time": "2022-11-03T18:01:07.389973",
     "exception": false,
     "start_time": "2022-11-03T18:01:07.352956",
     "status": "completed"
    },
    "tags": []
   },
   "source": [
    "**2. Marital Status vs Gender**"
   ]
  },
  {
   "cell_type": "code",
   "execution_count": 41,
   "id": "a87130e0",
   "metadata": {
    "execution": {
     "iopub.execute_input": "2022-11-03T18:01:07.467313Z",
     "iopub.status.busy": "2022-11-03T18:01:07.466869Z",
     "iopub.status.idle": "2022-11-03T18:01:07.713146Z",
     "shell.execute_reply": "2022-11-03T18:01:07.712164Z"
    },
    "papermill": {
     "duration": 0.288761,
     "end_time": "2022-11-03T18:01:07.715647",
     "exception": false,
     "start_time": "2022-11-03T18:01:07.426886",
     "status": "completed"
    },
    "tags": []
   },
   "outputs": [
    {
     "data": {
      "text/plain": [
       "<matplotlib.legend.Legend at 0x7f169c556e50>"
      ]
     },
     "execution_count": 41,
     "metadata": {},
     "output_type": "execute_result"
    },
    {
     "data": {
      "image/png": "[encoded data removed]",
      "text/plain": [
       "<Figure size 432x288 with 1 Axes>"
      ]
     },
     "metadata": {},
     "output_type": "display_data"
    }
   ],
   "source": [
    "sns.countplot(x = 'MaritalStatus', data = data, hue = 'Gender')\n",
    "plt.legend(bbox_to_anchor = (1,0.2))"
   ]
  },
  {
   "cell_type": "markdown",
   "id": "fa864fb9",
   "metadata": {
    "papermill": {
     "duration": 0.039117,
     "end_time": "2022-11-03T18:01:07.793747",
     "exception": false,
     "start_time": "2022-11-03T18:01:07.754630",
     "status": "completed"
    },
    "tags": []
   },
   "source": [
    "* Married or unmarried, Male customer's out number in both cases."
   ]
  },
  {
   "cell_type": "markdown",
   "id": "206d11dd",
   "metadata": {
    "papermill": {
     "duration": 0.038542,
     "end_time": "2022-11-03T18:01:07.871610",
     "exception": false,
     "start_time": "2022-11-03T18:01:07.833068",
     "status": "completed"
    },
    "tags": []
   },
   "source": [
    "**3. Product vs Marital Status**"
   ]
  },
  {
   "cell_type": "code",
   "execution_count": 42,
   "id": "ef55f156",
   "metadata": {
    "execution": {
     "iopub.execute_input": "2022-11-03T18:01:07.954105Z",
     "iopub.status.busy": "2022-11-03T18:01:07.952906Z",
     "iopub.status.idle": "2022-11-03T18:01:08.203825Z",
     "shell.execute_reply": "2022-11-03T18:01:08.202526Z"
    },
    "papermill": {
     "duration": 0.296548,
     "end_time": "2022-11-03T18:01:08.206909",
     "exception": false,
     "start_time": "2022-11-03T18:01:07.910361",
     "status": "completed"
    },
    "tags": []
   },
   "outputs": [
    {
     "data": {
      "text/plain": [
       "<matplotlib.legend.Legend at 0x7f169add6c50>"
      ]
     },
     "execution_count": 42,
     "metadata": {},
     "output_type": "execute_result"
    },
    {
     "data": {
      "image/png": "[encoded data removed]",
      "text/plain": [
       "<Figure size 432x288 with 1 Axes>"
      ]
     },
     "metadata": {},
     "output_type": "display_data"
    }
   ],
   "source": [
    "sns.countplot(x = 'Product', data = data, hue = 'MaritalStatus')\n",
    "plt.legend(bbox_to_anchor = (1,0.2))"
   ]
  },
  {
   "cell_type": "markdown",
   "id": "acabbe61",
   "metadata": {
    "papermill": {
     "duration": 0.045132,
     "end_time": "2022-11-03T18:01:08.296082",
     "exception": false,
     "start_time": "2022-11-03T18:01:08.250950",
     "status": "completed"
    },
    "tags": []
   },
   "source": [
    "* In comparison, the number of married customers is more for each model."
   ]
  },
  {
   "cell_type": "markdown",
   "id": "f71adefe",
   "metadata": {
    "papermill": {
     "duration": 0.039362,
     "end_time": "2022-11-03T18:01:08.373751",
     "exception": false,
     "start_time": "2022-11-03T18:01:08.334389",
     "status": "completed"
    },
    "tags": []
   },
   "source": [
    "# Bivariate Analysis of Categorical vs Numerical Data"
   ]
  },
  {
   "cell_type": "markdown",
   "id": "fd92652e",
   "metadata": {
    "papermill": {
     "duration": 0.037986,
     "end_time": "2022-11-03T18:01:08.450421",
     "exception": false,
     "start_time": "2022-11-03T18:01:08.412435",
     "status": "completed"
    },
    "tags": []
   },
   "source": [
    "**1. Product vs Age**"
   ]
  },
  {
   "cell_type": "code",
   "execution_count": 43,
   "id": "d57810bb",
   "metadata": {
    "execution": {
     "iopub.execute_input": "2022-11-03T18:01:08.530296Z",
     "iopub.status.busy": "2022-11-03T18:01:08.529545Z",
     "iopub.status.idle": "2022-11-03T18:01:08.778481Z",
     "shell.execute_reply": "2022-11-03T18:01:08.777247Z"
    },
    "papermill": {
     "duration": 0.291522,
     "end_time": "2022-11-03T18:01:08.781091",
     "exception": false,
     "start_time": "2022-11-03T18:01:08.489569",
     "status": "completed"
    },
    "tags": []
   },
   "outputs": [
    {
     "data": {
      "text/plain": [
       "<AxesSubplot:xlabel='Product', ylabel='Age'>"
      ]
     },
     "execution_count": 43,
     "metadata": {},
     "output_type": "execute_result"
    },
    {
     "data": {
      "image/png": "[encoded data removed]",
      "text/plain": [
       "<Figure size 432x288 with 1 Axes>"
      ]
     },
     "metadata": {},
     "output_type": "display_data"
    }
   ],
   "source": [
    "sns.boxplot(x = 'Product', y = 'Age', data = data)   # creating a boxplot"
   ]
  },
  {
   "cell_type": "markdown",
   "id": "6a429d08",
   "metadata": {
    "papermill": {
     "duration": 0.037701,
     "end_time": "2022-11-03T18:01:08.857062",
     "exception": false,
     "start_time": "2022-11-03T18:01:08.819361",
     "status": "completed"
    },
    "tags": []
   },
   "source": [
    "**'TM195'**\n",
    "* Minimum age of the customers is 18 and the maximum is 47\n",
    "* IQR is between 23 and 33\n",
    "* very few outliers above maximum age\n",
    "\n",
    "**'TM498'**\n",
    "* Minimum age of the customers is 19 and the maximum is 45\n",
    "* IQR is between 24 and 34\n",
    "* very few outliers above maximum age\n",
    "\n",
    "**'TM798'**\n",
    "* Minimum age of the customers is 22 and the maximum is 38\n",
    "* IQR is between 25 and 30\n",
    "* Significant number of outliers above the maximum age\n",
    "\n",
    "**Insight**\n",
    "* May be model TM798 is not affordale to customers below 22 years of age"
   ]
  },
  {
   "cell_type": "markdown",
   "id": "423e65a9",
   "metadata": {
    "papermill": {
     "duration": 0.037871,
     "end_time": "2022-11-03T18:01:08.933116",
     "exception": false,
     "start_time": "2022-11-03T18:01:08.895245",
     "status": "completed"
    },
    "tags": []
   },
   "source": [
    "**2. Product vs Usage**"
   ]
  },
  {
   "cell_type": "code",
   "execution_count": 44,
   "id": "99bb0327",
   "metadata": {
    "execution": {
     "iopub.execute_input": "2022-11-03T18:01:09.013429Z",
     "iopub.status.busy": "2022-11-03T18:01:09.012717Z",
     "iopub.status.idle": "2022-11-03T18:01:09.257685Z",
     "shell.execute_reply": "2022-11-03T18:01:09.256435Z"
    },
    "papermill": {
     "duration": 0.287371,
     "end_time": "2022-11-03T18:01:09.260067",
     "exception": false,
     "start_time": "2022-11-03T18:01:08.972696",
     "status": "completed"
    },
    "tags": []
   },
   "outputs": [
    {
     "data": {
      "text/plain": [
       "<AxesSubplot:xlabel='Product', ylabel='Usage'>"
      ]
     },
     "execution_count": 44,
     "metadata": {},
     "output_type": "execute_result"
    },
    {
     "data": {
      "image/png": "[encoded data removed]",
      "text/plain": [
       "<Figure size 432x288 with 1 Axes>"
      ]
     },
     "metadata": {},
     "output_type": "display_data"
    }
   ],
   "source": [
    "sns.boxplot(x = 'Product', y = 'Usage', data = data)"
   ]
  },
  {
   "cell_type": "markdown",
   "id": "31d3b02a",
   "metadata": {
    "papermill": {
     "duration": 0.03822,
     "end_time": "2022-11-03T18:01:09.336652",
     "exception": false,
     "start_time": "2022-11-03T18:01:09.298432",
     "status": "completed"
    },
    "tags": []
   },
   "source": [
    "**'TM195'**\n",
    "* Used minimum 2 days/week and maximum 5 days/week on an average\n",
    "* IQR is between 3-4 days/week\n",
    "* No outliers spotted\n",
    "\n",
    "**'TM498'**\n",
    "* No explicit minimum and maximum days/week\n",
    "* IQR is around 3 days/week\n",
    "* Outliers on both sides\n",
    "\n",
    "**'TM798'**\n",
    "* Used minimum 3 days/week and maximum 6 days/week\n",
    "* IQR is between 4-5 days/week\n",
    "* Vew few outliers above the maximum value"
   ]
  },
  {
   "cell_type": "markdown",
   "id": "84a5477a",
   "metadata": {
    "papermill": {
     "duration": 0.04023,
     "end_time": "2022-11-03T18:01:09.415423",
     "exception": false,
     "start_time": "2022-11-03T18:01:09.375193",
     "status": "completed"
    },
    "tags": []
   },
   "source": [
    "**3. Product vs Miles**"
   ]
  },
  {
   "cell_type": "code",
   "execution_count": 45,
   "id": "2d97fe10",
   "metadata": {
    "execution": {
     "iopub.execute_input": "2022-11-03T18:01:09.495549Z",
     "iopub.status.busy": "2022-11-03T18:01:09.494338Z",
     "iopub.status.idle": "2022-11-03T18:01:09.739752Z",
     "shell.execute_reply": "2022-11-03T18:01:09.738719Z"
    },
    "papermill": {
     "duration": 0.287769,
     "end_time": "2022-11-03T18:01:09.742304",
     "exception": false,
     "start_time": "2022-11-03T18:01:09.454535",
     "status": "completed"
    },
    "tags": []
   },
   "outputs": [
    {
     "data": {
      "text/plain": [
       "<AxesSubplot:xlabel='Product', ylabel='Miles'>"
      ]
     },
     "execution_count": 45,
     "metadata": {},
     "output_type": "execute_result"
    },
    {
     "data": {
      "image/png": "[encoded data removed]",
      "text/plain": [
       "<Figure size 432x288 with 1 Axes>"
      ]
     },
     "metadata": {},
     "output_type": "display_data"
    }
   ],
   "source": [
    "sns.boxplot(x = 'Product', y = 'Miles', data = data)"
   ]
  },
  {
   "cell_type": "markdown",
   "id": "1fa547cd",
   "metadata": {
    "papermill": {
     "duration": 0.038267,
     "end_time": "2022-11-03T18:01:09.819614",
     "exception": false,
     "start_time": "2022-11-03T18:01:09.781347",
     "status": "completed"
    },
    "tags": []
   },
   "source": [
    "**'TM195'**\n",
    "* Minimum miles run/week is 48 and maximum is 140, with outliers ranging until 200 miles/week\n",
    "* IQR is between 60-98 miles/week\n",
    "\n",
    "**'TM498'**\n",
    "* Minimum miles run/week is about 20 and maximum is 130, with outliers until about 210 miles/week\n",
    "* IQR is between 58-110 miles/week\n",
    "\n",
    "**'TM798'**\n",
    "* Minimum miles run/week is 80 and maximum is 300, with outliers until about 360 miles/week"
   ]
  },
  {
   "cell_type": "markdown",
   "id": "f5205a54",
   "metadata": {
    "papermill": {
     "duration": 0.038318,
     "end_time": "2022-11-03T18:01:09.897314",
     "exception": false,
     "start_time": "2022-11-03T18:01:09.858996",
     "status": "completed"
    },
    "tags": []
   },
   "source": [
    "**4. Product vs Fitness**"
   ]
  },
  {
   "cell_type": "code",
   "execution_count": 46,
   "id": "0808cb1f",
   "metadata": {
    "execution": {
     "iopub.execute_input": "2022-11-03T18:01:09.978210Z",
     "iopub.status.busy": "2022-11-03T18:01:09.977045Z",
     "iopub.status.idle": "2022-11-03T18:01:10.238119Z",
     "shell.execute_reply": "2022-11-03T18:01:10.236926Z"
    },
    "papermill": {
     "duration": 0.304718,
     "end_time": "2022-11-03T18:01:10.240803",
     "exception": false,
     "start_time": "2022-11-03T18:01:09.936085",
     "status": "completed"
    },
    "tags": []
   },
   "outputs": [
    {
     "data": {
      "text/plain": [
       "<AxesSubplot:xlabel='Product', ylabel='Fitness'>"
      ]
     },
     "execution_count": 46,
     "metadata": {},
     "output_type": "execute_result"
    },
    {
     "data": {
      "image/png": "[encoded data removed]",
      "text/plain": [
       "<Figure size 432x288 with 1 Axes>"
      ]
     },
     "metadata": {},
     "output_type": "display_data"
    }
   ],
   "source": [
    "sns.boxplot(x = 'Product', y = 'Fitness', data = data)"
   ]
  },
  {
   "cell_type": "markdown",
   "id": "ac832e6c",
   "metadata": {
    "papermill": {
     "duration": 0.039403,
     "end_time": "2022-11-03T18:01:10.320469",
     "exception": false,
     "start_time": "2022-11-03T18:01:10.281066",
     "status": "completed"
    },
    "tags": []
   },
   "source": [
    "**'TM195'**\n",
    "* Average fitness rating of the customers is 3\n",
    "* Few outliers ranging between 1 and 5\n",
    "\n",
    "**'TM498'**\n",
    "* Average fitness rating of the customers is 3\n",
    "* Few outliers ranging between 1 and 4\n",
    "\n",
    "**'TM478'**\n",
    "* Minimum fitness rating is 3\n",
    "* IQR ranges between 4 and 5\n",
    "* No outliers spotted"
   ]
  },
  {
   "cell_type": "markdown",
   "id": "210b0c1a",
   "metadata": {
    "papermill": {
     "duration": 0.039489,
     "end_time": "2022-11-03T18:01:10.399661",
     "exception": false,
     "start_time": "2022-11-03T18:01:10.360172",
     "status": "completed"
    },
    "tags": []
   },
   "source": [
    "**5. Product vs Income**"
   ]
  },
  {
   "cell_type": "code",
   "execution_count": 47,
   "id": "9804734f",
   "metadata": {
    "execution": {
     "iopub.execute_input": "2022-11-03T18:01:10.482515Z",
     "iopub.status.busy": "2022-11-03T18:01:10.482009Z",
     "iopub.status.idle": "2022-11-03T18:01:10.739742Z",
     "shell.execute_reply": "2022-11-03T18:01:10.738257Z"
    },
    "papermill": {
     "duration": 0.302524,
     "end_time": "2022-11-03T18:01:10.742348",
     "exception": false,
     "start_time": "2022-11-03T18:01:10.439824",
     "status": "completed"
    },
    "tags": []
   },
   "outputs": [
    {
     "data": {
      "text/plain": [
       "<AxesSubplot:xlabel='Product', ylabel='Income'>"
      ]
     },
     "execution_count": 47,
     "metadata": {},
     "output_type": "execute_result"
    },
    {
     "data": {
      "image/png": "[encoded data removed]",
      "text/plain": [
       "<Figure size 432x288 with 1 Axes>"
      ]
     },
     "metadata": {},
     "output_type": "display_data"
    }
   ],
   "source": [
    "sns.boxplot(x = 'Product', y = 'Income', data = data)"
   ]
  },
  {
   "cell_type": "markdown",
   "id": "688216ca",
   "metadata": {
    "papermill": {
     "duration": 0.039273,
     "end_time": "2022-11-03T18:01:10.821214",
     "exception": false,
     "start_time": "2022-11-03T18:01:10.781941",
     "status": "completed"
    },
    "tags": []
   },
   "source": [
    "**'TM195'**\n",
    "* Minimum average annual income is 30k and the maximum is 68k\n",
    "* IQR ranges between 39k-53k\n",
    "\n",
    "**'TM498'**\n",
    "* Minimum average annual income is 32k and the maximum is 67k with very litte outliers on both sides\n",
    "* IQR ranges between 43k-53k\n",
    "\n",
    "**'TM798'**\n",
    "Minimum average annual income is 48k and the maximum is 104k\n",
    "IQR between 58k-91k\n",
    "\n",
    "**Insights**\n",
    "* It could be an indicator that model TM798 is priced high\n",
    "* Which in turn suggets that it is not affordable to cutomers with low annual income"
   ]
  },
  {
   "cell_type": "markdown",
   "id": "ddef7915",
   "metadata": {
    "papermill": {
     "duration": 0.039395,
     "end_time": "2022-11-03T18:01:10.900240",
     "exception": false,
     "start_time": "2022-11-03T18:01:10.860845",
     "status": "completed"
    },
    "tags": []
   },
   "source": [
    "**6. Product vs Education**"
   ]
  },
  {
   "cell_type": "code",
   "execution_count": 48,
   "id": "050a9dab",
   "metadata": {
    "execution": {
     "iopub.execute_input": "2022-11-03T18:01:10.982177Z",
     "iopub.status.busy": "2022-11-03T18:01:10.980956Z",
     "iopub.status.idle": "2022-11-03T18:01:11.222849Z",
     "shell.execute_reply": "2022-11-03T18:01:11.221504Z"
    },
    "papermill": {
     "duration": 0.28554,
     "end_time": "2022-11-03T18:01:11.225630",
     "exception": false,
     "start_time": "2022-11-03T18:01:10.940090",
     "status": "completed"
    },
    "tags": []
   },
   "outputs": [
    {
     "data": {
      "text/plain": [
       "<AxesSubplot:xlabel='Product', ylabel='Education'>"
      ]
     },
     "execution_count": 48,
     "metadata": {},
     "output_type": "execute_result"
    },
    {
     "data": {
      "image/png": "[encoded data removed]",
      "text/plain": [
       "<Figure size 432x288 with 1 Axes>"
      ]
     },
     "metadata": {},
     "output_type": "display_data"
    }
   ],
   "source": [
    "sns.boxplot(x = 'Product', y = 'Education', data = data)"
   ]
  },
  {
   "cell_type": "markdown",
   "id": "9299f793",
   "metadata": {
    "papermill": {
     "duration": 0.039924,
     "end_time": "2022-11-03T18:01:11.305813",
     "exception": false,
     "start_time": "2022-11-03T18:01:11.265889",
     "status": "completed"
    },
    "tags": []
   },
   "source": [
    "**'TM195'**\n",
    "* Minimum years of education is 12 and the maximum is 18\n",
    "* IQR is 14-16 years\n",
    "\n",
    "**'TM498'**\n",
    "* Minimum years of education is 12 and the maximum is 18\n",
    "* IQR is 14-16 years\n",
    "\n",
    "**'TM798'**\n",
    "* Minimum years of education is 14 and the maximum is 21\n",
    "* IQR is 16-18 years\n",
    "\n",
    "**Insights**\n",
    "* Possibilities are customers with more years of education tend to have higher annual income\n",
    "* Again model TM798 may be priced high"
   ]
  },
  {
   "cell_type": "markdown",
   "id": "18f16cee",
   "metadata": {
    "papermill": {
     "duration": 0.040344,
     "end_time": "2022-11-03T18:01:11.387327",
     "exception": false,
     "start_time": "2022-11-03T18:01:11.346983",
     "status": "completed"
    },
    "tags": []
   },
   "source": [
    "**7. Marital Status vs Usage**"
   ]
  },
  {
   "cell_type": "code",
   "execution_count": 49,
   "id": "13452d62",
   "metadata": {
    "execution": {
     "iopub.execute_input": "2022-11-03T18:01:11.472125Z",
     "iopub.status.busy": "2022-11-03T18:01:11.471686Z",
     "iopub.status.idle": "2022-11-03T18:01:11.697740Z",
     "shell.execute_reply": "2022-11-03T18:01:11.695997Z"
    },
    "papermill": {
     "duration": 0.271519,
     "end_time": "2022-11-03T18:01:11.700984",
     "exception": false,
     "start_time": "2022-11-03T18:01:11.429465",
     "status": "completed"
    },
    "tags": []
   },
   "outputs": [
    {
     "data": {
      "text/plain": [
       "<AxesSubplot:xlabel='MaritalStatus', ylabel='Usage'>"
      ]
     },
     "execution_count": 49,
     "metadata": {},
     "output_type": "execute_result"
    },
    {
     "data": {
      "image/png": "[encoded data removed]",
      "text/plain": [
       "<Figure size 432x288 with 1 Axes>"
      ]
     },
     "metadata": {},
     "output_type": "display_data"
    }
   ],
   "source": [
    "sns.boxplot(x = 'MaritalStatus', y = 'Usage', data = data)"
   ]
  },
  {
   "cell_type": "markdown",
   "id": "946cac1c",
   "metadata": {
    "papermill": {
     "duration": 0.040254,
     "end_time": "2022-11-03T18:01:11.782074",
     "exception": false,
     "start_time": "2022-11-03T18:01:11.741820",
     "status": "completed"
    },
    "tags": []
   },
   "source": [
    "* Average usage/week has significantly same values for the minimum usage/week which is 2 and maximum usage/week which is 5.\n",
    "* Also the IQR in both cases is 3-4 days/week\n",
    "* Outliers in case of married customers ranges until 7 days/week whereas for that of single customers it is only 6 days/week."
   ]
  },
  {
   "cell_type": "markdown",
   "id": "bd2e7ea0",
   "metadata": {
    "papermill": {
     "duration": 0.041501,
     "end_time": "2022-11-03T18:01:11.864485",
     "exception": false,
     "start_time": "2022-11-03T18:01:11.822984",
     "status": "completed"
    },
    "tags": []
   },
   "source": [
    "# Multivariate Data Analysis"
   ]
  },
  {
   "cell_type": "markdown",
   "id": "1e7feeff",
   "metadata": {
    "papermill": {
     "duration": 0.040282,
     "end_time": "2022-11-03T18:01:11.946062",
     "exception": false,
     "start_time": "2022-11-03T18:01:11.905780",
     "status": "completed"
    },
    "tags": []
   },
   "source": [
    "**Product vs Education vs Usage vs Gender**"
   ]
  },
  {
   "cell_type": "code",
   "execution_count": 50,
   "id": "24eab712",
   "metadata": {
    "execution": {
     "iopub.execute_input": "2022-11-03T18:01:12.030725Z",
     "iopub.status.busy": "2022-11-03T18:01:12.029848Z",
     "iopub.status.idle": "2022-11-03T18:01:12.847138Z",
     "shell.execute_reply": "2022-11-03T18:01:12.846293Z"
    },
    "papermill": {
     "duration": 0.862534,
     "end_time": "2022-11-03T18:01:12.849397",
     "exception": false,
     "start_time": "2022-11-03T18:01:11.986863",
     "status": "completed"
    },
    "tags": []
   },
   "outputs": [
    {
     "data": {
      "text/plain": [
       "<seaborn.axisgrid.FacetGrid at 0x7f169a949a10>"
      ]
     },
     "execution_count": 50,
     "metadata": {},
     "output_type": "execute_result"
    },
    {
     "data": {
      "image/png": "[encoded data removed]",
      "text/plain": [
       "<Figure size 766.6x360 with 2 Axes>"
      ]
     },
     "metadata": {},
     "output_type": "display_data"
    }
   ],
   "source": [
    "sns.catplot(y = 'Education', hue = 'Usage', data = data, x = 'Product', ci = None, col = 'Gender', kind = 'bar')\n",
    "                    \n",
    "            # creating a categorical plot arranged in columns based on gender ; 'kind' refers to the type of plot preferred"
   ]
  },
  {
   "cell_type": "markdown",
   "id": "c283970a",
   "metadata": {
    "papermill": {
     "duration": 0.04218,
     "end_time": "2022-11-03T18:01:12.933310",
     "exception": false,
     "start_time": "2022-11-03T18:01:12.891130",
     "status": "completed"
    },
    "tags": []
   },
   "source": [
    "**'TM195'**\n",
    "* Female : Education is 14-16 year ; usage/week ranges between 2-5 days ; maximum days being 5\n",
    "* Male : Education is 14-15 years ; usage/week is 2-5 days ; maximum days being 3-5\n",
    "\n",
    "**'TM498'**\n",
    "* Female : Education is 14-15 years, usage/week ranges between 2-5 days ; maximum days being 2 and 3\n",
    "* Male : Education is 14-15 years, usage/week is 2-4 days ; maximum days being 2 and 3\n",
    "\n",
    "**'TM798'**\n",
    "* Female : Education is 17-18 years, usage/week ranges between 4-6 days ; maximum days being 4\n",
    "* Male : Education is 16-17 years, usage/week is 3-7 days ; maximum days being 6\n",
    "\n",
    "**Insights**\n",
    "* In general, customers with more years of education tend to earn higher.\n",
    "* This in turn indicates that model TM798 could be priced higher than the other models."
   ]
  },
  {
   "cell_type": "markdown",
   "id": "97941b47",
   "metadata": {
    "papermill": {
     "duration": 0.041589,
     "end_time": "2022-11-03T18:01:13.016435",
     "exception": false,
     "start_time": "2022-11-03T18:01:12.974846",
     "status": "completed"
    },
    "tags": []
   },
   "source": [
    "**Product vs Income vs Usage vs Gender**"
   ]
  },
  {
   "cell_type": "code",
   "execution_count": 51,
   "id": "d72104c0",
   "metadata": {
    "execution": {
     "iopub.execute_input": "2022-11-03T18:01:13.108881Z",
     "iopub.status.busy": "2022-11-03T18:01:13.108129Z",
     "iopub.status.idle": "2022-11-03T18:01:14.127036Z",
     "shell.execute_reply": "2022-11-03T18:01:14.126123Z"
    },
    "papermill": {
     "duration": 1.069323,
     "end_time": "2022-11-03T18:01:14.129331",
     "exception": false,
     "start_time": "2022-11-03T18:01:13.060008",
     "status": "completed"
    },
    "tags": []
   },
   "outputs": [
    {
     "data": {
      "text/plain": [
       "<seaborn.axisgrid.FacetGrid at 0x7f169a6fff10>"
      ]
     },
     "execution_count": 51,
     "metadata": {},
     "output_type": "execute_result"
    },
    {
     "data": {
      "image/png": "[encoded data removed]",
      "text/plain": [
       "<Figure size 796.85x360 with 2 Axes>"
      ]
     },
     "metadata": {},
     "output_type": "display_data"
    }
   ],
   "source": [
    "sns.catplot(x = 'Usage', hue = 'Product', y = 'Income', data = data, ci = None, col = 'Gender', kind = 'bar')"
   ]
  },
  {
   "cell_type": "markdown",
   "id": "8c2ae73c",
   "metadata": {
    "papermill": {
     "duration": 0.042423,
     "end_time": "2022-11-03T18:01:14.214176",
     "exception": false,
     "start_time": "2022-11-03T18:01:14.171753",
     "status": "completed"
    },
    "tags": []
   },
   "source": [
    "**'TM195'**\n",
    "* Female : Average annual income ranges between 42k-44k ; average usage is 2-5 days/week\n",
    "* Male : Average annual income ranges between 37k-42k ; average usage is 2-5 days/week\n",
    "\n",
    "**'TM498'**\n",
    "* Female : Average annual income ranges between 43k-54k ; average usage is 2-5 days/week\n",
    "* Male : Average annual income ranges between 43k-48k ; average usage is 2-4 days/week\n",
    "\n",
    "**'TM798'**\n",
    "* Female : Average annual income ranges between 57k+ -95k+ ; average usage is 4-6 days/week\n",
    "* Male : Average annual income ranges between 57k-82k ; average usage is 3-7 days/week"
   ]
  },
  {
   "cell_type": "markdown",
   "id": "8f84e169",
   "metadata": {
    "papermill": {
     "duration": 0.042574,
     "end_time": "2022-11-03T18:01:14.300179",
     "exception": false,
     "start_time": "2022-11-03T18:01:14.257605",
     "status": "completed"
    },
    "tags": []
   },
   "source": [
    "**Product vs Age vs Usage vs Gender**"
   ]
  },
  {
   "cell_type": "code",
   "execution_count": 52,
   "id": "0d0523da",
   "metadata": {
    "execution": {
     "iopub.execute_input": "2022-11-03T18:01:14.390019Z",
     "iopub.status.busy": "2022-11-03T18:01:14.389535Z",
     "iopub.status.idle": "2022-11-03T18:01:15.878194Z",
     "shell.execute_reply": "2022-11-03T18:01:15.876932Z"
    },
    "papermill": {
     "duration": 1.538117,
     "end_time": "2022-11-03T18:01:15.881245",
     "exception": false,
     "start_time": "2022-11-03T18:01:14.343128",
     "status": "completed"
    },
    "tags": []
   },
   "outputs": [
    {
     "data": {
      "text/plain": [
       "<seaborn.axisgrid.FacetGrid at 0x7f169a5f7f90>"
      ]
     },
     "execution_count": 52,
     "metadata": {},
     "output_type": "execute_result"
    },
    {
     "data": {
      "image/png": "[encoded data removed]",
      "text/plain": [
       "<Figure size 1159.73x360 with 3 Axes>"
      ]
     },
     "metadata": {},
     "output_type": "display_data"
    }
   ],
   "source": [
    "sns.catplot(x = 'Usage', y = 'Age', col = 'Product', data = data, hue = 'Gender', kind = 'bar')"
   ]
  },
  {
   "cell_type": "markdown",
   "id": "0033bb1a",
   "metadata": {
    "papermill": {
     "duration": 0.042384,
     "end_time": "2022-11-03T18:01:15.966731",
     "exception": false,
     "start_time": "2022-11-03T18:01:15.924347",
     "status": "completed"
    },
    "tags": []
   },
   "source": [
    "**'TM195'**\n",
    "* Female : Age of the customer ranges between 23 to 32 ; customers above 25 years use it 2-3 days/week and customers below 25 years use it 4-5 days/week on an average.\n",
    "* Male : Age of the customer ranges between 22 to 32 ; customers above 25 years use it 2-4 days/week and customers below 25 years use it 5 days/week on an average\n",
    "\n",
    "**'TM498'**\n",
    "* Female : Age of the customer ranges between 26 to 32 ; customers use it 2-5 days/week on an average\n",
    "* Male : Age of the customer ranges between 27-28 ; customers use it 2-4 days/week on an average\n",
    "\n",
    "**'TM798'**\n",
    "* Female : Age of the customer ranges between 23 to 28 ; customers use it 4-6 days/week on an average\n",
    "* Male : Age of the customer ranges between 22 to 35 ; customers use it 3-7 days/week on an average"
   ]
  },
  {
   "cell_type": "markdown",
   "id": "d30afbeb",
   "metadata": {
    "papermill": {
     "duration": 0.04252,
     "end_time": "2022-11-03T18:01:16.052176",
     "exception": false,
     "start_time": "2022-11-03T18:01:16.009656",
     "status": "completed"
    },
    "tags": []
   },
   "source": [
    "**Fitness vs Usage vs Product**"
   ]
  },
  {
   "cell_type": "code",
   "execution_count": 53,
   "id": "249d14c5",
   "metadata": {
    "execution": {
     "iopub.execute_input": "2022-11-03T18:01:16.139863Z",
     "iopub.status.busy": "2022-11-03T18:01:16.138496Z",
     "iopub.status.idle": "2022-11-03T18:01:16.807572Z",
     "shell.execute_reply": "2022-11-03T18:01:16.806152Z"
    },
    "papermill": {
     "duration": 0.71662,
     "end_time": "2022-11-03T18:01:16.811305",
     "exception": false,
     "start_time": "2022-11-03T18:01:16.094685",
     "status": "completed"
    },
    "tags": []
   },
   "outputs": [
    {
     "data": {
      "text/plain": [
       "<matplotlib.legend.Legend at 0x7f169a7ad690>"
      ]
     },
     "execution_count": 53,
     "metadata": {},
     "output_type": "execute_result"
    },
    {
     "data": {
      "image/png": "[encoded data removed]",
      "text/plain": [
       "<Figure size 504x360 with 1 Axes>"
      ]
     },
     "metadata": {},
     "output_type": "display_data"
    }
   ],
   "source": [
    "plt.figure(figsize = (7,5))\n",
    "sns.barplot(x = 'Usage', y = 'Fitness', data = data, hue = 'Product')\n",
    "plt.legend(bbox_to_anchor=(1, 1))"
   ]
  },
  {
   "cell_type": "markdown",
   "id": "96c2e052",
   "metadata": {
    "papermill": {
     "duration": 0.0434,
     "end_time": "2022-11-03T18:01:16.905078",
     "exception": false,
     "start_time": "2022-11-03T18:01:16.861678",
     "status": "completed"
    },
    "tags": []
   },
   "source": [
    "**'TM195'**\n",
    "* Usage ranges between 2-5 days/week ; Personal fitness score ranges from 1 to 5\n",
    "\n",
    "**'TM498'**\n",
    "* Usage ranges between 2-5 days/week ; Personal fitness score ranges from 1 to 4\n",
    "\n",
    "**'TM798'**\n",
    "* Usage ranges between 3-7 days/week ; Personal fitness score ranges from 3 to 5"
   ]
  },
  {
   "cell_type": "markdown",
   "id": "ee32066e",
   "metadata": {
    "papermill": {
     "duration": 0.043756,
     "end_time": "2022-11-03T18:01:16.992526",
     "exception": false,
     "start_time": "2022-11-03T18:01:16.948770",
     "status": "completed"
    },
    "tags": []
   },
   "source": [
    "**Miles vs Income vs Usage**"
   ]
  },
  {
   "cell_type": "code",
   "execution_count": 54,
   "id": "e5551507",
   "metadata": {
    "execution": {
     "iopub.execute_input": "2022-11-03T18:01:17.082626Z",
     "iopub.status.busy": "2022-11-03T18:01:17.082041Z",
     "iopub.status.idle": "2022-11-03T18:01:17.633818Z",
     "shell.execute_reply": "2022-11-03T18:01:17.632835Z"
    },
    "papermill": {
     "duration": 0.600326,
     "end_time": "2022-11-03T18:01:17.636286",
     "exception": false,
     "start_time": "2022-11-03T18:01:17.035960",
     "status": "completed"
    },
    "tags": []
   },
   "outputs": [
    {
     "data": {
      "text/plain": [
       "<matplotlib.legend.Legend at 0x7f169a527650>"
      ]
     },
     "execution_count": 54,
     "metadata": {},
     "output_type": "execute_result"
    },
    {
     "data": {
      "image/png": "[encoded data removed]",
      "text/plain": [
       "<Figure size 720x360 with 1 Axes>"
      ]
     },
     "metadata": {},
     "output_type": "display_data"
    }
   ],
   "source": [
    "plt.figure(figsize = (10,5))\n",
    "sns.scatterplot(x = 'Miles', y = 'Income', hue = 'Usage', data = data)\n",
    "plt.legend(bbox_to_anchor=(1,1))"
   ]
  },
  {
   "cell_type": "markdown",
   "id": "00b64bb5",
   "metadata": {
    "papermill": {
     "duration": 0.044054,
     "end_time": "2022-11-03T18:01:17.723960",
     "exception": false,
     "start_time": "2022-11-03T18:01:17.679906",
     "status": "completed"
    },
    "tags": []
   },
   "source": [
    "* Customers with average annual income below 70k run only under 220 miles/week\n",
    "* Customers with higher average annual income run anywhere between 100 to 360 miles/week"
   ]
  },
  {
   "cell_type": "markdown",
   "id": "0d0cd652",
   "metadata": {
    "papermill": {
     "duration": 0.042808,
     "end_time": "2022-11-03T18:01:17.810278",
     "exception": false,
     "start_time": "2022-11-03T18:01:17.767470",
     "status": "completed"
    },
    "tags": []
   },
   "source": [
    "**Usage vs Miles vs Fitness vs Product**"
   ]
  },
  {
   "cell_type": "code",
   "execution_count": 55,
   "id": "520352d5",
   "metadata": {
    "execution": {
     "iopub.execute_input": "2022-11-03T18:01:17.899883Z",
     "iopub.status.busy": "2022-11-03T18:01:17.898800Z",
     "iopub.status.idle": "2022-11-03T18:01:19.488194Z",
     "shell.execute_reply": "2022-11-03T18:01:19.486945Z"
    },
    "papermill": {
     "duration": 1.637591,
     "end_time": "2022-11-03T18:01:19.491633",
     "exception": false,
     "start_time": "2022-11-03T18:01:17.854042",
     "status": "completed"
    },
    "tags": []
   },
   "outputs": [
    {
     "data": {
      "text/plain": [
       "<seaborn.axisgrid.FacetGrid at 0x7f169b72dd50>"
      ]
     },
     "execution_count": 55,
     "metadata": {},
     "output_type": "execute_result"
    },
    {
     "data": {
      "image/png": "[encoded data removed]",
      "text/plain": [
       "<Figure size 1156.85x720 with 5 Axes>"
      ]
     },
     "metadata": {},
     "output_type": "display_data"
    }
   ],
   "source": [
    "sns.catplot(x = 'Usage',  y = 'Miles', col = 'Fitness', data = data, hue = 'Product', kind = 'bar', ci = None, col_wrap = 3)\n",
    "\n",
    "    # col_wrap refers where to break the column and move to the next row"
   ]
  },
  {
   "cell_type": "markdown",
   "id": "c0f83658",
   "metadata": {
    "papermill": {
     "duration": 0.045028,
     "end_time": "2022-11-03T18:01:19.581718",
     "exception": false,
     "start_time": "2022-11-03T18:01:19.536690",
     "status": "completed"
    },
    "tags": []
   },
   "source": [
    "* In general we can notice that as the average usage/week increases, the miles run/week increases and in turn the customers give a higher self fitness score.\n",
    "\n",
    "**'TM195'**\n",
    "* Used anywhere between 2-5 days/week ; Miles run is 40-180 miles/week ; Fitness rating is 1 to 5\n",
    "\n",
    "**'TM498'**\n",
    "* Used anywhere between 2-5 days/week ; Miles run is 20-220 miles/week ; Fitness rating is 1 to 4\n",
    "* Although the customers seem to run more miles than model TM195 for the same number of days, the fitness rating still remains less than that of model 'TM195'\n",
    "\n",
    "**'TM798'**\n",
    "* Used anywhere between 3-7 days/week ; Miles run is 80-230 miles/week ; Fitness rating is 3 to 5"
   ]
  },
  {
   "cell_type": "markdown",
   "id": "0bde365e",
   "metadata": {
    "papermill": {
     "duration": 0.043676,
     "end_time": "2022-11-03T18:01:19.669859",
     "exception": false,
     "start_time": "2022-11-03T18:01:19.626183",
     "status": "completed"
    },
    "tags": []
   },
   "source": [
    "# Conclusion"
   ]
  },
  {
   "cell_type": "markdown",
   "id": "a4c30f0b",
   "metadata": {
    "papermill": {
     "duration": 0.043958,
     "end_time": "2022-11-03T18:01:19.757755",
     "exception": false,
     "start_time": "2022-11-03T18:01:19.713797",
     "status": "completed"
    },
    "tags": []
   },
   "source": [
    "# Customer profile based on Model Numbers\n",
    "\n",
    "**'TM195'**\n",
    "* Minimum age of the customers is 18 and the maximum is 50 years\n",
    "* Equally preferred by both male and female customers\n",
    "* Education is 12-18 years\n",
    "* Minimum average annual income is 29.5k\n",
    "* Frequent usage of the produt is 3-4 days/week\n",
    "* Self fitness rating ranges from 1 to 5\n",
    "\n",
    "**'TM498'**\n",
    "* Minimum age of the customers is 19 and the maximum is 48 years\n",
    "* Number of male customers is slightly above the female customers\n",
    "* Education is 12-18 years\n",
    "* Minimum average annual income is 31.8k\n",
    "* Frequent usage of the product is 3 days/week\n",
    "* Self fitness rating ranges from 1 to 4\n",
    "\n",
    "**'TM798'**\n",
    "* Minimum age of the customers is 22 and the maximum is 48 years\n",
    "* Highly preferred by male customers\n",
    "* Education is 14-21 years\n",
    "* Minimum average annual income is 48.5k\n",
    "* Frequent usage of the product is 3 days/week\n",
    "* Self fitness rating ranges from 4 to 5"
   ]
  },
  {
   "cell_type": "markdown",
   "id": "a0c01335",
   "metadata": {
    "papermill": {
     "duration": 0.044061,
     "end_time": "2022-11-03T18:01:19.845651",
     "exception": false,
     "start_time": "2022-11-03T18:01:19.801590",
     "status": "completed"
    },
    "tags": []
   },
   "source": [
    "# Insights\n",
    "\n",
    "* The overall percentage of male customers is greater than female customers.\n",
    "* Model 'TM798' is preferred by customers with an annual income >48k which indicates that this model is highly priced and is not affordable by others.\n",
    "* Higher percentage of the customers are married.\n",
    "* Marital status does not influence the average usage/week.\n",
    "* Usage and miles run per week have a strong correlation.\n",
    "* Customers with an average annual income >70k seem to run the most anywhere between 120 and 300 miles.\n",
    "* Higher usage = Higher personal fitness rating\n",
    "\n",
    "**Note**\n",
    "\n",
    "Model 'TM798' has the least number of observations in all. This could also be the reason for the values to look higher during comparative analysis."
   ]
  },
  {
   "cell_type": "markdown",
   "id": "db36c40a",
   "metadata": {
    "papermill": {
     "duration": 0.043959,
     "end_time": "2022-11-03T18:01:19.933381",
     "exception": false,
     "start_time": "2022-11-03T18:01:19.889422",
     "status": "completed"
    },
    "tags": []
   },
   "source": [
    "# Recommendations\n",
    "\n",
    "* Procure equal number of observations for each model in order to perform accurate analysis of the data.\n",
    "* Procure more data on price and build a model that can predict optimal pricing.\n",
    "* Procure data on the specifications of the treadmill model to enable better understanding of why the customer prefers one model over the other.\n",
    "* Obtain observations as to why models TM195 and TM498 have a lower usage rate.\n",
    "* Investigate why female customers do not prefer Model TM798.\n",
    "* Suggest Model TM798 to customers who are more likely to use the product for a minimum of 4 days/week."
   ]
  }
 ],
 "metadata": {
  "kernelspec": {
   "display_name": "Python 3",
   "language": "python",
   "name": "python3"
  },
  "language_info": {
   "codemirror_mode": {
    "name": "ipython",
    "version": 3
   },
   "file_extension": ".py",
   "mimetype": "text/x-python",
   "name": "python",
   "nbconvert_exporter": "python",
   "pygments_lexer": "ipython3",
   "version": "3.7.12"
  },
  "papermill": {
   "default_parameters": {},
   "duration": 40.79632,
   "end_time": "2022-11-03T18:01:21.002556",
   "environment_variables": {},
   "exception": null,
   "input_path": "__notebook__.ipynb",
   "output_path": "__notebook__.ipynb",
   "parameters": {},
   "start_time": "2022-11-03T18:00:40.206236",
   "version": "2.3.4"
  }
 },
 "nbformat": 4,
 "nbformat_minor": 5
}
