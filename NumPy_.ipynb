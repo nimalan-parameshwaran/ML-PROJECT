{
  "nbformat": 4,
  "nbformat_minor": 0,
  "metadata": {
    "colab": {
      "provenance": [],
      "authorship_tag": "ABX9TyP83itzxKAm9RcYnlTZdyP9",
      "include_colab_link": true
    },
    "kernelspec": {
      "name": "python3",
      "display_name": "Python 3"
    },
    "language_info": {
      "name": "python"
    }
  },
  "cells": [
    {
      "cell_type": "markdown",
      "metadata": {
        "id": "view-in-github",
        "colab_type": "text"
      },
      "source": [
        "<a href=\"https://colab.research.google.com/github/nimalan-parameshwaran/ML-PROJECT/blob/main/NumPy_.ipynb\" target=\"_parent\"><img src=\"https://colab.research.google.com/assets/colab-badge.svg\" alt=\"Open In Colab\"/></a>"
      ]
    },
    {
      "cell_type": "markdown",
      "source": [
        "** NumPy**"
      ],
      "metadata": {
        "id": "PNyWlYuhhheI"
      }
    },
    {
      "cell_type": "code",
      "execution_count": null,
      "metadata": {
        "id": "qhwn16CshbQy"
      },
      "outputs": [],
      "source": [
        "import numpy as np"
      ]
    },
    {
      "cell_type": "code",
      "source": [
        "import numpy as np\n",
        "\n",
        "# create a list named list1\n",
        "list1 = [2, 4, 6, 8]\n",
        "\n",
        "# create numpy array using list1\n",
        "array1 = np.array(list1)\n",
        "\n",
        "print(array1)\n",
        "\n",
        "# Output: [2 4 6 8]"
      ],
      "metadata": {
        "colab": {
          "base_uri": "https://localhost:8080/"
        },
        "id": "rwImAl5Mhxos",
        "outputId": "f6f2ed86-502f-41c6-a24c-a24a104c3b46"
      },
      "execution_count": null,
      "outputs": [
        {
          "output_type": "stream",
          "name": "stdout",
          "text": [
            "[2 4 6 8]\n"
          ]
        }
      ]
    },
    {
      "cell_type": "code",
      "source": [],
      "metadata": {
        "id": "V_toPEIbnZQI"
      },
      "execution_count": null,
      "outputs": []
    },
    {
      "cell_type": "code",
      "source": [
        "import numpy as np\n",
        "\n",
        "# create a list named list1\n",
        "list1 = [2, 4, 6, 8]\n",
        "\n",
        "# create numpy array using list1\n",
        "array1 = np.array(list1, dtype=np.int16)\n",
        "array1\n",
        "\n",
        "# Output: [2 4 6 8]"
      ],
      "metadata": {
        "colab": {
          "base_uri": "https://localhost:8080/"
        },
        "outputId": "0194c821-3351-42e0-a729-bc6999382b25",
        "id": "QWBOtX2yncIE"
      },
      "execution_count": null,
      "outputs": [
        {
          "output_type": "execute_result",
          "data": {
            "text/plain": [
              "array([2, 4, 6, 8], dtype=int16)"
            ]
          },
          "metadata": {},
          "execution_count": 41
        }
      ]
    },
    {
      "cell_type": "code",
      "source": [
        "import numpy as np\n",
        "\n",
        "# create numpy array using a list\n",
        "array1 = np.array([2, 4, 6, 8])\n",
        "print(array1)\n",
        "\n",
        "# Output: [2  4  6 8]"
      ],
      "metadata": {
        "colab": {
          "base_uri": "https://localhost:8080/"
        },
        "id": "lFQMfsxiiTmC",
        "outputId": "51001e43-a26f-4231-d92c-b3365315ed36"
      },
      "execution_count": null,
      "outputs": [
        {
          "output_type": "stream",
          "name": "stdout",
          "text": [
            "[2 4 6 8]\n"
          ]
        }
      ]
    },
    {
      "cell_type": "code",
      "source": [
        "import numpy as np\n",
        "\n",
        "# create an array with 4 elements filled with zeros\n",
        "array1 = np.zeros(4)\n",
        "\n",
        "print(array1)\n",
        "\n",
        "# Output: [0. 0. 0. 0.]"
      ],
      "metadata": {
        "colab": {
          "base_uri": "https://localhost:8080/"
        },
        "id": "ANc6rrwVq378",
        "outputId": "921006bd-3fec-44a9-f03b-3d60e25ae80a"
      },
      "execution_count": null,
      "outputs": [
        {
          "output_type": "stream",
          "name": "stdout",
          "text": [
            "[0. 0. 0. 0.]\n"
          ]
        }
      ]
    },
    {
      "cell_type": "code",
      "source": [
        "import numpy as np\n",
        "\n",
        "# create an array with 4 elements filled with zeros\n",
        "array1 = np.zeros(0)\n",
        "\n",
        "print(array1)"
      ],
      "metadata": {
        "colab": {
          "base_uri": "https://localhost:8080/"
        },
        "id": "ISMwiDCvq7xD",
        "outputId": "42daf4fc-26c0-431b-cae1-2dfa155f1032"
      },
      "execution_count": null,
      "outputs": [
        {
          "output_type": "stream",
          "name": "stdout",
          "text": [
            "[]\n"
          ]
        }
      ]
    },
    {
      "cell_type": "code",
      "source": [
        "import numpy as np\n",
        "\n",
        "# create an array with values from 0 to 4\n",
        "array1 = np.arange(5)\n",
        "\n",
        "print(\"Using np.arange(5):\", array1)\n",
        "\n",
        "# create an array with values from 1 to 8 with a step of 2\n",
        "array2 = np.arange(1, 9, 2)\n",
        "\n",
        "print(\"Using np.arange(1, 9, 2):\",array2)\n",
        "print()\n",
        "'''np.arange(1, 9, 2) - create an array with 5 elements, where the values range from 1 to 8 with a step of 2.'''"
      ],
      "metadata": {
        "colab": {
          "base_uri": "https://localhost:8080/",
          "height": 88
        },
        "id": "Arl57wIdq_Yn",
        "outputId": "97e1999f-4327-440c-920b-9cd7bbefb18b"
      },
      "execution_count": null,
      "outputs": [
        {
          "output_type": "stream",
          "name": "stdout",
          "text": [
            "Using np.arange(5): [0 1 2 3 4]\n",
            "Using np.arange(1, 9, 2): [1 3 5 7]\n",
            "\n"
          ]
        },
        {
          "output_type": "execute_result",
          "data": {
            "text/plain": [
              "'np.arange(1, 9, 2) - create an array with 5 elements, where the values range from 1 to 8 with a step of 2.'"
            ],
            "application/vnd.google.colaboratory.intrinsic+json": {
              "type": "string"
            }
          },
          "metadata": {},
          "execution_count": 13
        }
      ]
    },
    {
      "cell_type": "code",
      "source": [
        "import numpy as np\n",
        "\n",
        "# generate an array of 5 random numbers\n",
        "array1 = np.random.rand(5)\n",
        "\n",
        "print(array1)\n",
        "#create an array array1 with 5 random numbers."
      ],
      "metadata": {
        "colab": {
          "base_uri": "https://localhost:8080/"
        },
        "id": "LqnmJBRArTrc",
        "outputId": "57b521dd-30fa-4013-99b7-dcffedef36bb"
      },
      "execution_count": null,
      "outputs": [
        {
          "output_type": "stream",
          "name": "stdout",
          "text": [
            "[0.33639142 0.71318101 0.06315558 0.58657076 0.65119863]\n"
          ]
        }
      ]
    },
    {
      "cell_type": "code",
      "source": [
        "import numpy as np\n",
        "\n",
        "# create an empty array of length 4\n",
        "array1 = np.empty(4)\n",
        "\n",
        "print(array1)"
      ],
      "metadata": {
        "colab": {
          "base_uri": "https://localhost:8080/"
        },
        "id": "kp4E7LT0rxBH",
        "outputId": "e4d93038-65b8-4be4-833c-d940e865a607"
      },
      "execution_count": null,
      "outputs": [
        {
          "output_type": "stream",
          "name": "stdout",
          "text": [
            "[4.9e-324 1.5e-323 2.5e-323 3.5e-323]\n"
          ]
        }
      ]
    },
    {
      "cell_type": "markdown",
      "source": [
        "NumPy N-D Array Creation"
      ],
      "metadata": {
        "id": "JbphvmJrsSwp"
      }
    },
    {
      "cell_type": "code",
      "source": [
        "import numpy as np\n",
        "\n",
        "# create a 2D array with 2 rows and 4 columns\n",
        "array1 = np.array([[1, 2, 3, 4],\n",
        "                  [5, 6, 7, 8]])\n",
        "\n",
        "print(array1)"
      ],
      "metadata": {
        "colab": {
          "base_uri": "https://localhost:8080/"
        },
        "id": "s4HzLdQAr8sx",
        "outputId": "c96b9be5-8e75-4d1f-b709-0f5dee5df9a2"
      },
      "execution_count": null,
      "outputs": [
        {
          "output_type": "stream",
          "name": "stdout",
          "text": [
            "[[1 2 3 4]\n",
            " [5 6 7 8]]\n"
          ]
        }
      ]
    },
    {
      "cell_type": "code",
      "source": [
        "import numpy as np\n",
        "\n",
        "# create a 3D array with 2 \"slices\", each of 3 rows and 4 columns\n",
        "array1 = np.array([[[1, 2, 3, 4],\n",
        "                [5, 6, 7, 8],\n",
        "                [9, 10, 11, 12]],\n",
        "\n",
        "                [[13, 14, 15, 16],\n",
        "                 [17, 18, 19, 20],\n",
        "                 [21, 22, 23, 24]]])\n",
        "\n",
        "print(array1)"
      ],
      "metadata": {
        "colab": {
          "base_uri": "https://localhost:8080/"
        },
        "id": "AMVJtUPEsZNq",
        "outputId": "da34231c-a1fc-4270-ab3a-ed015cca2aa6"
      },
      "execution_count": null,
      "outputs": [
        {
          "output_type": "stream",
          "name": "stdout",
          "text": [
            "[[[ 1  2  3  4]\n",
            "  [ 5  6  7  8]\n",
            "  [ 9 10 11 12]]\n",
            "\n",
            " [[13 14 15 16]\n",
            "  [17 18 19 20]\n",
            "  [21 22 23 24]]]\n"
          ]
        }
      ]
    },
    {
      "cell_type": "code",
      "source": [
        "import numpy as np\n",
        "\n",
        "# create 2D array with 2 rows and 3 columns filled with zeros\n",
        "array1 = np.zeros((2, 3))\n",
        "\n",
        "print(\"2-D Array: \")\n",
        "print(array1)\n",
        "\n",
        "# create 3D array with dimensions 2x3x4 filled with zeros\n",
        "array2 = np.zeros((2, 3, 4))\n",
        "\n",
        "print(\"\\n3-D Array: \")\n",
        "print(array2)"
      ],
      "metadata": {
        "colab": {
          "base_uri": "https://localhost:8080/"
        },
        "id": "J7DLvmEUs5GS",
        "outputId": "e3ed6e25-649a-4556-f4ed-aed947494e18"
      },
      "execution_count": null,
      "outputs": [
        {
          "output_type": "stream",
          "name": "stdout",
          "text": [
            "2-D Array: \n",
            "[[0. 0. 0.]\n",
            " [0. 0. 0.]]\n",
            "\n",
            "3-D Array: \n",
            "[[[0. 0. 0. 0.]\n",
            "  [0. 0. 0. 0.]\n",
            "  [0. 0. 0. 0.]]\n",
            "\n",
            " [[0. 0. 0. 0.]\n",
            "  [0. 0. 0. 0.]\n",
            "  [0. 0. 0. 0.]]]\n"
          ]
        }
      ]
    },
    {
      "cell_type": "code",
      "source": [
        "import numpy as np\n",
        "\n",
        "# Create a 2-D array with elements initialized to 5\n",
        "numpy_array = np.full((2, 2), 5)\n",
        "\n",
        "print(\"Array:\", numpy_array)"
      ],
      "metadata": {
        "colab": {
          "base_uri": "https://localhost:8080/"
        },
        "id": "VfowQj9AtARJ",
        "outputId": "cee9088f-f7a0-4383-c603-96aebe7c2646"
      },
      "execution_count": null,
      "outputs": [
        {
          "output_type": "stream",
          "name": "stdout",
          "text": [
            "Array: [[5 5]\n",
            " [5 5]]\n"
          ]
        }
      ]
    },
    {
      "cell_type": "code",
      "source": [
        "import numpy as np\n",
        "\n",
        "# create a 2D array of 2 rows and 2 columns of random numbers\n",
        "array1 = np.random.rand(2, 2)\n",
        "\n",
        "print(\"2-D Array: \")\n",
        "print(array1)\n",
        "\n",
        "# create a 3D array of shape (2, 2, 2) of random numbers\n",
        "array2 = np.random.rand(2, 2, 2)\n",
        "\n",
        "print(\"\\n3-D Array: \")\n",
        "print(array2)"
      ],
      "metadata": {
        "colab": {
          "base_uri": "https://localhost:8080/"
        },
        "id": "4cjITuIdtDyP",
        "outputId": "a355fb35-4240-4d20-e2d0-d6f3c2766b7e"
      },
      "execution_count": 5,
      "outputs": [
        {
          "output_type": "stream",
          "name": "stdout",
          "text": [
            "2-D Array: \n",
            "[[0.25030526 0.91013565]\n",
            " [0.41470922 0.54252522]]\n",
            "\n",
            "3-D Array: \n",
            "[[[0.44554971 0.73104796]\n",
            "  [0.33093508 0.41565604]]\n",
            "\n",
            " [[0.85368884 0.30279751]\n",
            "  [0.13182701 0.19064236]]]\n"
          ]
        }
      ]
    },
    {
      "cell_type": "code",
      "source": [
        "np.random.rand(5)"
      ],
      "metadata": {
        "colab": {
          "base_uri": "https://localhost:8080/"
        },
        "id": "qrghmP0w_ZnW",
        "outputId": "6f5c35fb-7c00-492e-c316-4ae84e5f99dd"
      },
      "execution_count": 7,
      "outputs": [
        {
          "output_type": "execute_result",
          "data": {
            "text/plain": [
              "array([0.16939575, 0.32154515, 0.5239024 , 0.18119451, 0.67570976])"
            ]
          },
          "metadata": {},
          "execution_count": 7
        }
      ]
    },
    {
      "cell_type": "code",
      "source": [
        "np.random.rand(5,5)"
      ],
      "metadata": {
        "colab": {
          "base_uri": "https://localhost:8080/"
        },
        "id": "UdCVRgez_7ls",
        "outputId": "9eaea804-63ea-498a-afbf-6a9578b6e724"
      },
      "execution_count": 8,
      "outputs": [
        {
          "output_type": "execute_result",
          "data": {
            "text/plain": [
              "array([[0.40296351, 0.23213249, 0.63379774, 0.95443746, 0.75241844],\n",
              "       [0.61007656, 0.96890202, 0.85115714, 0.83388104, 0.68176303],\n",
              "       [0.04556279, 0.36073732, 0.69999418, 0.5069138 , 0.48276987],\n",
              "       [0.74383399, 0.42590188, 0.2738082 , 0.37854346, 0.66253144],\n",
              "       [0.88651594, 0.61551656, 0.77778929, 0.68200949, 0.76093666]])"
            ]
          },
          "metadata": {},
          "execution_count": 8
        }
      ]
    },
    {
      "cell_type": "code",
      "source": [
        "np.random.randn(5)\n",
        "#it goes from -1 to 1 instead of 0 to 1, and it's still outputs"
      ],
      "metadata": {
        "colab": {
          "base_uri": "https://localhost:8080/"
        },
        "id": "_V2qbDaEAsHh",
        "outputId": "22b3915e-8311-4b54-df25-8a5fc239ae46"
      },
      "execution_count": 17,
      "outputs": [
        {
          "output_type": "execute_result",
          "data": {
            "text/plain": [
              "array([-1.76631651,  0.1239374 , -0.05119997, -0.32017451,  0.46170309])"
            ]
          },
          "metadata": {},
          "execution_count": 17
        }
      ]
    },
    {
      "cell_type": "code",
      "source": [
        "np.random.randn(5,5)\n",
        "#it goes from -1 to 1 instead of 0 to 1, and it's still outputs"
      ],
      "metadata": {
        "colab": {
          "base_uri": "https://localhost:8080/"
        },
        "outputId": "9fa92667-502a-484e-89ab-f3452f923200",
        "id": "5Xu88eeDBYGT"
      },
      "execution_count": 19,
      "outputs": [
        {
          "output_type": "execute_result",
          "data": {
            "text/plain": [
              "array([[-0.35312765, -1.90401155,  0.1802944 , -0.74744908,  0.55922399],\n",
              "       [ 0.05077261, -0.84829096, -1.00933674, -0.30788292,  0.06970512],\n",
              "       [-0.7215244 , -0.94876938, -0.03588202, -0.88617091, -1.97701933],\n",
              "       [-0.83686833, -2.4150463 , -1.59244575, -1.05361467,  1.46379366],\n",
              "       [ 0.76016227,  0.63149734, -0.03833701, -1.72034184,  1.10253971]])"
            ]
          },
          "metadata": {},
          "execution_count": 19
        }
      ]
    },
    {
      "cell_type": "code",
      "source": [
        "np.random.randint(5,20)"
      ],
      "metadata": {
        "colab": {
          "base_uri": "https://localhost:8080/"
        },
        "id": "cIIik3wGAF07",
        "outputId": "a08f7895-3928-4377-df24-b5e9527ea847"
      },
      "execution_count": 18,
      "outputs": [
        {
          "output_type": "execute_result",
          "data": {
            "text/plain": [
              "18"
            ]
          },
          "metadata": {},
          "execution_count": 18
        }
      ]
    },
    {
      "cell_type": "code",
      "source": [
        "np.random.randint(5,20,3)"
      ],
      "metadata": {
        "colab": {
          "base_uri": "https://localhost:8080/"
        },
        "outputId": "01fc04e1-b8dc-400a-afc2-dbbc12f28b69",
        "id": "lXqWOvLQAZaE"
      },
      "execution_count": 16,
      "outputs": [
        {
          "output_type": "execute_result",
          "data": {
            "text/plain": [
              "array([ 5,  5, 14])"
            ]
          },
          "metadata": {},
          "execution_count": 16
        }
      ]
    },
    {
      "cell_type": "code",
      "source": [
        "import numpy as np\n",
        "\n",
        "# create a 2D array of 2 rows and 2 columns of random numbers\n",
        "array1 = np.random.rand(2, 2)\n",
        "\n",
        "print(\"2-D Array: \")\n",
        "print(array1)\n",
        "\n",
        "# create a 3D array of shape (2, 2, 2) of random numbers\n",
        "array2 = np.random.rand(2, 2, 2)\n",
        "\n",
        "print(\"\\n3-D Array: \")\n",
        "print(array2)"
      ],
      "metadata": {
        "colab": {
          "base_uri": "https://localhost:8080/"
        },
        "id": "VZykWO4uvMvo",
        "outputId": "4ab343d0-1eb6-402e-8622-cf87fbf68afe"
      },
      "execution_count": null,
      "outputs": [
        {
          "output_type": "stream",
          "name": "stdout",
          "text": [
            "2-D Array: \n",
            "[[0.68167601 0.62736889]\n",
            " [0.13644113 0.32853818]]\n",
            "\n",
            "3-D Array: \n",
            "[[[0.73826921 0.15771414]\n",
            "  [0.51286324 0.42962474]]\n",
            "\n",
            " [[0.10171188 0.33814232]\n",
            "  [0.77740941 0.57883756]]]\n"
          ]
        }
      ]
    },
    {
      "cell_type": "code",
      "source": [
        "import numpy as np\n",
        "\n",
        "# create an empty 2D array with 2 rows and 2 columns\n",
        "array1 = np.empty((2, 2))\n",
        "\n",
        "print(\"2-D Array: \")\n",
        "print(array1)\n",
        "\n",
        "# create an empty 3D array of shape (2, 2, 2)\n",
        "array2 = np.empty((2, 2, 2))\n",
        "\n",
        "print(\"\\n3-D Array: \")\n",
        "print(array2)"
      ],
      "metadata": {
        "colab": {
          "base_uri": "https://localhost:8080/"
        },
        "id": "VZzOEBGGxj5B",
        "outputId": "e504c81b-cd40-4a63-ae8c-3c67a45f54f3"
      },
      "execution_count": null,
      "outputs": [
        {
          "output_type": "stream",
          "name": "stdout",
          "text": [
            "2-D Array: \n",
            "[[0.50422753 0.68958141]\n",
            " [0.5090777  0.40082177]]\n",
            "\n",
            "3-D Array: \n",
            "[[[0.56566694 0.42375323]\n",
            "  [0.4318396  0.46344169]]\n",
            "\n",
            " [[0.98137943 0.97716122]\n",
            "  [0.00580015 0.49423624]]]\n"
          ]
        }
      ]
    },
    {
      "cell_type": "code",
      "source": [
        "import numpy as np\n",
        "\n",
        "# create an array of integers\n",
        "array1 = np.array([2, 4, 6])\n",
        "\n",
        "# check the data type of array1\n",
        "print(array1.dtype)\n",
        "\n",
        "# Output: int64"
      ],
      "metadata": {
        "colab": {
          "base_uri": "https://localhost:8080/"
        },
        "id": "OXOY-x7Mxt2b",
        "outputId": "854720a2-3327-4dbe-884d-81ed44ca0a40"
      },
      "execution_count": null,
      "outputs": [
        {
          "output_type": "stream",
          "name": "stdout",
          "text": [
            "int64\n"
          ]
        }
      ]
    },
    {
      "cell_type": "code",
      "source": [
        "import numpy as np\n",
        "\n",
        "# create an array of  integers\n",
        "int_array = np.array([-3, -1, 0, 1])\n",
        "\n",
        "# create an array of floating-point numbers\n",
        "float_array = np.array([0.1, 0.2, 0.3])\n",
        "\n",
        "# create an array of complex numbers\n",
        "complex_array = np.array([1+2j, 2+3j, 3+4j])\n",
        "\n",
        "# check the data type of int_array\n",
        "print(int_array.dtype)  # prints int64\n",
        "\n",
        "# check the data type of float_array\n",
        "print(float_array.dtype)  # prints float64\n",
        "\n",
        "# check the data type of complex_array\n",
        "print(complex_array.dtype)  # prints complex128"
      ],
      "metadata": {
        "colab": {
          "base_uri": "https://localhost:8080/"
        },
        "id": "6anKf2Dyx5SY",
        "outputId": "3b9ba145-491b-427b-b121-05695bb7999e"
      },
      "execution_count": null,
      "outputs": [
        {
          "output_type": "stream",
          "name": "stdout",
          "text": [
            "int64\n",
            "float64\n",
            "complex128\n"
          ]
        }
      ]
    },
    {
      "cell_type": "code",
      "source": [
        "import numpy as np\n",
        "\n",
        "# create an array of 32-bit integers\n",
        "array1 = np.array([1, 3, 7], dtype='int32')\n",
        "\n",
        "print(array1, array1.dtype)"
      ],
      "metadata": {
        "colab": {
          "base_uri": "https://localhost:8080/"
        },
        "id": "9zXsBe2px6D4",
        "outputId": "32ede8af-0c13-4783-c8fd-db7643a8b793"
      },
      "execution_count": null,
      "outputs": [
        {
          "output_type": "stream",
          "name": "stdout",
          "text": [
            "[1 3 7] int32\n"
          ]
        }
      ]
    },
    {
      "cell_type": "code",
      "source": [
        "import numpy as np\n",
        "\n",
        "# create an array of 8-bit integers\n",
        "array1 = np.array([1, 3, 7], dtype='int8')\n",
        "\n",
        "# create an array of unsigned 16-bit integers\n",
        "array2 = np.array([2, 4, 6], dtype='uint16')\n",
        "\n",
        "# create an array of 32-bit floating-point numbers\n",
        "array3 = np.array([1.2, 2.3, 3.4], dtype='float32')\n",
        "\n",
        "# create an array of 64-bit complex numbers\n",
        "array4 = np.array([1+2j, 2+3j, 3+4j], dtype='complex64')\n",
        "\n",
        "# print the arrays and their data types\n",
        "print(array1, array1.dtype)\n",
        "print(array2, array2.dtype)\n",
        "print(array3, array3.dtype)\n",
        "print(array4, array4.dtype)"
      ],
      "metadata": {
        "colab": {
          "base_uri": "https://localhost:8080/"
        },
        "id": "4hMQ4duJx_01",
        "outputId": "78b22f10-0175-476f-a990-bf2029661979"
      },
      "execution_count": null,
      "outputs": [
        {
          "output_type": "stream",
          "name": "stdout",
          "text": [
            "[1 3 7] int8\n",
            "[2 4 6] uint16\n",
            "[1.2 2.3 3.4] float32\n",
            "[1.+2.j 2.+3.j 3.+4.j] complex64\n"
          ]
        }
      ]
    },
    {
      "cell_type": "code",
      "source": [
        "import numpy as np\n",
        "\n",
        "# create an array of integers\n",
        "int_array = np.array([1, 3, 5, 7])\n",
        "\n",
        "# convert data type of int_array to float\n",
        "float_array = int_array.astype('float')\n",
        "\n",
        "# print the arrays and their data types\n",
        "print(int_array, int_array.dtype)\n",
        "print(float_array, float_array.dtype)"
      ],
      "metadata": {
        "colab": {
          "base_uri": "https://localhost:8080/"
        },
        "id": "Ti3O-DeIyDVp",
        "outputId": "d2e4cb40-1a3d-4f7e-b4fc-d9124524cb7a"
      },
      "execution_count": null,
      "outputs": [
        {
          "output_type": "stream",
          "name": "stdout",
          "text": [
            "[1 3 5 7] int64\n",
            "[1. 3. 5. 7.] float64\n"
          ]
        }
      ]
    },
    {
      "cell_type": "code",
      "source": [
        "import numpy as np\n",
        "\n",
        "# create an array of  integers\n",
        "int_array = np.array([-3, -1, 0, 1])\n",
        "\n",
        "# create an array of floating-point numbers\n",
        "float_array = np.array([0.1, 0.2, 0.3])\n",
        "\n",
        "# create an array of complex numbers\n",
        "complex_array = np.array([1+2j, 2+3j, 3+4j])\n",
        "\n",
        "# check the data type of int_array\n",
        "print(int_array.dtype)  # prints int64\n",
        "\n",
        "# check the data type of float_array\n",
        "print(float_array.dtype)  # prints float64\n",
        "\n",
        "# check the data type of complex_array\n",
        "print(complex_array.dtype)  # prints complex128"
      ],
      "metadata": {
        "id": "ia6sj7ZlyGnl",
        "colab": {
          "base_uri": "https://localhost:8080/"
        },
        "outputId": "80bde9d4-a50a-4bb5-d81c-fc00263eee6e"
      },
      "execution_count": null,
      "outputs": [
        {
          "output_type": "stream",
          "name": "stdout",
          "text": [
            "int64\n",
            "float64\n",
            "complex128\n"
          ]
        }
      ]
    },
    {
      "cell_type": "code",
      "source": [
        "import numpy as np\n",
        "\n",
        "# create an array of 32-bit integers\n",
        "array1 = np.array([1, 3, 7], dtype='int32')\n",
        "\n",
        "print(array1, array1.dtype)"
      ],
      "metadata": {
        "colab": {
          "base_uri": "https://localhost:8080/"
        },
        "id": "nNNErv4hewao",
        "outputId": "6cb6fa05-014b-4ff0-dfb1-efc1a691da69"
      },
      "execution_count": null,
      "outputs": [
        {
          "output_type": "stream",
          "name": "stdout",
          "text": [
            "[1 3 7] int32\n"
          ]
        }
      ]
    },
    {
      "cell_type": "code",
      "source": [
        "import numpy as np\n",
        "\n",
        "# create an array of integers\n",
        "array1 = np.array([2, 4, 6])\n",
        "\n",
        "# check the data type of array1\n",
        "print(array1.dtype)\n",
        "\n",
        "# Output: int64"
      ],
      "metadata": {
        "colab": {
          "base_uri": "https://localhost:8080/"
        },
        "id": "SXiIcOQwe2bq",
        "outputId": "c58f03a1-7d09-49a0-aca8-707c55f222c4"
      },
      "execution_count": null,
      "outputs": [
        {
          "output_type": "stream",
          "name": "stdout",
          "text": [
            "int64\n"
          ]
        }
      ]
    },
    {
      "cell_type": "code",
      "source": [
        "import numpy as np\n",
        "\n",
        "# create an array of 8-bit integers\n",
        "array1 = np.array([1, 3, 7], dtype='int8')\n",
        "\n",
        "# create an array of unsigned 16-bit integers\n",
        "array2 = np.array([2, 4, 6], dtype='uint16')\n",
        "\n",
        "# create an array of 32-bit floating-point numbers\n",
        "array3 = np.array([1.2, 2.3, 3.4], dtype='float32')\n",
        "\n",
        "# create an array of 64-bit complex numbers\n",
        "array4 = np.array([1+2j, 2+3j, 3+4j], dtype='complex64')\n",
        "\n",
        "# print the arrays and their data types\n",
        "print(array1, array1.dtype)\n",
        "print(array2, array2.dtype)\n",
        "print(array3, array3.dtype)\n",
        "print(array4, array4.dtype)"
      ],
      "metadata": {
        "colab": {
          "base_uri": "https://localhost:8080/"
        },
        "id": "mOKFnVwee6sq",
        "outputId": "cea33db7-9bf1-45a4-ec07-2c4b9d7288a0"
      },
      "execution_count": null,
      "outputs": [
        {
          "output_type": "stream",
          "name": "stdout",
          "text": [
            "[1 3 7] int8\n",
            "[2 4 6] uint16\n",
            "[1.2 2.3 3.4] float32\n",
            "[1.+2.j 2.+3.j 3.+4.j] complex64\n"
          ]
        }
      ]
    },
    {
      "cell_type": "code",
      "source": [
        "import numpy as np\n",
        "\n",
        "# create an array of integers\n",
        "int_array = np.array([1, 3, 5, 7])\n",
        "\n",
        "# convert data type of int_array to float\n",
        "float_array = int_array.astype('float')\n",
        "\n",
        "# print the arrays and their data types\n",
        "print(int_array, int_array.dtype)\n",
        "print(float_array, float_array.dtype)"
      ],
      "metadata": {
        "colab": {
          "base_uri": "https://localhost:8080/"
        },
        "id": "iTfBEINsfGku",
        "outputId": "746df779-5a54-47f1-8bdf-89aff78accea"
      },
      "execution_count": null,
      "outputs": [
        {
          "output_type": "stream",
          "name": "stdout",
          "text": [
            "[1 3 5 7] int64\n",
            "[1. 3. 5. 7.] float64\n"
          ]
        }
      ]
    },
    {
      "cell_type": "code",
      "source": [
        "import numpy as np\n",
        "\n",
        "# create an array of integers\n",
        "int_array = np.array([1, 3, 5, 7])\n",
        "\n",
        "# convert data type of int_array to float\n",
        "float_array = int_array.astype('float')\n",
        "\n",
        "# print the arrays and their data types\n",
        "print(int_array, int_array.dtype)\n",
        "print(float_array, float_array.dtype)"
      ],
      "metadata": {
        "colab": {
          "base_uri": "https://localhost:8080/"
        },
        "id": "kMH6OLiSfMxx",
        "outputId": "8a09a186-f64d-48bd-ec9e-6a21ec089a3a"
      },
      "execution_count": null,
      "outputs": [
        {
          "output_type": "stream",
          "name": "stdout",
          "text": [
            "[1 3 5 7] int64\n",
            "[1. 3. 5. 7.] float64\n"
          ]
        }
      ]
    },
    {
      "cell_type": "markdown",
      "source": [
        "Attributes-Description\n",
        "\n",
        "**ndim**-returns number of dimension of the array\n",
        "\n",
        "**size**-returns number of elements in the array\n",
        "\n",
        "**dtype**-returns data type of elements in the array\n",
        "\n",
        "**shape**-returns the size of the array in each dimension.\n",
        "\n",
        "**itemsize**-returns the size (in bytes) of each elements in the array\n",
        "\n",
        "**data**-returns the buffer containing actual elements of the array in memory"
      ],
      "metadata": {
        "id": "689AUCaufYFY"
      }
    },
    {
      "cell_type": "code",
      "source": [
        "import numpy as np\n",
        "\n",
        "# create a 2-D array\n",
        "array1 = np.array([[2, 4, 6],\n",
        "                  [1, 3, 5]])\n",
        "\n",
        "# check the dimension of array1\n",
        "print(array1.ndim)\n",
        "\n",
        "# Output: 2"
      ],
      "metadata": {
        "colab": {
          "base_uri": "https://localhost:8080/"
        },
        "id": "CzRxoSX0fQ-z",
        "outputId": "c52ab584-52c6-4dfb-ec74-b604abddaa1c"
      },
      "execution_count": null,
      "outputs": [
        {
          "output_type": "stream",
          "name": "stdout",
          "text": [
            "2\n"
          ]
        }
      ]
    },
    {
      "cell_type": "code",
      "source": [
        "import numpy as np\n",
        "\n",
        "array1 = np.array([[1, 2, 3],\n",
        "                 [6, 7, 8]])\n",
        "\n",
        "# return total number of elements in array1\n",
        "print(array1.size)\n",
        "\n",
        "# Output: 6"
      ],
      "metadata": {
        "colab": {
          "base_uri": "https://localhost:8080/"
        },
        "id": "fD4eGwDYgSbb",
        "outputId": "bd117067-3038-443e-afb0-5c358ae4c247"
      },
      "execution_count": null,
      "outputs": [
        {
          "output_type": "stream",
          "name": "stdout",
          "text": [
            "6\n"
          ]
        }
      ]
    },
    {
      "cell_type": "code",
      "source": [
        "import numpy as np\n",
        "\n",
        "array1 = np.array([[1, 2, 3],\n",
        "                [6, 7, 8]])\n",
        "\n",
        "# return a tuple that gives size of array in each dimension\n",
        "print(array1.shape)\n",
        "\n",
        "# Output: (2,3)"
      ],
      "metadata": {
        "colab": {
          "base_uri": "https://localhost:8080/"
        },
        "id": "_wn9520IgV9c",
        "outputId": "3705c431-c593-46a2-d513-e22cfdad1632"
      },
      "execution_count": null,
      "outputs": [
        {
          "output_type": "stream",
          "name": "stdout",
          "text": [
            "(2, 3)\n"
          ]
        }
      ]
    },
    {
      "cell_type": "code",
      "source": [
        "import numpy as np\n",
        "\n",
        "# create an array of integers\n",
        "array1 = np.array([6, 7, 8])\n",
        "\n",
        "# check the data type of array1\n",
        "print(array1.dtype)\n",
        "\n",
        "# Output: int64"
      ],
      "metadata": {
        "colab": {
          "base_uri": "https://localhost:8080/"
        },
        "id": "YjYe5RPAgYtw",
        "outputId": "7c634a60-564a-437b-f2ed-39d84af555db"
      },
      "execution_count": null,
      "outputs": [
        {
          "output_type": "stream",
          "name": "stdout",
          "text": [
            "int64\n"
          ]
        }
      ]
    },
    {
      "cell_type": "code",
      "source": [
        "import numpy as np\n",
        "\n",
        "# create a default 1-D array of integers\n",
        "array1 = np.array([6, 7, 8, 10, 13])\n",
        "\n",
        "# create a 1-D array of 32-bit integers\n",
        "array2 = np.array([6, 7, 8, 10, 13], dtype=np.int32)\n",
        "\n",
        "# use of itemsize to determine size of each array element of array1 and array2\n",
        "print(array1.itemsize)  # prints 8\n",
        "print(array2.itemsize)  # prints 4"
      ],
      "metadata": {
        "colab": {
          "base_uri": "https://localhost:8080/"
        },
        "id": "SkosVm09gfA4",
        "outputId": "444d07fa-d54e-42b6-e46b-b72f0445006f"
      },
      "execution_count": null,
      "outputs": [
        {
          "output_type": "stream",
          "name": "stdout",
          "text": [
            "8\n",
            "4\n"
          ]
        }
      ]
    },
    {
      "cell_type": "code",
      "source": [
        "import numpy as np\n",
        "\n",
        "array1 = np.array([6, 7, 8])\n",
        "array2 = np.array([[1, 2, 3],\n",
        "                   \t    [6, 7, 8]])\n",
        "\n",
        "# print memory address of array1's and array2's data\n",
        "print(\"\\nData of array1 is: \",array1.data)\n",
        "print(\"Data of array2 is: \",array2.data)"
      ],
      "metadata": {
        "colab": {
          "base_uri": "https://localhost:8080/"
        },
        "id": "6u3QTsD0giJm",
        "outputId": "572ab762-2234-4ee5-e32b-3887480ca4ce"
      },
      "execution_count": null,
      "outputs": [
        {
          "output_type": "stream",
          "name": "stdout",
          "text": [
            "\n",
            "Data of array1 is:  <memory at 0x7f894e9ff4c0>\n",
            "Data of array2 is:  <memory at 0x7f894ebc6a80>\n"
          ]
        }
      ]
    },
    {
      "cell_type": "markdown",
      "source": [
        "Function-Description\n",
        "\n",
        "**save()**-saves an array to a binary file in the NumPy .npy format.\n",
        "\n",
        "**load()**-loads data from a binary file in the NumPy .npy format\n",
        "\n",
        "**savetxt()**-saves an array to a text file in a specific format\n",
        "\n",
        "**loadtxt()**-loads data from a text file."
      ],
      "metadata": {
        "id": "xclSBlEGg6NX"
      }
    },
    {
      "cell_type": "code",
      "source": [
        "import numpy as np\n",
        "\n",
        "# create a NumPy array\n",
        "array1 = np.array([[1, 3, 5],\n",
        "                   [7, 9, 11]])\n",
        "\n",
        "# save the array to a file\n",
        "np.save('file1.npy', array1)\n",
        "'''Here, we saved the NumPy array named array1 to the binary file named file1.npy in our current directory.'''"
      ],
      "metadata": {
        "colab": {
          "base_uri": "https://localhost:8080/",
          "height": 36
        },
        "id": "7TtzoXYjgmpK",
        "outputId": "ee6500b9-0a52-478e-a6d1-4871f5c34efe"
      },
      "execution_count": null,
      "outputs": [
        {
          "output_type": "execute_result",
          "data": {
            "text/plain": [
              "'Here, we saved the NumPy array named array1 to the binary file named file1.npy in our current directory.'"
            ],
            "application/vnd.google.colaboratory.intrinsic+json": {
              "type": "string"
            }
          },
          "metadata": {},
          "execution_count": 16
        }
      ]
    },
    {
      "cell_type": "code",
      "source": [
        "import numpy as np\n",
        "\n",
        "# load the saved NumPy array\n",
        "loaded_array = np.load('file1.npy')\n",
        "\n",
        "# display the loaded array\n",
        "print(loaded_array)"
      ],
      "metadata": {
        "colab": {
          "base_uri": "https://localhost:8080/"
        },
        "id": "09OYZs4hhcEL",
        "outputId": "2a19ecad-91f1-48f3-adf2-d24235b0b85d"
      },
      "execution_count": null,
      "outputs": [
        {
          "output_type": "stream",
          "name": "stdout",
          "text": [
            "[[ 1  3  5]\n",
            " [ 7  9 11]]\n"
          ]
        }
      ]
    },
    {
      "cell_type": "code",
      "source": [
        "import numpy as np\n",
        "\n",
        "# create a NumPy array\n",
        "array2 = np.array([[1, 3, 5],\n",
        "                   [7, 9, 11]])\n",
        "\n",
        "# save the array to a file\n",
        "np.savetxt('file2.txt', array2)\n",
        "'''The code above will save the NumPy array array2 to the text file named file2.txt in our current directory.'''"
      ],
      "metadata": {
        "colab": {
          "base_uri": "https://localhost:8080/",
          "height": 36
        },
        "id": "A2kp25OSilZN",
        "outputId": "e18559fb-2186-4eb3-8d8d-d2f11c801639"
      },
      "execution_count": null,
      "outputs": [
        {
          "output_type": "execute_result",
          "data": {
            "text/plain": [
              "'The code above will save the NumPy array array2 to the text file named file2.txt in our current directory.'"
            ],
            "application/vnd.google.colaboratory.intrinsic+json": {
              "type": "string"
            }
          },
          "metadata": {},
          "execution_count": 19
        }
      ]
    },
    {
      "cell_type": "code",
      "source": [
        "import numpy as np\n",
        "\n",
        "# load the saved NumPy array\n",
        "loaded_array = np.loadtxt('file2.txt')\n",
        "\n",
        "# display the loaded array\n",
        "print(loaded_array)"
      ],
      "metadata": {
        "colab": {
          "base_uri": "https://localhost:8080/"
        },
        "id": "5_A45LTDipFv",
        "outputId": "5b0c4e13-c2ad-42f7-bca2-9b7653df6eaa"
      },
      "execution_count": null,
      "outputs": [
        {
          "output_type": "stream",
          "name": "stdout",
          "text": [
            "[[ 1.  3.  5.]\n",
            " [ 7.  9. 11.]]\n"
          ]
        }
      ]
    },
    {
      "cell_type": "markdown",
      "source": [
        "**Numpy Array Indexing**"
      ],
      "metadata": {
        "id": "kOhE_e2KjJUh"
      }
    },
    {
      "cell_type": "markdown",
      "source": [
        "\n",
        "\n",
        "![image.png](data:image/png;base64,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)\n",
        "\n"
      ],
      "metadata": {
        "id": "azlCmKh7i8qd"
      }
    },
    {
      "cell_type": "code",
      "source": [
        "import numpy as np\n",
        "\n",
        "array1 = np.array([1, 3, 5, 7, 9])\n",
        "\n",
        "# access numpy elements using index\n",
        "print(array1[0])    # prints 1\n",
        "print(array1[2])    # prints 5\n",
        "print(array1[4])    # prints 9"
      ],
      "metadata": {
        "colab": {
          "base_uri": "https://localhost:8080/"
        },
        "id": "CE3-XAz9jBvd",
        "outputId": "727bc9be-630a-459a-a258-d0cb327c66d7"
      },
      "execution_count": null,
      "outputs": [
        {
          "output_type": "stream",
          "name": "stdout",
          "text": [
            "1\n",
            "5\n",
            "9\n"
          ]
        }
      ]
    },
    {
      "cell_type": "code",
      "source": [
        "import numpy as np\n",
        "\n",
        "# create a numpy array\n",
        "numbers = np.array([2, 4, 6, 8, 10])\n",
        "\n",
        "# change the value of the first element\n",
        "numbers[0] = 12\n",
        "print(\"After modifying first element:\",numbers)    # prints [12 4 6 8 10]\n",
        "\n",
        "# change the value of the third element\n",
        "numbers[2] = 14\n",
        "print(\"After modifying third element:\",numbers)    # prints [12 4 14 8 10]"
      ],
      "metadata": {
        "colab": {
          "base_uri": "https://localhost:8080/"
        },
        "id": "xDDEFWUQjWRs",
        "outputId": "985b5a6a-21f7-49a8-f8c9-29da5002e31d"
      },
      "execution_count": null,
      "outputs": [
        {
          "output_type": "stream",
          "name": "stdout",
          "text": [
            "After modifying first element: [12  4  6  8 10]\n",
            "After modifying third element: [12  4 14  8 10]\n"
          ]
        }
      ]
    },
    {
      "cell_type": "markdown",
      "source": [
        "![image.png](data:image/png;base64,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)"
      ],
      "metadata": {
        "id": "EBQebp7PjkvZ"
      }
    },
    {
      "cell_type": "code",
      "source": [
        "import numpy as np\n",
        "\n",
        "# create a numpy array\n",
        "numbers = np.array([1, 3, 5, 7, 9])\n",
        "\n",
        "# access the last element\n",
        "print(numbers[-1])    # prints 9\n",
        "\n",
        "# access the second-to-last element\n",
        "print(numbers[-2])    # prints 7"
      ],
      "metadata": {
        "colab": {
          "base_uri": "https://localhost:8080/"
        },
        "id": "ANRWVzoNjmI9",
        "outputId": "f1d9abd5-126c-4298-dfec-40ce408af6f8"
      },
      "execution_count": null,
      "outputs": [
        {
          "output_type": "stream",
          "name": "stdout",
          "text": [
            "9\n",
            "7\n"
          ]
        }
      ]
    },
    {
      "cell_type": "code",
      "source": [
        "import numpy as np\n",
        "\n",
        "# create a numpy array\n",
        "numbers = np.array([2, 3, 5, 7, 11])\n",
        "\n",
        "# modify the last element\n",
        "numbers[-1] = 13\n",
        "print(numbers)    # Output: [2 3 5 7 13]\n",
        "\n",
        "# modify the second-to-last element\n",
        "numbers[-2] = 17\n",
        "print(numbers)    # Output: [2 3 5 17 13]"
      ],
      "metadata": {
        "colab": {
          "base_uri": "https://localhost:8080/"
        },
        "id": "mUAGEhkWjs29",
        "outputId": "c4503e4a-1394-4739-d9ea-9b9e9f24ec91"
      },
      "execution_count": null,
      "outputs": [
        {
          "output_type": "stream",
          "name": "stdout",
          "text": [
            "[ 2  3  5  7 13]\n",
            "[ 2  3  5 17 13]\n"
          ]
        }
      ]
    },
    {
      "cell_type": "code",
      "source": [
        "import numpy as np\n",
        "\n",
        "# create a 2D array\n",
        "array1 = np.array([[1, 3, 5, 7],\n",
        "                       [9, 11, 13, 15],\n",
        "                       [2, 4, 6, 8]])\n",
        "\n",
        "\n",
        "# access the element at the second row and fourth column\n",
        "element1 = array1[1, 3]  # returns 15\n",
        "print(\"4th Element at 2nd Row:\",element1)\n",
        "\n",
        "# access the element at the first row and second column\n",
        "element2 = array1[0, 1]  # returns 3\n",
        "print(\"2nd Element at First Row:\",element2)"
      ],
      "metadata": {
        "colab": {
          "base_uri": "https://localhost:8080/"
        },
        "id": "4_pyPs0GjxZS",
        "outputId": "f6a25327-fe61-43b2-843a-34e7c960a9a4"
      },
      "execution_count": null,
      "outputs": [
        {
          "output_type": "stream",
          "name": "stdout",
          "text": [
            "4th Element at 2nd Row: 15\n",
            "2nd Element at First Row: 3\n"
          ]
        }
      ]
    },
    {
      "cell_type": "code",
      "source": [
        "import numpy as np\n",
        "\n",
        "# create a 2D array\n",
        "array1 = np.array([[1, 3, 5],\n",
        "             [7, 9, 2],\n",
        "             [4, 6, 8]])\n",
        "\n",
        "# access the second row of the array\n",
        "second_row = array1[1, :]\n",
        "print(\"Second Row:\", second_row)  # Output: [7 9 2]\n",
        "\n",
        "# access the third column of the array\n",
        "third_col = array1[:, 2]\n",
        "print(\"Third Column:\", third_col)  # Output: [5 2 8]"
      ],
      "metadata": {
        "colab": {
          "base_uri": "https://localhost:8080/"
        },
        "id": "CB489nL2j1Ol",
        "outputId": "7e292ddb-d446-450d-dc73-2daf48bc018e"
      },
      "execution_count": null,
      "outputs": [
        {
          "output_type": "stream",
          "name": "stdout",
          "text": [
            "Second Row: [7 9 2]\n",
            "Third Column: [5 2 8]\n"
          ]
        }
      ]
    },
    {
      "cell_type": "code",
      "source": [
        "import numpy as np\n",
        "\n",
        "# create a 3D array with shape (2, 3, 4)\n",
        "array1 = np.array([[[1, 2, 3, 4],\n",
        "                   [5, 6, 7, 8],\n",
        "                   [9, 10, 11, 12]],\n",
        "\n",
        "                    [[13, 14, 15, 16],\n",
        "                    [17, 18, 19, 20],\n",
        "                    [21, 22, 23, 24]]])\n",
        "\n",
        "# access a specific element of the array\n",
        "element = array1[1, 2, 1]\n",
        "\n",
        "# print the value of the element\n",
        "print(element)\n",
        "\n",
        "# Output: 22"
      ],
      "metadata": {
        "colab": {
          "base_uri": "https://localhost:8080/"
        },
        "id": "WllksWVxj4kx",
        "outputId": "fa79bce6-8c94-4d08-a312-9984e9b0efab"
      },
      "execution_count": null,
      "outputs": [
        {
          "output_type": "stream",
          "name": "stdout",
          "text": [
            "22\n"
          ]
        }
      ]
    },
    {
      "cell_type": "code",
      "source": [
        "import numpy as np\n",
        "\n",
        "# create a 1D array\n",
        "array1 = np.array([1, 3, 5, 7, 8, 9, 2, 4, 6])\n",
        "\n",
        "# slice array1 from index 2 to index 6 (exclusive)\n",
        "print(array1[2:6])  # [5 7 8 9]\n",
        "\n",
        "# slice array1 from index 0 to index 8 (exclusive) with a step size of 2\n",
        "print(array1[0:8:2])  # [1 5 8 2]\n",
        "\n",
        "# slice array1 from index 3 up to the last element\n",
        "print(array1[3:])  # [7 8 9 2 4 6]\n",
        "\n",
        "# items from start to end\n",
        "print(array1[:])   # [1 3 5 7 8 9 2 4 6]"
      ],
      "metadata": {
        "colab": {
          "base_uri": "https://localhost:8080/"
        },
        "id": "WubVrVb6j8PV",
        "outputId": "8955da1c-0aaa-486e-9e9b-2ea908b7f14a"
      },
      "execution_count": null,
      "outputs": [
        {
          "output_type": "stream",
          "name": "stdout",
          "text": [
            "[5 7 8 9]\n",
            "[1 5 8 2]\n",
            "[7 8 9 2 4 6]\n",
            "[1 3 5 7 8 9 2 4 6]\n"
          ]
        }
      ]
    },
    {
      "cell_type": "code",
      "source": [
        "import numpy as np\n",
        "\n",
        "# create a numpy array\n",
        "numbers = np.array([2, 4, 6, 8, 10, 12])\n",
        "\n",
        "# modify elements from index 3 onwards\n",
        "numbers[3:] = 20\n",
        "print(numbers)\n",
        "\n",
        "# Output: [ 2  4  6 20 20 20]"
      ],
      "metadata": {
        "colab": {
          "base_uri": "https://localhost:8080/"
        },
        "id": "FWk-VdxfkE1c",
        "outputId": "f652a604-f9c6-4928-a700-f8bc5be8ece3"
      },
      "execution_count": null,
      "outputs": [
        {
          "output_type": "stream",
          "name": "stdout",
          "text": [
            "[ 2  4  6 20 20 20]\n"
          ]
        }
      ]
    },
    {
      "cell_type": "code",
      "source": [
        "import numpy as np\n",
        "\n",
        "# create a numpy array\n",
        "numbers = np.array([2, 4, 6, 8, 10, 12])\n",
        "\n",
        "# modify the first 3 elements\n",
        "numbers[:3] = 40\n",
        "print(numbers)\n",
        "\n",
        "# Output: [40 40 40  8 10 12]"
      ],
      "metadata": {
        "colab": {
          "base_uri": "https://localhost:8080/"
        },
        "id": "ftvlY9N_kHn9",
        "outputId": "0775570b-be5d-4d1f-8a16-6375d20bea7b"
      },
      "execution_count": null,
      "outputs": [
        {
          "output_type": "stream",
          "name": "stdout",
          "text": [
            "[40 40 40  8 10 12]\n"
          ]
        }
      ]
    },
    {
      "cell_type": "code",
      "source": [
        "import numpy as np\n",
        "\n",
        "# create a numpy array\n",
        "numbers = np.array([2, 4, 6, 8, 10, 12])\n",
        "\n",
        "# modify elements from indices 2 to 5\n",
        "numbers[2:5] = 22\n",
        "print(numbers)\n",
        "\n",
        "# Output: [2 4 22 22 22 12]"
      ],
      "metadata": {
        "colab": {
          "base_uri": "https://localhost:8080/"
        },
        "id": "ocNLYvVMkLMo",
        "outputId": "0362c375-2693-4a5a-d857-b679f2e86df4"
      },
      "execution_count": null,
      "outputs": [
        {
          "output_type": "stream",
          "name": "stdout",
          "text": [
            "[ 2  4 22 22 22 12]\n"
          ]
        }
      ]
    },
    {
      "cell_type": "code",
      "source": [
        "import numpy as np\n",
        "\n",
        "# create a numpy array\n",
        "numbers = np.array([2, 4, 6, 8, 10, 12])\n",
        "\n",
        "# modify every second element from indices 1 to 5\n",
        "numbers[1:5:2] = 16\n",
        "print(numbers)\n",
        "\n",
        "# Output: [ 2 16  6 16 10 12]"
      ],
      "metadata": {
        "colab": {
          "base_uri": "https://localhost:8080/"
        },
        "id": "XOzbhTfRkW8p",
        "outputId": "f981085a-d3c3-4351-c212-1da4ba9af5d3"
      },
      "execution_count": null,
      "outputs": [
        {
          "output_type": "stream",
          "name": "stdout",
          "text": [
            "[ 2 16  6 16 10 12]\n"
          ]
        }
      ]
    },
    {
      "cell_type": "code",
      "source": [
        "import numpy as np\n",
        "\n",
        "# create a numpy array\n",
        "numbers = np.array([2, 4, 6, 8, 10, 12])\n",
        "\n",
        "# slice the last 3 elements of the array\n",
        "# using the start parameter\n",
        "print(numbers[-3:])    # [8 10 12]\n",
        "\n",
        "# slice elements from 2nd-to-last to 4th-to-last element\n",
        "# using the start and stop parameters\n",
        "print(numbers[-5:-2])    # [4 6 8]\n",
        "\n",
        "# slice every other element of the array from the end\n",
        "# using the start, stop, and step parameters\n",
        "print(numbers[-1::-2])   # [12 8 4]"
      ],
      "metadata": {
        "colab": {
          "base_uri": "https://localhost:8080/"
        },
        "id": "smvM9P5NkZjV",
        "outputId": "5967b211-9ae0-469f-cc79-ab38246ba367"
      },
      "execution_count": null,
      "outputs": [
        {
          "output_type": "stream",
          "name": "stdout",
          "text": [
            "[ 8 10 12]\n",
            "[4 6 8]\n",
            "[12  8  4]\n"
          ]
        }
      ]
    },
    {
      "cell_type": "code",
      "source": [
        "import numpy as np\n",
        "\n",
        "# create a numpy array\n",
        "numbers = np.array([2, 4, 6, 8, 10, 12])\n",
        "\n",
        "# generate reversed array\n",
        "reversed_numbers = numbers[::-1]\n",
        "print(reversed_numbers)\n",
        "\n",
        "# Output: [12 10 8 6 4 2]"
      ],
      "metadata": {
        "colab": {
          "base_uri": "https://localhost:8080/"
        },
        "id": "DaP4GPS5kd-j",
        "outputId": "6d63fa7b-0ba8-4f20-81cd-3aa123187c3a"
      },
      "execution_count": null,
      "outputs": [
        {
          "output_type": "stream",
          "name": "stdout",
          "text": [
            "[12 10  8  6  4  2]\n"
          ]
        }
      ]
    },
    {
      "cell_type": "code",
      "source": [
        "import numpy as np\n",
        "\n",
        "# create a 2D array\n",
        "array1 = np.array([[1, 3, 5, 7],\n",
        "                      [9, 11, 13, 15],\n",
        "                      [2, 4, 6, 8]])\n",
        "\n",
        "\n",
        "# slice the array to get the first two rows and columns\n",
        "subarray1 = array1[:2, :2]\n",
        "\n",
        "# slice the array to get the last two rows and columns\n",
        "subarray2 = array1[1:3, 2:4]\n",
        "\n",
        "# print the subarrays\n",
        "print(\"First Two Rows and Columns: \\n\",subarray1)\n",
        "print(\"Last two Rows and Columns: \\n\",subarray2)"
      ],
      "metadata": {
        "colab": {
          "base_uri": "https://localhost:8080/"
        },
        "id": "PRTBcaI0ki4E",
        "outputId": "588aa7da-1b37-47e5-c38e-c9bdbdcfe89d"
      },
      "execution_count": null,
      "outputs": [
        {
          "output_type": "stream",
          "name": "stdout",
          "text": [
            "First Two Rows and Columns: \n",
            " [[ 1  3]\n",
            " [ 9 11]]\n",
            "Last two Rows and Columns: \n",
            " [[13 15]\n",
            " [ 6  8]]\n"
          ]
        }
      ]
    },
    {
      "cell_type": "code",
      "source": [
        "import numpy as np\n",
        "\n",
        "array1 = np.array([1, 3, 5, 7, 2, 4, 6, 8])\n",
        "\n",
        "# reshape a 1D array into a 2D array\n",
        "# with 2 rows and 4 columns\n",
        "result = np.reshape(array1, (2, 4))\n",
        "print(result)"
      ],
      "metadata": {
        "colab": {
          "base_uri": "https://localhost:8080/"
        },
        "id": "KB-gCUNjkmim",
        "outputId": "3a3d8cf8-d326-492f-c065-45e23c68ffba"
      },
      "execution_count": null,
      "outputs": [
        {
          "output_type": "stream",
          "name": "stdout",
          "text": [
            "[[1 3 5 7]\n",
            " [2 4 6 8]]\n"
          ]
        }
      ]
    },
    {
      "cell_type": "code",
      "source": [
        "import numpy as np\n",
        "\n",
        "# reshape a 1D array into a 2D array\n",
        "# with 4 rows and 2 columns\n",
        "array1 = np.array([1, 3, 5, 7, 2, 4, 6, 8])\n",
        "result1 = np.reshape(array1, (4, 2))\n",
        "print(\"With 4 rows and 2 columns: \\n\",result1)\n",
        "\n",
        "\n",
        "# reshape a 1D array into a 2D array with a single row\n",
        "result2 = np.reshape(array1, (1, 8))\n",
        "print(\"\\nWith a single row: \\n\",result2)"
      ],
      "metadata": {
        "colab": {
          "base_uri": "https://localhost:8080/"
        },
        "id": "Zq9ZVhm2k4Yp",
        "outputId": "17137af2-1348-4a1e-b5a1-601eaa3f8c2e"
      },
      "execution_count": null,
      "outputs": [
        {
          "output_type": "stream",
          "name": "stdout",
          "text": [
            "With 4 rows and 2 columns: \n",
            " [[1 3]\n",
            " [5 7]\n",
            " [2 4]\n",
            " [6 8]]\n",
            "\n",
            "With a single row: \n",
            " [[1 3 5 7 2 4 6 8]]\n"
          ]
        }
      ]
    },
    {
      "cell_type": "code",
      "source": [
        "import numpy as np\n",
        "\n",
        "# create a 1D array\n",
        "array1 = np.array([1, 3, 5, 7, 2, 4, 6, 8])\n",
        "\n",
        "# reshape the 1D array to a 3D array\n",
        "result = np.reshape(array1, (2, 2, 2))\n",
        "\n",
        "# print the new array\n",
        "print(\"1D to 3D Array: \\n\",result)"
      ],
      "metadata": {
        "colab": {
          "base_uri": "https://localhost:8080/"
        },
        "id": "QcOQnYmLk7P6",
        "outputId": "fce8afc3-a310-4855-deb2-4736787e376a"
      },
      "execution_count": null,
      "outputs": [
        {
          "output_type": "stream",
          "name": "stdout",
          "text": [
            "1D to 3D Array: \n",
            " [[[1 3]\n",
            "  [5 7]]\n",
            "\n",
            " [[2 4]\n",
            "  [6 8]]]\n"
          ]
        }
      ]
    },
    {
      "cell_type": "code",
      "source": [
        "import numpy as np\n",
        "\n",
        "# flatten 2D array to 1D\n",
        "array1 = np.array([[1, 3], [5, 7], [9, 11]])\n",
        "result1 = np.reshape(array1, -1)\n",
        "print(\"Flattened 2D array:\", result1)\n",
        "\n",
        "# flatten 3D array to 1D\n",
        "array2 = np.array([[[1, 3], [5, 7]], [[2, 4], [6, 8]]])\n",
        "result2 = np.reshape(array2, -1)\n",
        "print(\"Flattened 3D array:\", result2)"
      ],
      "metadata": {
        "colab": {
          "base_uri": "https://localhost:8080/"
        },
        "id": "Vk19xE0vlAA-",
        "outputId": "aa60e47f-8f78-4fa0-f64b-7d125b0448a5"
      },
      "execution_count": null,
      "outputs": [
        {
          "output_type": "stream",
          "name": "stdout",
          "text": [
            "Flattened 2D array: [ 1  3  5  7  9 11]\n",
            "Flattened 3D array: [1 3 5 7 2 4 6 8]\n"
          ]
        }
      ]
    },
    {
      "cell_type": "code",
      "source": [],
      "metadata": {
        "id": "DQI_hJzLrGvC"
      },
      "execution_count": null,
      "outputs": []
    }
  ]
}